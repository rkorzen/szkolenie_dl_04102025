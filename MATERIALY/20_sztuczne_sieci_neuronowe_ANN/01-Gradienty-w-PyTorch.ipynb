{
 "cells": [
  {
   "cell_type": "markdown",
   "metadata": {},
   "source": [
    "# Gradienty w PyTorch\n",
    "W tej sekcji omawiamy implementację spadku gradientowego w PyTorch przy użyciu modułu <a href='https://pytorch.org/docs/stable/autograd.html'>`autograd`</a>. Wykorzystamy narzędzia:\n",
    "\n",
    "* <a href='https://pytorch.org/docs/stable/autograd.html#torch.autograd.backward'>`torch.autograd.backward()`</a>\n",
    "* <a href='https://pytorch.org/docs/stable/autograd.html#torch.autograd.grad'>`torch.autograd.grad()`</a>\n",
    "\n",
    "\n",
    "Na wstępie musimy przypomnieć krótkio czym są te rzeczy:\n",
    "\n",
    "### Funkcje aktywacji\n",
    "\n",
    "* **Skokowa (Heaviside)** – bardzo prosta, zwraca `0` poniżej progu i `1` powyżej. Historyczna, ale nie nadaje się do trenowania sieci (brak pochodnej).\n",
    "* **Sigmoidalna (σ)** – odwzorowuje wejście w zakres `(0,1)`. Używana jako model „prawdopodobieństwa”. Dobrze gładka, ale przy dużych wartościach wejściowych gradient zanika.\n",
    "\n",
    "---\n",
    "\n",
    "### Kodowanie one-hot\n",
    "\n",
    "Reprezentacja kategorii jako wektora, w którym jedna pozycja ma wartość `1`, a pozostałe `0`.\n",
    "Np. klasa „kot” przy trzech klasach: `[1,0,0]`.\n",
    "\n",
    "---\n",
    "\n",
    "### Maksymalne prawdopodobieństwo (argmax)\n",
    "\n",
    "W klasyfikacji model zwraca rozkład prawdopodobieństwa po klasach (np. przez **softmax**). Klasa przewidywana to ta o największym prawdopodobieństwie (`argmax`).\n",
    "\n",
    "---\n",
    "\n",
    "### Entropia krzyżowa\n",
    "\n",
    "Miara różnicy między **rozkładem przewidywanym** a **rozkładem rzeczywistym**.\n",
    "\n",
    "* **Binary cross-entropy** – dla problemów 0/1.\n",
    "* **Categorical cross-entropy** – dla wielu klas (porównuje przewidywany rozkład softmax z etykietą one-hot).\n",
    "  Niższa wartość oznacza lepsze dopasowanie.\n",
    "\n",
    "---\n",
    "\n",
    "### Propagacja wsteczna (backprop)\n",
    "\n",
    "Algorytm wyznaczania gradientów w sieci neuronowej:\n",
    "\n",
    "1. Obliczamy błąd (loss).\n",
    "2. Rozchodzimy ten błąd wstecz przez warstwy, używając reguły łańcuchowej dla pochodnych.\n",
    "3. Używamy gradientów do aktualizacji wag (np. w metodzie SGD).\n",
    "\n",
    "---\n",
    "\n",
    "👉 Te pojęcia tworzą bazę do zrozumienia, jak PyTorch `autograd` automatycznie śledzi operacje na tensorach, liczy pochodne i pozwala na efektywne uczenie modeli.\n",
    "\n",
    "\n",
    "<div class=\"alert alert-info\"><h3>Dodatkowe materiały:</h3>\n",
    "<strong><a href='https://pytorch.org/docs/stable/notes/autograd.html'>Notatki PyTorch:</a></strong>&nbsp;&nbsp;<font color=black>Mechanika Autograd</font></div>\n"
   ]
  },
  {
   "cell_type": "markdown",
   "metadata": {},
   "source": [
    "## Autograd – automatyczne różniczkowanie\n",
    "We wcześniejszych częściach tworzyliśmy tensory i wykonywaliśmy na nich różne operacje, ale nie zapisywaliśmy ich sekwencji ani nie wyznaczaliśmy pochodnej gotowej funkcji.\n",
    "\n",
    "W tej sekcji wprowadzimy pojęcie <em>dynamicznego grafu obliczeniowego</em>, który składa się ze wszystkich obiektów typu <em>Tensor</em> w sieci oraz <em>funkcji</em>, które je utworzyły. Zauważ, że jedynie tensory wejściowe tworzone przez nas samych nie mają skojarzonych obiektów Function.\n",
    "\n",
    "Pakiet PyTorch <a href='https://pytorch.org/docs/stable/autograd.html'><strong><tt>autograd</tt></strong></a> zapewnia automatyczne różniczkowanie dla wszystkich operacji na tensorach. Dzieje się tak, ponieważ operacje stają się atrybutami samych tensorów. Gdy atrybut tensora <tt>.requires_grad</tt> ustawimy na True, tensor zaczyna śledzić wszystkie wykonywane na nim działania. Po zakończeniu sekwencji operacji możemy wywołać <tt>.backward()</tt>, aby obliczyć wszystkie gradienty automatycznie. Gradient tensora zostanie zsumowany w jego atrybucie <tt>.grad</tt>.\n",
    "\n",
    "Zobaczmy to w praktyce.\n"
   ]
  },
  {
   "cell_type": "markdown",
   "metadata": {},
   "source": [
    "## Propagacja wsteczna w jednym kroku\n",
    "Zaczniemy od zastosowania pojedynczej funkcji wielomianowej $y = f(x)$ do tensora $x$. Następnie wykonamy propagację wsteczną i wypiszemy gradient $\\frac {dy} {dx}$.\n",
    "\n",
    "$\\begin{split}Function:\\quad y &= 2x^4 + x^3 + 3x^2 + 5x + 1 \\\\\n",
    "Derivative:\\quad y' &= 8x^3 + 3x^2 + 6x + 5\\end{split}$\n",
    "\n",
    "#### Krok 1. Wykonaj standardowe importy\n"
   ]
  },
  {
   "cell_type": "code",
   "execution_count": 1,
   "metadata": {
    "ExecuteTime": {
     "end_time": "2025-09-30T18:50:49.840813Z",
     "start_time": "2025-09-30T18:50:49.834827Z"
    }
   },
   "outputs": [],
   "source": [
    "import torch"
   ]
  },
  {
   "cell_type": "markdown",
   "metadata": {},
   "source": [
    "#### Krok 2. Utwórz tensor z ustawionym <tt>requires_grad</tt> na True\n",
    "Dzięki temu tensor zacznie śledzić obliczenia.\n"
   ]
  },
  {
   "cell_type": "code",
   "execution_count": 2,
   "metadata": {
    "ExecuteTime": {
     "end_time": "2025-09-30T18:50:51.383753Z",
     "start_time": "2025-09-30T18:50:51.378869Z"
    }
   },
   "outputs": [],
   "source": [
    "x = torch.tensor(2.0, requires_grad=True)"
   ]
  },
  {
   "cell_type": "code",
   "execution_count": 3,
   "metadata": {
    "ExecuteTime": {
     "end_time": "2025-09-30T18:40:27.617080Z",
     "start_time": "2025-09-30T18:40:27.614940Z"
    }
   },
   "outputs": [],
   "source": [
    "x.grad"
   ]
  },
  {
   "cell_type": "markdown",
   "metadata": {},
   "source": [
    "#### Krok 3. Zdefiniuj funkcję\n"
   ]
  },
  {
   "cell_type": "code",
   "execution_count": 4,
   "metadata": {
    "ExecuteTime": {
     "end_time": "2025-09-30T18:40:28.741973Z",
     "start_time": "2025-09-30T18:40:28.735865Z"
    }
   },
   "outputs": [
    {
     "name": "stdout",
     "output_type": "stream",
     "text": [
      "tensor(63., grad_fn=<AddBackward0>)\n"
     ]
    }
   ],
   "source": [
    "y = 2*x**4 + x**3 + 3*x**2 + 5*x + 1\n",
    "\n",
    "print(y)"
   ]
  },
  {
   "cell_type": "markdown",
   "metadata": {},
   "source": [
    "Ponieważ $y$ powstało w wyniku operacji, ma skojarzoną funkcję gradientu dostępną jako <tt>y.grad_fn</tt>.<br>\n",
    "Obliczenie $y$ przebiega następująco:<br>\n",
    "\n",
    "$\\quad y=2(2)^4+(2)^3+3(2)^2+5(2)+1 = 32+8+12+10+1 = 63$\n",
    "\n",
    "To wartość $y$ dla $x=2$.\n",
    "\n",
    "#### Krok 4. Propagacja wsteczna\n"
   ]
  },
  {
   "cell_type": "code",
   "execution_count": 5,
   "metadata": {
    "ExecuteTime": {
     "end_time": "2025-09-30T18:40:30.223697Z",
     "start_time": "2025-09-30T18:40:30.133586Z"
    }
   },
   "outputs": [],
   "source": [
    "y.backward()"
   ]
  },
  {
   "cell_type": "markdown",
   "metadata": {},
   "source": [
    "#### Krok 5. Wyświetl uzyskany gradient\n"
   ]
  },
  {
   "cell_type": "code",
   "execution_count": 6,
   "metadata": {
    "ExecuteTime": {
     "end_time": "2025-09-30T18:40:31.629977Z",
     "start_time": "2025-09-30T18:40:31.627563Z"
    }
   },
   "outputs": [
    {
     "name": "stdout",
     "output_type": "stream",
     "text": [
      "tensor(93.)\n"
     ]
    }
   ],
   "source": [
    "print(x.grad)"
   ]
  },
  {
   "cell_type": "markdown",
   "metadata": {},
   "source": [
    "Zauważ, że <tt>x.grad</tt> jest atrybutem tensora $x$, dlatego nie używamy nawiasów. Obliczenie ma postać<br>\n",
    "\n",
    "$\\quad y'=8(2)^3+3(2)^2+6(2)+5 = 64+12+12+5 = 93$\n",
    "\n",
    "To nachylenie wielomianu w punkcie $(2,63)$.\n",
    "\n",
    "## Propagacja wsteczna w wielu krokach\n",
    "Teraz wykonajmy coś bardziej złożonego, z warstwami $y$ i $z$ pomiędzy $x$ a warstwą wyjściową $out$.\n",
    "#### 1. Utwórz tensor\n"
   ]
  },
  {
   "cell_type": "code",
   "execution_count": 7,
   "metadata": {
    "ExecuteTime": {
     "end_time": "2025-09-30T18:40:38.251961Z",
     "start_time": "2025-09-30T18:40:38.247952Z"
    }
   },
   "outputs": [
    {
     "name": "stdout",
     "output_type": "stream",
     "text": [
      "tensor([[1., 2., 3.],\n",
      "        [3., 2., 1.]], requires_grad=True)\n"
     ]
    }
   ],
   "source": [
    "x = torch.tensor([[1.,2,3],[3,2,1]], requires_grad=True)\n",
    "print(x)"
   ]
  },
  {
   "cell_type": "markdown",
   "metadata": {},
   "source": [
    "#### 2. Utwórz pierwszą warstwę z $y = 3x+2$\n"
   ]
  },
  {
   "cell_type": "code",
   "execution_count": 8,
   "metadata": {
    "ExecuteTime": {
     "end_time": "2025-09-30T18:40:39.671745Z",
     "start_time": "2025-09-30T18:40:39.669077Z"
    }
   },
   "outputs": [
    {
     "name": "stdout",
     "output_type": "stream",
     "text": [
      "tensor([[ 5.,  8., 11.],\n",
      "        [11.,  8.,  5.]], grad_fn=<AddBackward0>)\n"
     ]
    }
   ],
   "source": [
    "y = 3*x + 2\n",
    "print(y)"
   ]
  },
  {
   "cell_type": "markdown",
   "metadata": {},
   "source": [
    "#### 3. Utwórz drugą warstwę z $z = 2y^2$\n"
   ]
  },
  {
   "cell_type": "code",
   "execution_count": 9,
   "metadata": {
    "ExecuteTime": {
     "end_time": "2025-09-30T18:40:40.937432Z",
     "start_time": "2025-09-30T18:40:40.934592Z"
    }
   },
   "outputs": [
    {
     "name": "stdout",
     "output_type": "stream",
     "text": [
      "tensor([[ 50., 128., 242.],\n",
      "        [242., 128.,  50.]], grad_fn=<MulBackward0>)\n"
     ]
    }
   ],
   "source": [
    "z = 2*y**2\n",
    "print(z)"
   ]
  },
  {
   "cell_type": "markdown",
   "metadata": {},
   "source": [
    "#### 4. Ustaw wyjście jako średnią macierzy\n"
   ]
  },
  {
   "cell_type": "markdown",
   "metadata": {},
   "source": []
  },
  {
   "cell_type": "code",
   "execution_count": 10,
   "metadata": {
    "ExecuteTime": {
     "end_time": "2025-09-30T18:40:42.380151Z",
     "start_time": "2025-09-30T18:40:42.376874Z"
    }
   },
   "outputs": [
    {
     "name": "stdout",
     "output_type": "stream",
     "text": [
      "tensor(140., grad_fn=<MeanBackward0>)\n"
     ]
    }
   ],
   "source": [
    "out = z.mean()\n",
    "print(out)"
   ]
  },
  {
   "cell_type": "markdown",
   "metadata": {},
   "source": [
    "#### 5. Wykonaj propagację wsteczną, aby znaleźć gradient $x$ względem <tt>out</tt>\n",
    "(Jeśli widzisz ten skrót po raz pierwszy, w.r.t. oznacza <em>with respect to</em>, czyli „względem”.)\n"
   ]
  },
  {
   "cell_type": "code",
   "execution_count": 11,
   "metadata": {
    "ExecuteTime": {
     "end_time": "2025-09-30T18:40:44.750550Z",
     "start_time": "2025-09-30T18:40:44.746697Z"
    }
   },
   "outputs": [
    {
     "name": "stdout",
     "output_type": "stream",
     "text": [
      "tensor([[10., 16., 22.],\n",
      "        [22., 16., 10.]])\n"
     ]
    }
   ],
   "source": [
    "out.backward()\n",
    "print(x.grad)"
   ]
  },
  {
   "cell_type": "markdown",
   "metadata": {},
   "source": [
    "Powinieneś zobaczyć macierz 2x3. Jeśli nazwiemy końcowy tensor <tt>out</tt> jako \"$o$\", wówczas możemy obliczyć pochodną cząstkową $o$ względem $x_i$ następująco:<br>\n",
    "\n",
    "$o = \\frac {1} {6}\\sum_{i=1}^{6} z_i$<br>\n",
    "\n",
    "$z_i = 2(y_i)^2 = 2(3x_i+2)^2$<br>\n",
    "\n",
    "Aby wyznaczyć pochodną $z_i$, korzystamy z <a href='https://en.wikipedia.org/wiki/Chain_rule'>reguły łańcuchowej</a>, według której pochodna $f(g(x)) = f'(g(x))g'(x)$.<br>\n",
    "\n",
    "W naszym przypadku<br>\n",
    "\n",
    "$\\begin{split} f(g(x)) &= 2(g(x))^2, \\quad &f'(g(x)) = 4g(x) \\\\\n",
    "g(x) &= 3x+2, &g'(x) = 3 \\\\\n",
    "\\frac {dz} {dx} &= 4g(x)\\times 3 &= 12(3x+2) \\end{split}$\n",
    "\n",
    "Zatem<br>\n",
    "\n",
    "$\\frac{\\partial o}{\\partial x_i} = \\frac{1}{6}\\times 12(3x+2)$<br>\n",
    "\n",
    "$\\frac{\\partial o}{\\partial x_i}\\bigr\\rvert_{x_i=1} = 2(3(1)+2) = 10$\n",
    "\n",
    "$\\frac{\\partial o}{\\partial x_i}\\bigr\\rvert_{x_i=2} = 2(3(2)+2) = 16$\n",
    "\n",
    "$\\frac{\\partial o}{\\partial x_i}\\bigr\\rvert_{x_i=3} = 2(3(3)+2) = 22$\n"
   ]
  },
  {
   "cell_type": "markdown",
   "metadata": {},
   "source": [
    "## Wyłącz śledzenie\n",
    "Zdarzają się sytuacje, w których nie chcemy lub nie musimy śledzić historii obliczeń.\n",
    "\n",
    "Możesz ponownie ustawić atrybut tensora <tt>requires_grad</tt> w miejscu, używając `.requires_grad_(True)` (lub False) w razie potrzeby.\n",
    "\n",
    "Podczas ewaluacji często warto owinąć operacje blokiem `with torch.no_grad():`\n",
    "\n",
    "Rzadziej stosowaną metodą jest wywołanie `.detach()` na tensorze, aby uniemożliwić śledzenie przyszłych obliczeń. To przydatne podczas klonowania tensora. Nam też sie przyda w paru miejscach.\n"
   ]
  },
  {
   "cell_type": "code",
   "execution_count": null,
   "metadata": {},
   "outputs": [],
   "source": []
  },
  {
   "cell_type": "code",
   "execution_count": null,
   "metadata": {},
   "outputs": [],
   "source": []
  }
 ],
 "metadata": {
  "kernelspec": {
   "display_name": "Python 3 (ipykernel)",
   "language": "python",
   "name": "python3"
  },
  "language_info": {
   "codemirror_mode": {
    "name": "ipython",
    "version": 3
   },
   "file_extension": ".py",
   "mimetype": "text/x-python",
   "name": "python",
   "nbconvert_exporter": "python",
   "pygments_lexer": "ipython3",
   "version": "3.12.9"
  }
 },
 "nbformat": 4,
 "nbformat_minor": 4
}
