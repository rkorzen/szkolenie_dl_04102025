{
 "cells": [
  {
   "cell_type": "markdown",
   "metadata": {},
   "source": [
    "\n",
    "# Kompletny przykład sztucznej sieci neuronowej – **KLASYFIKACJA**\n",
    "\n",
    "W poprzedniej sekcji korzystaliśmy z czterech zmiennych ciągłych (długości), aby przeprowadzić klasyfikację.  \n",
    "\n",
    "Teraz połączymy dane **ciągłe** i **kategoryczne**, by wykonać podobną klasyfikację.  \n",
    "\n",
    "Celem jest oszacowanie, czy **przejazd taksówką w Nowym Jorku kosztuje mniej czy więcej niż 10 dolarów**, na podstawie kilku zmiennych wejściowych. \n",
    "\n",
    "Inspiracją do tego ćwiczenia jest [konkurs na Kaggle](https://www.kaggle.com/c/new-york-city-taxi-fare-prediction).\n",
    "\n",
    "<div class=\"alert alert-success\">\n",
    "<strong>UWAGA:</strong>  \n",
    "Ten notatnik różni się od poprzedniego notatnika regresyjnego tym, że dla zbioru <tt><strong>y</strong></tt> używamy kolumny <tt>'fare_class'</tt>.  \n",
    "Wyjście ma **dwie wartości zamiast jednej**.  \n",
    "W tym zadaniu uczymy **model klasyfikacji binarnej** – przewiduje, czy kurs kosztuje **poniżej** czy **powyżej** 10 dolarów.\n",
    "</div>\n",
    "\n",
    "---\n",
    "\n",
    "## Praca z danymi tabelarycznymi\n",
    "\n",
    "Uczenie głębokie z sieciami neuronowymi często kojarzy się z zaawansowanym rozpoznawaniem obrazów.  \n",
    "W kolejnych rozdziałach będziemy trenować modele analizujące piksele, wzorce i kolory.\n",
    "\n",
    "Tym razem pracujemy z **danymi tabelarycznymi** (arkusze kalkulacyjne, tabele SQL itp.), w których kolumny mogą – ale nie muszą – być istotne.  \n",
    "\n",
    "Sieci neuronowe potrafią odkrywać zależności, na które sami byśmy nie wpadli.  \n",
    "Aby to było możliwe, musimy traktować zmienne **kategoryczne** inaczej niż **ciągłe**.\n",
    "\n",
    "---\n",
    "\n",
    "### Kluczowe zagadnienia\n",
    "\n",
    "- **wartości ciągłe vs. kategoryczne**  \n",
    "- **embeddings**  \n",
    "- **batch normalization**  \n",
    "- **warstwy dropout**\n",
    "```\n",
    "\n",
    "Chcesz, żebym też zamienił ten `<div class=\"alert ...\">` na czysto-markdownowy blok typu > **UWAGA:**, żeby było w 100% zgodne z Markdownem, czy zostawić w wersji HTML (tak jak masz teraz)?\n"
   ]
  },
  {
   "cell_type": "markdown",
   "metadata": {},
   "source": [
    "## Wykonaj standardowe importy\n"
   ]
  },
  {
   "cell_type": "code",
   "execution_count": 1,
   "metadata": {},
   "outputs": [],
   "source": [
    "import torch\n",
    "import torch.nn as nn\n",
    "\n",
    "import numpy as np\n",
    "import pandas as pd\n",
    "import matplotlib.pyplot as plt\n",
    "%matplotlib inline"
   ]
  },
  {
   "cell_type": "markdown",
   "metadata": {},
   "source": [
    "## Wczytaj zbiór NYC Taxi Fares\n",
    "<a href='https://www.kaggle.com/c/new-york-city-taxi-fare-prediction'>Konkurs Kaggle</a> udostępnia zbiór około 55 milionów rekordów. Dane obejmują wyłącznie datę i godzinę rozpoczęcia kursu, współrzędne GPS miejsca startu i zakończenia oraz liczbę pasażerów. To uczestnik konkursu decyduje, jakie dodatkowe informacje wydobyć. Czy pora dnia ma znaczenie? Dzień tygodnia? Jak wyliczyć odległość na podstawie par współrzędnych GPS?\n",
    "\n",
    "Na potrzeby ćwiczenia ograniczyliśmy zbiór do 120 000 rekordów z okresu 11–24 kwietnia 2010 r. Rekordy są losowo posortowane. Pokażemy, jak obliczyć odległość ze współrzędnych GPS oraz jak stworzyć obiekt datetime z kolumny tekstowej. Dzięki temu szybko uzyskamy informacje takie jak dzień tygodnia czy podział na AM/PM.\n",
    "\n",
    "Zaczynajmy!\n"
   ]
  },
  {
   "cell_type": "code",
   "execution_count": 2,
   "metadata": {},
   "outputs": [
    {
     "data": {
      "text/html": [
       "<div>\n",
       "<style scoped>\n",
       "    .dataframe tbody tr th:only-of-type {\n",
       "        vertical-align: middle;\n",
       "    }\n",
       "\n",
       "    .dataframe tbody tr th {\n",
       "        vertical-align: top;\n",
       "    }\n",
       "\n",
       "    .dataframe thead th {\n",
       "        text-align: right;\n",
       "    }\n",
       "</style>\n",
       "<table border=\"1\" class=\"dataframe\">\n",
       "  <thead>\n",
       "    <tr style=\"text-align: right;\">\n",
       "      <th></th>\n",
       "      <th>pickup_datetime</th>\n",
       "      <th>fare_amount</th>\n",
       "      <th>fare_class</th>\n",
       "      <th>pickup_longitude</th>\n",
       "      <th>pickup_latitude</th>\n",
       "      <th>dropoff_longitude</th>\n",
       "      <th>dropoff_latitude</th>\n",
       "      <th>passenger_count</th>\n",
       "    </tr>\n",
       "  </thead>\n",
       "  <tbody>\n",
       "    <tr>\n",
       "      <th>0</th>\n",
       "      <td>2010-04-19 08:17:56 UTC</td>\n",
       "      <td>6.5</td>\n",
       "      <td>0</td>\n",
       "      <td>-73.992365</td>\n",
       "      <td>40.730521</td>\n",
       "      <td>-73.975499</td>\n",
       "      <td>40.744746</td>\n",
       "      <td>1</td>\n",
       "    </tr>\n",
       "    <tr>\n",
       "      <th>1</th>\n",
       "      <td>2010-04-17 15:43:53 UTC</td>\n",
       "      <td>6.9</td>\n",
       "      <td>0</td>\n",
       "      <td>-73.990078</td>\n",
       "      <td>40.740558</td>\n",
       "      <td>-73.974232</td>\n",
       "      <td>40.744114</td>\n",
       "      <td>1</td>\n",
       "    </tr>\n",
       "    <tr>\n",
       "      <th>2</th>\n",
       "      <td>2010-04-17 11:23:26 UTC</td>\n",
       "      <td>10.1</td>\n",
       "      <td>1</td>\n",
       "      <td>-73.994149</td>\n",
       "      <td>40.751118</td>\n",
       "      <td>-73.960064</td>\n",
       "      <td>40.766235</td>\n",
       "      <td>2</td>\n",
       "    </tr>\n",
       "    <tr>\n",
       "      <th>3</th>\n",
       "      <td>2010-04-11 21:25:03 UTC</td>\n",
       "      <td>8.9</td>\n",
       "      <td>0</td>\n",
       "      <td>-73.990485</td>\n",
       "      <td>40.756422</td>\n",
       "      <td>-73.971205</td>\n",
       "      <td>40.748192</td>\n",
       "      <td>1</td>\n",
       "    </tr>\n",
       "    <tr>\n",
       "      <th>4</th>\n",
       "      <td>2010-04-17 02:19:01 UTC</td>\n",
       "      <td>19.7</td>\n",
       "      <td>1</td>\n",
       "      <td>-73.990976</td>\n",
       "      <td>40.734202</td>\n",
       "      <td>-73.905956</td>\n",
       "      <td>40.743115</td>\n",
       "      <td>1</td>\n",
       "    </tr>\n",
       "  </tbody>\n",
       "</table>\n",
       "</div>"
      ],
      "text/plain": [
       "           pickup_datetime  fare_amount  fare_class  pickup_longitude  \\\n",
       "0  2010-04-19 08:17:56 UTC          6.5           0        -73.992365   \n",
       "1  2010-04-17 15:43:53 UTC          6.9           0        -73.990078   \n",
       "2  2010-04-17 11:23:26 UTC         10.1           1        -73.994149   \n",
       "3  2010-04-11 21:25:03 UTC          8.9           0        -73.990485   \n",
       "4  2010-04-17 02:19:01 UTC         19.7           1        -73.990976   \n",
       "\n",
       "   pickup_latitude  dropoff_longitude  dropoff_latitude  passenger_count  \n",
       "0        40.730521         -73.975499         40.744746                1  \n",
       "1        40.740558         -73.974232         40.744114                1  \n",
       "2        40.751118         -73.960064         40.766235                2  \n",
       "3        40.756422         -73.971205         40.748192                1  \n",
       "4        40.734202         -73.905956         40.743115                1  "
      ]
     },
     "execution_count": 2,
     "metadata": {},
     "output_type": "execute_result"
    }
   ],
   "source": [
    "df = pd.read_csv('../Data/NYCTaxiFares.csv')\n",
    "df.head()"
   ]
  },
  {
   "cell_type": "code",
   "execution_count": 3,
   "metadata": {},
   "outputs": [
    {
     "data": {
      "text/plain": [
       "fare_class\n",
       "0    80000\n",
       "1    40000\n",
       "Name: count, dtype: int64"
      ]
     },
     "execution_count": 3,
     "metadata": {},
     "output_type": "execute_result"
    }
   ],
   "source": [
    "df['fare_class'].value_counts()"
   ]
  },
  {
   "cell_type": "markdown",
   "metadata": {},
   "source": [
    "Wygodnie, bo 2/3 danych zawiera kursy tańsze niż \\$10, a 1/3 droższe lub równe \\$10.\n"
   ]
  },
  {
   "cell_type": "markdown",
   "metadata": {},
   "source": [
    "Klasy odpowiadają kwotom przejazdu następująco:\n",
    "<table style=\"display: inline-block\">\n",
    "<tr><th>Klasa</th><th>Wartości</th></tr>\n",
    "<tr><td>0</td><td>< \\$10.00</td></tr>\n",
    "<tr><td>1</td><td>>= \\$10.00</td></tr>\n",
    "</table>\n"
   ]
  },
  {
   "cell_type": "markdown",
   "metadata": {},
   "source": [
    "## Oblicz przejechaną odległość\n",
    "<a href='https://en.wikipedia.org/wiki/Haversine_formula'>Wzór haversine</a> wyznacza odległość na kuli pomiędzy dwiema parami współrzędnych GPS.<br>\n",
    "Szerokość geograficzną oznaczymy przez $\\varphi$ (phi), a długość przez $\\lambda$ (lambda).\n",
    "\n",
    "Wzór przyjmuje postać\n",
    "\n",
    "${\\displaystyle d=2r\\arcsin \\left({\\sqrt {\\sin ^{2}\\left({\\frac {\\varphi _{2}-\\varphi _{1}}{2}}\\right)+\\cos(\\varphi _{1})\\:\\cos(\\varphi _{2})\\:\\sin ^{2}\\left({\\frac {\\lambda _{2}-\\lambda _{1}}{2}}\\right)}}\\right)}$\n",
    "\n",
    "przy czym\n",
    "\n",
    "$\\begin{split} r&: \\text{promień kuli (średni promień Ziemi to 6371 km)}\\\\\n",
    "\\varphi_1, \\varphi_2&: \\text{szerokości geograficzne punktów 1 i 2}\\\\\n",
    "\\lambda_1, \\lambda_2&: \\text{długości geograficzne punktów 1 i 2}\\end{split}$\n"
   ]
  },
  {
   "cell_type": "code",
   "execution_count": 4,
   "metadata": {},
   "outputs": [],
   "source": [
    "def haversine_distance(df, lat1, long1, lat2, long2):\n",
    "    \"\"\"\n",
    "    Calculates the haversine distance between 2 sets of GPS coordinates in df\n",
    "    \"\"\"\n",
    "    r = 6371  # średni promień Ziemi w kilometrach\n",
    "       \n",
    "    phi1 = np.radians(df[lat1])\n",
    "    phi2 = np.radians(df[lat2])\n",
    "    \n",
    "    delta_phi = np.radians(df[lat2]-df[lat1])\n",
    "    delta_lambda = np.radians(df[long2]-df[long1])\n",
    "     \n",
    "    a = np.sin(delta_phi/2)**2 + np.cos(phi1) * np.cos(phi2) * np.sin(delta_lambda/2)**2\n",
    "    c = 2 * np.arctan2(np.sqrt(a), np.sqrt(1-a))\n",
    "    d = (r * c) # w kilometrach\n",
    "\n",
    "    return d"
   ]
  },
  {
   "cell_type": "code",
   "execution_count": 5,
   "metadata": {},
   "outputs": [
    {
     "data": {
      "text/html": [
       "<div>\n",
       "<style scoped>\n",
       "    .dataframe tbody tr th:only-of-type {\n",
       "        vertical-align: middle;\n",
       "    }\n",
       "\n",
       "    .dataframe tbody tr th {\n",
       "        vertical-align: top;\n",
       "    }\n",
       "\n",
       "    .dataframe thead th {\n",
       "        text-align: right;\n",
       "    }\n",
       "</style>\n",
       "<table border=\"1\" class=\"dataframe\">\n",
       "  <thead>\n",
       "    <tr style=\"text-align: right;\">\n",
       "      <th></th>\n",
       "      <th>pickup_datetime</th>\n",
       "      <th>fare_amount</th>\n",
       "      <th>fare_class</th>\n",
       "      <th>pickup_longitude</th>\n",
       "      <th>pickup_latitude</th>\n",
       "      <th>dropoff_longitude</th>\n",
       "      <th>dropoff_latitude</th>\n",
       "      <th>passenger_count</th>\n",
       "      <th>dist_km</th>\n",
       "    </tr>\n",
       "  </thead>\n",
       "  <tbody>\n",
       "    <tr>\n",
       "      <th>0</th>\n",
       "      <td>2010-04-19 08:17:56 UTC</td>\n",
       "      <td>6.5</td>\n",
       "      <td>0</td>\n",
       "      <td>-73.992365</td>\n",
       "      <td>40.730521</td>\n",
       "      <td>-73.975499</td>\n",
       "      <td>40.744746</td>\n",
       "      <td>1</td>\n",
       "      <td>2.126312</td>\n",
       "    </tr>\n",
       "    <tr>\n",
       "      <th>1</th>\n",
       "      <td>2010-04-17 15:43:53 UTC</td>\n",
       "      <td>6.9</td>\n",
       "      <td>0</td>\n",
       "      <td>-73.990078</td>\n",
       "      <td>40.740558</td>\n",
       "      <td>-73.974232</td>\n",
       "      <td>40.744114</td>\n",
       "      <td>1</td>\n",
       "      <td>1.392307</td>\n",
       "    </tr>\n",
       "    <tr>\n",
       "      <th>2</th>\n",
       "      <td>2010-04-17 11:23:26 UTC</td>\n",
       "      <td>10.1</td>\n",
       "      <td>1</td>\n",
       "      <td>-73.994149</td>\n",
       "      <td>40.751118</td>\n",
       "      <td>-73.960064</td>\n",
       "      <td>40.766235</td>\n",
       "      <td>2</td>\n",
       "      <td>3.326763</td>\n",
       "    </tr>\n",
       "    <tr>\n",
       "      <th>3</th>\n",
       "      <td>2010-04-11 21:25:03 UTC</td>\n",
       "      <td>8.9</td>\n",
       "      <td>0</td>\n",
       "      <td>-73.990485</td>\n",
       "      <td>40.756422</td>\n",
       "      <td>-73.971205</td>\n",
       "      <td>40.748192</td>\n",
       "      <td>1</td>\n",
       "      <td>1.864129</td>\n",
       "    </tr>\n",
       "    <tr>\n",
       "      <th>4</th>\n",
       "      <td>2010-04-17 02:19:01 UTC</td>\n",
       "      <td>19.7</td>\n",
       "      <td>1</td>\n",
       "      <td>-73.990976</td>\n",
       "      <td>40.734202</td>\n",
       "      <td>-73.905956</td>\n",
       "      <td>40.743115</td>\n",
       "      <td>1</td>\n",
       "      <td>7.231321</td>\n",
       "    </tr>\n",
       "  </tbody>\n",
       "</table>\n",
       "</div>"
      ],
      "text/plain": [
       "           pickup_datetime  fare_amount  fare_class  pickup_longitude  \\\n",
       "0  2010-04-19 08:17:56 UTC          6.5           0        -73.992365   \n",
       "1  2010-04-17 15:43:53 UTC          6.9           0        -73.990078   \n",
       "2  2010-04-17 11:23:26 UTC         10.1           1        -73.994149   \n",
       "3  2010-04-11 21:25:03 UTC          8.9           0        -73.990485   \n",
       "4  2010-04-17 02:19:01 UTC         19.7           1        -73.990976   \n",
       "\n",
       "   pickup_latitude  dropoff_longitude  dropoff_latitude  passenger_count  \\\n",
       "0        40.730521         -73.975499         40.744746                1   \n",
       "1        40.740558         -73.974232         40.744114                1   \n",
       "2        40.751118         -73.960064         40.766235                2   \n",
       "3        40.756422         -73.971205         40.748192                1   \n",
       "4        40.734202         -73.905956         40.743115                1   \n",
       "\n",
       "    dist_km  \n",
       "0  2.126312  \n",
       "1  1.392307  \n",
       "2  3.326763  \n",
       "3  1.864129  \n",
       "4  7.231321  "
      ]
     },
     "execution_count": 5,
     "metadata": {},
     "output_type": "execute_result"
    }
   ],
   "source": [
    "df['dist_km'] = haversine_distance(df,'pickup_latitude', 'pickup_longitude', 'dropoff_latitude', 'dropoff_longitude')\n",
    "df.head()"
   ]
  },
  {
   "cell_type": "markdown",
   "metadata": {},
   "source": [
    "## Dodaj kolumnę datetime i wyprowadź przydatne statystyki\n",
    "Tworząc obiekt datetime, możemy wydobyć informacje takie jak „dzień tygodnia” czy „przed południem / po południu”. Zwróć uwagę, że dane zapisano w czasie UTC. Nasz zakres obejmuje kwiecień 2010 r., czyli okres obowiązywania czasu letniego w Nowym Jorku. Dlatego przeliczymy czas na EDT, odejmując cztery godziny (UTC-4).\n"
   ]
  },
  {
   "cell_type": "code",
   "execution_count": 6,
   "metadata": {},
   "outputs": [
    {
     "data": {
      "text/html": [
       "<div>\n",
       "<style scoped>\n",
       "    .dataframe tbody tr th:only-of-type {\n",
       "        vertical-align: middle;\n",
       "    }\n",
       "\n",
       "    .dataframe tbody tr th {\n",
       "        vertical-align: top;\n",
       "    }\n",
       "\n",
       "    .dataframe thead th {\n",
       "        text-align: right;\n",
       "    }\n",
       "</style>\n",
       "<table border=\"1\" class=\"dataframe\">\n",
       "  <thead>\n",
       "    <tr style=\"text-align: right;\">\n",
       "      <th></th>\n",
       "      <th>pickup_datetime</th>\n",
       "      <th>fare_amount</th>\n",
       "      <th>fare_class</th>\n",
       "      <th>pickup_longitude</th>\n",
       "      <th>pickup_latitude</th>\n",
       "      <th>dropoff_longitude</th>\n",
       "      <th>dropoff_latitude</th>\n",
       "      <th>passenger_count</th>\n",
       "      <th>dist_km</th>\n",
       "      <th>EDTdate</th>\n",
       "      <th>Hour</th>\n",
       "      <th>AMorPM</th>\n",
       "      <th>Weekday</th>\n",
       "    </tr>\n",
       "  </thead>\n",
       "  <tbody>\n",
       "    <tr>\n",
       "      <th>0</th>\n",
       "      <td>2010-04-19 08:17:56 UTC</td>\n",
       "      <td>6.5</td>\n",
       "      <td>0</td>\n",
       "      <td>-73.992365</td>\n",
       "      <td>40.730521</td>\n",
       "      <td>-73.975499</td>\n",
       "      <td>40.744746</td>\n",
       "      <td>1</td>\n",
       "      <td>2.126312</td>\n",
       "      <td>2010-04-19 04:17:56</td>\n",
       "      <td>4</td>\n",
       "      <td>am</td>\n",
       "      <td>Mon</td>\n",
       "    </tr>\n",
       "    <tr>\n",
       "      <th>1</th>\n",
       "      <td>2010-04-17 15:43:53 UTC</td>\n",
       "      <td>6.9</td>\n",
       "      <td>0</td>\n",
       "      <td>-73.990078</td>\n",
       "      <td>40.740558</td>\n",
       "      <td>-73.974232</td>\n",
       "      <td>40.744114</td>\n",
       "      <td>1</td>\n",
       "      <td>1.392307</td>\n",
       "      <td>2010-04-17 11:43:53</td>\n",
       "      <td>11</td>\n",
       "      <td>am</td>\n",
       "      <td>Sat</td>\n",
       "    </tr>\n",
       "    <tr>\n",
       "      <th>2</th>\n",
       "      <td>2010-04-17 11:23:26 UTC</td>\n",
       "      <td>10.1</td>\n",
       "      <td>1</td>\n",
       "      <td>-73.994149</td>\n",
       "      <td>40.751118</td>\n",
       "      <td>-73.960064</td>\n",
       "      <td>40.766235</td>\n",
       "      <td>2</td>\n",
       "      <td>3.326763</td>\n",
       "      <td>2010-04-17 07:23:26</td>\n",
       "      <td>7</td>\n",
       "      <td>am</td>\n",
       "      <td>Sat</td>\n",
       "    </tr>\n",
       "    <tr>\n",
       "      <th>3</th>\n",
       "      <td>2010-04-11 21:25:03 UTC</td>\n",
       "      <td>8.9</td>\n",
       "      <td>0</td>\n",
       "      <td>-73.990485</td>\n",
       "      <td>40.756422</td>\n",
       "      <td>-73.971205</td>\n",
       "      <td>40.748192</td>\n",
       "      <td>1</td>\n",
       "      <td>1.864129</td>\n",
       "      <td>2010-04-11 17:25:03</td>\n",
       "      <td>17</td>\n",
       "      <td>pm</td>\n",
       "      <td>Sun</td>\n",
       "    </tr>\n",
       "    <tr>\n",
       "      <th>4</th>\n",
       "      <td>2010-04-17 02:19:01 UTC</td>\n",
       "      <td>19.7</td>\n",
       "      <td>1</td>\n",
       "      <td>-73.990976</td>\n",
       "      <td>40.734202</td>\n",
       "      <td>-73.905956</td>\n",
       "      <td>40.743115</td>\n",
       "      <td>1</td>\n",
       "      <td>7.231321</td>\n",
       "      <td>2010-04-16 22:19:01</td>\n",
       "      <td>22</td>\n",
       "      <td>pm</td>\n",
       "      <td>Fri</td>\n",
       "    </tr>\n",
       "  </tbody>\n",
       "</table>\n",
       "</div>"
      ],
      "text/plain": [
       "           pickup_datetime  fare_amount  fare_class  pickup_longitude  \\\n",
       "0  2010-04-19 08:17:56 UTC          6.5           0        -73.992365   \n",
       "1  2010-04-17 15:43:53 UTC          6.9           0        -73.990078   \n",
       "2  2010-04-17 11:23:26 UTC         10.1           1        -73.994149   \n",
       "3  2010-04-11 21:25:03 UTC          8.9           0        -73.990485   \n",
       "4  2010-04-17 02:19:01 UTC         19.7           1        -73.990976   \n",
       "\n",
       "   pickup_latitude  dropoff_longitude  dropoff_latitude  passenger_count  \\\n",
       "0        40.730521         -73.975499         40.744746                1   \n",
       "1        40.740558         -73.974232         40.744114                1   \n",
       "2        40.751118         -73.960064         40.766235                2   \n",
       "3        40.756422         -73.971205         40.748192                1   \n",
       "4        40.734202         -73.905956         40.743115                1   \n",
       "\n",
       "    dist_km             EDTdate  Hour AMorPM Weekday  \n",
       "0  2.126312 2010-04-19 04:17:56     4     am     Mon  \n",
       "1  1.392307 2010-04-17 11:43:53    11     am     Sat  \n",
       "2  3.326763 2010-04-17 07:23:26     7     am     Sat  \n",
       "3  1.864129 2010-04-11 17:25:03    17     pm     Sun  \n",
       "4  7.231321 2010-04-16 22:19:01    22     pm     Fri  "
      ]
     },
     "execution_count": 6,
     "metadata": {},
     "output_type": "execute_result"
    }
   ],
   "source": [
    "df['EDTdate'] = pd.to_datetime(df['pickup_datetime'].str[:19]) - pd.Timedelta(hours=4)\n",
    "df['Hour'] = df['EDTdate'].dt.hour\n",
    "df['AMorPM'] = np.where(df['Hour']<12,'am','pm')\n",
    "df['Weekday'] = df['EDTdate'].dt.strftime(\"%a\")\n",
    "df.head()"
   ]
  },
  {
   "cell_type": "code",
   "execution_count": 7,
   "metadata": {},
   "outputs": [
    {
     "data": {
      "text/plain": [
       "Timestamp('2010-04-11 00:00:10')"
      ]
     },
     "execution_count": 7,
     "metadata": {},
     "output_type": "execute_result"
    }
   ],
   "source": [
    "df['EDTdate'].min()"
   ]
  },
  {
   "cell_type": "code",
   "execution_count": 8,
   "metadata": {},
   "outputs": [
    {
     "data": {
      "text/plain": [
       "Timestamp('2010-04-24 23:59:42')"
      ]
     },
     "execution_count": 8,
     "metadata": {},
     "output_type": "execute_result"
    }
   ],
   "source": [
    "df['EDTdate'].max()"
   ]
  },
  {
   "cell_type": "markdown",
   "metadata": {},
   "source": [
    "## Oddziel kolumny kategoryczne od ciągłych\n"
   ]
  },
  {
   "cell_type": "code",
   "execution_count": 9,
   "metadata": {},
   "outputs": [
    {
     "data": {
      "text/plain": [
       "Index(['pickup_datetime', 'fare_amount', 'fare_class', 'pickup_longitude',\n",
       "       'pickup_latitude', 'dropoff_longitude', 'dropoff_latitude',\n",
       "       'passenger_count', 'dist_km', 'EDTdate', 'Hour', 'AMorPM', 'Weekday'],\n",
       "      dtype='object')"
      ]
     },
     "execution_count": 9,
     "metadata": {},
     "output_type": "execute_result"
    }
   ],
   "source": [
    "df.columns"
   ]
  },
  {
   "cell_type": "code",
   "execution_count": 10,
   "metadata": {},
   "outputs": [],
   "source": [
    "cat_cols = ['Hour', 'AMorPM', 'Weekday']\n",
    "cont_cols = ['pickup_latitude', 'pickup_longitude', 'dropoff_latitude', 'dropoff_longitude', 'passenger_count', 'dist_km']\n",
    "y_col = ['fare_class']  # ta kolumna zawiera etykiety"
   ]
  },
  {
   "cell_type": "markdown",
   "metadata": {},
   "source": [
    "<div class=\"alert alert-info\"><strong>UWAGA:</strong> Jeśli planujesz wykorzystać wszystkie kolumny z tabeli, możesz w prosty sposób pobrać pozostałe kolumny ciągłe:<br>\n",
    "<pre style='background-color:rgb(217,237,247)'>cont_cols = [col for col in df.columns if col not in cat_cols + y_col]</pre>\n",
    "\n",
    "Tutaj wpisaliśmy kolumny ciągłe ręcznie, ponieważ pomijamy te, które nie trafią do modelu (fare_amount i EDTdate).</div>\n"
   ]
  },
  {
   "cell_type": "markdown",
   "metadata": {},
   "source": [
    "## Zamiana na typ category\n",
    "Pandas udostępnia typ danych <a href='https://pandas.pydata.org/pandas-docs/stable/user_guide/categorical.html'><strong>category</strong></a>, który zamienia wartości kategoryczne na kody liczbowe. Zbiór zawierający miesiące roku otrzyma 12 kodów, po jednym na każdy miesiąc (zwykle od 0 do 11). Pandas zastępuje wartości w kolumnie kodami i przechowuje listę kategorii. W kolejnych krokach będziemy odwoływać się do „nazw” kategorii i przypisanych im „kodów”.\n"
   ]
  },
  {
   "cell_type": "code",
   "execution_count": 11,
   "metadata": {},
   "outputs": [],
   "source": [
    "# Zamień trzy kolumny kategoryczne na typ category.\n",
    "for cat in cat_cols:\n",
    "    df[cat] = df[cat].astype('category')"
   ]
  },
  {
   "cell_type": "code",
   "execution_count": 12,
   "metadata": {},
   "outputs": [
    {
     "data": {
      "text/plain": [
       "pickup_datetime              object\n",
       "fare_amount                 float64\n",
       "fare_class                    int64\n",
       "pickup_longitude            float64\n",
       "pickup_latitude             float64\n",
       "dropoff_longitude           float64\n",
       "dropoff_latitude            float64\n",
       "passenger_count               int64\n",
       "dist_km                     float64\n",
       "EDTdate              datetime64[ns]\n",
       "Hour                       category\n",
       "AMorPM                     category\n",
       "Weekday                    category\n",
       "dtype: object"
      ]
     },
     "execution_count": 12,
     "metadata": {},
     "output_type": "execute_result"
    }
   ],
   "source": [
    "df.dtypes"
   ]
  },
  {
   "cell_type": "markdown",
   "metadata": {},
   "source": [
    "Możemy sprawdzić, że <tt>df['Hour']</tt> to cecha kategoryczna, wyświetlając kilka wierszy:\n"
   ]
  },
  {
   "cell_type": "code",
   "execution_count": 13,
   "metadata": {},
   "outputs": [
    {
     "data": {
      "text/plain": [
       "0     4\n",
       "1    11\n",
       "2     7\n",
       "3    17\n",
       "4    22\n",
       "Name: Hour, dtype: category\n",
       "Categories (24, int32): [0, 1, 2, 3, ..., 20, 21, 22, 23]"
      ]
     },
     "execution_count": 13,
     "metadata": {},
     "output_type": "execute_result"
    }
   ],
   "source": [
    "df['Hour'].head()"
   ]
  },
  {
   "cell_type": "markdown",
   "metadata": {},
   "source": [
    "Widzimy, że nazwami kategorii są tutaj liczby całkowite od 0 do 23, czyli 24 unikalne wartości. Te liczby <em>również</em> odpowiadają kodom nadanym każdej nazwie.\n",
    "\n",
    "Do nazw kategorii odwołujemy się przez <tt>Series.cat.categories</tt>, a do samych kodów przez <tt>Series.cat.codes</tt>. Łatwiej to zrozumieć na przykładzie <tt>df['AMorPM']</tt>:\n"
   ]
  },
  {
   "cell_type": "code",
   "execution_count": 14,
   "metadata": {},
   "outputs": [
    {
     "data": {
      "text/plain": [
       "0    am\n",
       "1    am\n",
       "2    am\n",
       "3    pm\n",
       "4    pm\n",
       "Name: AMorPM, dtype: category\n",
       "Categories (2, object): ['am', 'pm']"
      ]
     },
     "execution_count": 14,
     "metadata": {},
     "output_type": "execute_result"
    }
   ],
   "source": [
    "df['AMorPM'].head()"
   ]
  },
  {
   "cell_type": "code",
   "execution_count": 15,
   "metadata": {},
   "outputs": [
    {
     "data": {
      "text/plain": [
       "Index(['am', 'pm'], dtype='object')"
      ]
     },
     "execution_count": 15,
     "metadata": {},
     "output_type": "execute_result"
    }
   ],
   "source": [
    "df['AMorPM'].cat.categories"
   ]
  },
  {
   "cell_type": "code",
   "execution_count": 16,
   "metadata": {},
   "outputs": [
    {
     "data": {
      "text/plain": [
       "0    0\n",
       "1    0\n",
       "2    0\n",
       "3    1\n",
       "4    1\n",
       "dtype: int8"
      ]
     },
     "execution_count": 16,
     "metadata": {},
     "output_type": "execute_result"
    }
   ],
   "source": [
    "df['AMorPM'].head().cat.codes"
   ]
  },
  {
   "cell_type": "code",
   "execution_count": 17,
   "metadata": {},
   "outputs": [
    {
     "data": {
      "text/plain": [
       "Index(['Fri', 'Mon', 'Sat', 'Sun', 'Thu', 'Tue', 'Wed'], dtype='object')"
      ]
     },
     "execution_count": 17,
     "metadata": {},
     "output_type": "execute_result"
    }
   ],
   "source": [
    "df['Weekday'].cat.categories"
   ]
  },
  {
   "cell_type": "code",
   "execution_count": 18,
   "metadata": {},
   "outputs": [
    {
     "data": {
      "text/plain": [
       "0    1\n",
       "1    2\n",
       "2    2\n",
       "3    3\n",
       "4    0\n",
       "dtype: int8"
      ]
     },
     "execution_count": 18,
     "metadata": {},
     "output_type": "execute_result"
    }
   ],
   "source": [
    "df['Weekday'].head().cat.codes"
   ]
  },
  {
   "cell_type": "markdown",
   "metadata": {},
   "source": [
    "<div class=\"alert alert-info\"><strong>UWAGA:</strong> W danych kategorycznych wartości NaN otrzymują kod -1. W tym zbiorze takich wartości nie ma.</div>\n"
   ]
  },
  {
   "cell_type": "markdown",
   "metadata": {},
   "source": [
    "Teraz chcemy połączyć trzy kolumny kategoryczne w jedną tablicę wejściową przy użyciu <a href='https://docs.scipy.org/doc/numpy/reference/generated/numpy.stack.html'><tt>numpy.stack</tt></a>. Interesują nas wyłącznie wartości, bez indeksu Series.\n"
   ]
  },
  {
   "cell_type": "code",
   "execution_count": 19,
   "metadata": {},
   "outputs": [
    {
     "data": {
      "text/plain": [
       "array([[ 4,  0,  1],\n",
       "       [11,  0,  2],\n",
       "       [ 7,  0,  2],\n",
       "       [17,  1,  3],\n",
       "       [22,  1,  0]], dtype=int8)"
      ]
     },
     "execution_count": 19,
     "metadata": {},
     "output_type": "execute_result"
    }
   ],
   "source": [
    "hr = df['Hour'].cat.codes.values\n",
    "ampm = df['AMorPM'].cat.codes.values\n",
    "wkdy = df['Weekday'].cat.codes.values\n",
    "\n",
    "cats = np.stack([hr, ampm, wkdy], 1)\n",
    "\n",
    "cats[:5]"
   ]
  },
  {
   "cell_type": "markdown",
   "metadata": {},
   "source": [
    "<div class=\"alert alert-info\"><strong>UWAGA:</strong> Można to zrobić w jednej linii z użyciem list comprehension:\n",
    "<pre style='background-color:rgb(217,237,247)'>cats = np.stack([df[col].cat.codes.values for col in cat_cols], 1)</pre>\n",
    "\n",
    "Nie przejmujemy się na razie typem danych – ustawimy <tt>int64</tt>, gdy będziemy tworzyć tensor.</div>\n"
   ]
  },
  {
   "cell_type": "markdown",
   "metadata": {},
   "source": [
    "## Konwersja tablic NumPy na tensory\n"
   ]
  },
  {
   "cell_type": "code",
   "execution_count": 20,
   "metadata": {},
   "outputs": [
    {
     "data": {
      "text/plain": [
       "tensor([[ 4,  0,  1],\n",
       "        [11,  0,  2],\n",
       "        [ 7,  0,  2],\n",
       "        [17,  1,  3],\n",
       "        [22,  1,  0]])"
      ]
     },
     "execution_count": 20,
     "metadata": {},
     "output_type": "execute_result"
    }
   ],
   "source": [
    "# Przekonwertuj zmienne kategoryczne na tensor\n",
    "cats = torch.tensor(cats, dtype=torch.int64)\n",
    "# this syntax is ok, since the source data is an array, not an existing tensor\n",
    "\n",
    "cats[:5]"
   ]
  },
  {
   "cell_type": "markdown",
   "metadata": {},
   "source": [
    "Możemy przekazać wszystkie zmienne ciągłe do modelu jako tensor. Zauważ, że nie normalizujemy ich teraz – pozwolimy zrobić to modelowi.\n",
    "<div class=\"alert alert-info\"><strong>UWAGA:</strong> Aby batch normalization działał poprawnie, musimy zapisać <tt>conts</tt> i <tt>y</tt> jako tensory typu Float (float32), a nie Double (float64).</div>\n"
   ]
  },
  {
   "cell_type": "code",
   "execution_count": 21,
   "metadata": {},
   "outputs": [
    {
     "data": {
      "text/plain": [
       "tensor([[ 40.7305, -73.9924,  40.7447, -73.9755,   1.0000,   2.1263],\n",
       "        [ 40.7406, -73.9901,  40.7441, -73.9742,   1.0000,   1.3923],\n",
       "        [ 40.7511, -73.9941,  40.7662, -73.9601,   2.0000,   3.3268],\n",
       "        [ 40.7564, -73.9905,  40.7482, -73.9712,   1.0000,   1.8641],\n",
       "        [ 40.7342, -73.9910,  40.7431, -73.9060,   1.0000,   7.2313]])"
      ]
     },
     "execution_count": 21,
     "metadata": {},
     "output_type": "execute_result"
    }
   ],
   "source": [
    "# Przekonwertuj zmienne ciągłe na tensor\n",
    "conts = np.stack([df[col].values for col in cont_cols], 1)\n",
    "conts = torch.tensor(conts, dtype=torch.float)\n",
    "conts[:5]"
   ]
  },
  {
   "cell_type": "code",
   "execution_count": 22,
   "metadata": {},
   "outputs": [
    {
     "data": {
      "text/plain": [
       "'torch.FloatTensor'"
      ]
     },
     "execution_count": 22,
     "metadata": {},
     "output_type": "execute_result"
    }
   ],
   "source": [
    "conts.type()"
   ]
  },
  {
   "cell_type": "markdown",
   "metadata": {},
   "source": [
    "Uwaga: funkcja CrossEntropyLoss, której użyjemy później, oczekuje tensorów y w postaci 1D. Zamiast <tt>.reshape(-1,1)</tt> użyjemy więc tym razem <tt>.flatten()</tt>.\n"
   ]
  },
  {
   "cell_type": "code",
   "execution_count": 23,
   "metadata": {},
   "outputs": [
    {
     "data": {
      "text/plain": [
       "tensor([0, 0, 1, 0, 1])"
      ]
     },
     "execution_count": 23,
     "metadata": {},
     "output_type": "execute_result"
    }
   ],
   "source": [
    "# Przekonwertuj etykiety na tensor\n",
    "y = torch.tensor(df[y_col].values).flatten()\n",
    "\n",
    "y[:5]"
   ]
  },
  {
   "cell_type": "code",
   "execution_count": 24,
   "metadata": {},
   "outputs": [
    {
     "data": {
      "text/plain": [
       "torch.Size([120000, 3])"
      ]
     },
     "execution_count": 24,
     "metadata": {},
     "output_type": "execute_result"
    }
   ],
   "source": [
    "cats.shape"
   ]
  },
  {
   "cell_type": "code",
   "execution_count": 25,
   "metadata": {},
   "outputs": [
    {
     "data": {
      "text/plain": [
       "torch.Size([120000, 6])"
      ]
     },
     "execution_count": 25,
     "metadata": {},
     "output_type": "execute_result"
    }
   ],
   "source": [
    "conts.shape"
   ]
  },
  {
   "cell_type": "code",
   "execution_count": 26,
   "metadata": {},
   "outputs": [
    {
     "data": {
      "text/plain": [
       "torch.Size([120000])"
      ]
     },
     "execution_count": 26,
     "metadata": {},
     "output_type": "execute_result"
    }
   ],
   "source": [
    "y.shape"
   ]
  },
  {
   "cell_type": "markdown",
   "metadata": {},
   "source": [
    "## Ustal rozmiary embeddingów\n"
   ]
  },
  {
   "cell_type": "code",
   "execution_count": 27,
   "metadata": {},
   "outputs": [
    {
     "data": {
      "text/plain": [
       "[(24, 12), (2, 1), (7, 4)]"
      ]
     },
     "execution_count": 27,
     "metadata": {},
     "output_type": "execute_result"
    }
   ],
   "source": [
    "# This will set embedding sizes for Hours, AMvsPM and Weekdays\n",
    "cat_szs = [len(df[col].cat.categories) for col in cat_cols]\n",
    "emb_szs = [(size, min(50, (size+1)//2)) for size in cat_szs]\n",
    "emb_szs"
   ]
  },
  {
   "cell_type": "markdown",
   "metadata": {},
   "source": [
    "## Zdefiniuj TabularModel\n",
    "Model nawiązuje nieco do <a href='https://docs.fast.ai/tabular.models.html'>biblioteki fast.ai</a>. Chcemy zdefiniować architekturę na podstawie liczby kolumn ciągłych (<tt>conts.shape[1]</tt>) oraz liczby kolumn kategorycznych i ich embeddingów (<tt>len(emb_szs)</tt> i <tt>emb_szs</tt>). Wyjściem może być regresja (pojedyncza wartość zmiennoprzecinkowa) albo klasyfikacja (zestaw klas i ich wartości softmax). W tym ćwiczeniu wyjście będzie dwuelementowym wektorem – po jednej wartości dla każdej klasy. Założymy, że dane zawierają zarówno cechy kategoryczne, jak i ciągłe. We własnych klasach możesz dodać parametry boolowskie, aby obsługiwać inne przypadki.\n"
   ]
  },
  {
   "cell_type": "code",
   "execution_count": null,
   "metadata": {},
   "outputs": [],
   "source": [
    "import torch\n",
    "import torch.nn as nn\n",
    "\n",
    "class TabularModel(nn.Module):\n",
    "    \"\"\"\n",
    "    Model sieci neuronowej do danych tabelarycznych łączący:\n",
    "    - embeddingi dla zmiennych kategorycznych,\n",
    "    - normalizację i gęste warstwy dla zmiennych ciągłych.\n",
    "\n",
    "    Założenia / Konwencje:\n",
    "    - Każda kolumna kategoryczna jest reprezentowana jako indeks całkowity (torch.long)\n",
    "      w zakresie [0, liczba_kategorii-1]. To bardzo ważne dla nn.Embedding.\n",
    "    - Zmienne ciągłe są typu float (torch.float) i mają kształt [batch_size, n_cont].\n",
    "    - Wyjście to logity o kształcie [batch_size, out_sz]; do klasyfikacji z CrossEntropyLoss.\n",
    "\n",
    "    Parametry\n",
    "    ---------\n",
    "    emb_szs : list[tuple[int, int]]\n",
    "        Lista krotek (liczba_kategorii, wymiar_embeddingu) dla każdej kolumny kategorycznej.\n",
    "        Np. [(2, 2), (14, 6), (6, 3), (5, 3), (12, 6)].\n",
    "        Uwaga: indeksy wejściowe MUSZĄ być 0-based i < liczba_kategorii.\n",
    "    n_cont : int\n",
    "        Liczba zmiennych ciągłych (kolumn numerycznych).\n",
    "    out_sz : int\n",
    "        Rozmiar wyjścia modelu (np. liczba klas).\n",
    "    layers : list[int]\n",
    "        Rozmiary kolejnych ukrytych warstw liniowych (np. [200, 100]).\n",
    "    p : float, domyślnie 0.5\n",
    "        Prawdopodobieństwo dropout (stosowane zarówno na embeddingach, jak i w warstwach gęstych).\n",
    "\n",
    "    Przepływ danych\n",
    "    ---------------\n",
    "    x_cat (LongTensor) -> Embedding -> konkatenacja -> Dropout\n",
    "                         + x_cont (FloatTensor) -> BatchNorm -> konkatenacja\n",
    "                         -> bloki Linear/ReLU/BatchNorm/Dropout -> Linear -> logity\n",
    "\n",
    "    Przykład wejścia\n",
    "    ----------------\n",
    "    x_cat : torch.LongTensor o kształcie [B, K] (B — batch, K — liczba kolumn kategorycznych)\n",
    "    x_cont: torch.FloatTensor o kształcie [B, n_cont]\n",
    "    \"\"\"\n",
    "\n",
    "    def __init__(self, emb_szs, n_cont, out_sz, layers, p=0.5):\n",
    "        super().__init__()\n",
    "\n",
    "        # Embeddingi dla każdej kolumny kategorycznej.\n",
    "        # Dla (ni, nf): ni = liczba kategorii, nf = wymiar wektora embeddingu.\n",
    "        self.embeds = nn.ModuleList([nn.Embedding(ni, nf) for ni, nf in emb_szs])\n",
    "\n",
    "        # Dropout na połączonych embeddingach pomaga zapobiegać przeuczeniu (overfitting).\n",
    "        self.emb_drop = nn.Dropout(p)\n",
    "\n",
    "        # Normalizacja zmiennych ciągłych stabilizuje trening (uśrednia/standaryzuje aktywacje).\n",
    "        self.bn_cont = nn.BatchNorm1d(n_cont)\n",
    "\n",
    "        # Obliczamy łączny wymiar embeddingów i wejścia do pierwszej warstwy gęstej.\n",
    "        n_emb = sum(nf for _, nf in emb_szs)  # suma wymiarów wszystkich embeddingów\n",
    "        n_in = n_emb + n_cont                 # embeddingi + zmienne ciągłe\n",
    "\n",
    "        # Budujemy sekwencję bloków: Linear -> ReLU -> BatchNorm -> Dropout\n",
    "        layerlist = []\n",
    "        for hidden_size in layers:\n",
    "            layerlist.append(nn.Linear(n_in, hidden_size))   # projekcja do ukrytej przestrzeni\n",
    "            layerlist.append(nn.ReLU(inplace=True))          # nieliniowość (szybka i stabilna)\n",
    "            layerlist.append(nn.BatchNorm1d(hidden_size))    # stabilizacja rozkładu aktywacji\n",
    "            layerlist.append(nn.Dropout(p))                  # regularizacja\n",
    "            n_in = hidden_size\n",
    "\n",
    "        # Ostatnia warstwa liniowa do rozmiaru wyjścia (np. liczba klas).\n",
    "        layerlist.append(nn.Linear(layers[-1], out_sz))\n",
    "\n",
    "        # Łączymy wszystko w jedną sekwencję wykonywalnych modułów.\n",
    "        self.layers = nn.Sequential(*layerlist)\n",
    "\n",
    "    def forward(self, x_cat: torch.Tensor, x_cont: torch.Tensor) -> torch.Tensor:\n",
    "        \"\"\"\n",
    "        Wykonuje propagację w przód.\n",
    "\n",
    "        Parametry\n",
    "        ---------\n",
    "        x_cat : torch.LongTensor, kształt [B, K]\n",
    "            Indeksy kategorii (0-based) dla K kolumn kategorycznych. Każda kolumna musi\n",
    "            mieć wartości < liczba_kategorii zdefiniowana w `emb_szs`.\n",
    "        x_cont : torch.FloatTensor, kształt [B, n_cont]\n",
    "            Zmienne ciągłe (numeryczne).\n",
    "\n",
    "        Zwraca\n",
    "        -------\n",
    "        torch.Tensor\n",
    "            Logity o kształcie [B, out_sz] — surowe wyniki do użycia z CrossEntropyLoss.\n",
    "        \"\"\"\n",
    "        # 1) Embedding dla każdej kolumny kategorycznej; dostajemy listę [B, nf_i]\n",
    "        embeddings = []\n",
    "        for i, emb in enumerate(self.embeds):\n",
    "            # x_cat[:, i] to wektor indeksów dla i-tej kolumny (kształt: [B])\n",
    "            embeddings.append(emb(x_cat[:, i]))\n",
    "\n",
    "        # 2) Konkatenacja wszystkich embeddingów do jednego tensora [B, sum(nf)]\n",
    "        x = torch.cat(embeddings, dim=1)\n",
    "\n",
    "        # 3) Dropout na embeddingach (regularizacja)\n",
    "        x = self.emb_drop(x)\n",
    "\n",
    "        # 4) Normalizacja zmiennych ciągłych i doklejenie ich do embeddingów\n",
    "        x_cont = self.bn_cont(x_cont)\n",
    "        x = torch.cat([x, x_cont], dim=1)\n",
    "\n",
    "        # 5) Przepuszczenie przez zdefiniowane bloki gęste\n",
    "        x = self.layers(x)\n",
    "        return x\n"
   ]
  },
  {
   "cell_type": "markdown",
   "metadata": {},
   "source": [
    "**ℹ️ Przejdźmy przez kroki, które wykonaliśmy. Poniżej znajdziesz bardziej szczegółowe informacje.**\n",
    "\n",
    "---\n",
    "\n",
    "1. **Rozszerzamy bazową klasę `Module` i przekazujemy parametry:**\n",
    "   - `emb_szs`: lista krotek – liczba kategorii oraz rozmiar embeddingu dla każdej kolumny  \n",
    "   - `n_cont`: liczba zmiennych ciągłych  \n",
    "   - `out_sz`: rozmiar wyjścia  \n",
    "   - `layers`: lista rozmiarów kolejnych warstw  \n",
    "   - `p`: prawdopodobieństwo dropout (dla uproszczenia jedna wartość)  \n",
    "\n",
    "   ```python\n",
    "   class TabularModel(nn.Module):\n",
    "       def __init__(self, emb_szs, n_cont, out_sz, layers, p=0.5):\n",
    "           super().__init__()\n",
    "\n",
    "\n",
    "2. **Tworzymy warstwy embeddingów** przy użyciu [`torch.nn.ModuleList`](https://pytorch.org/docs/stable/generated/torch.nn.ModuleList.html) oraz [`torch.nn.Embedding`](https://pytorch.org/docs/stable/generated/torch.nn.Embedding.html).\n",
    "   Dane kategoryczne przejdą przez te embeddingi w metodzie `forward`.\n",
    "\n",
    "   ```python\n",
    "   self.embeds = nn.ModuleList([nn.Embedding(ni, nf) for ni, nf in emb_szs])\n",
    "   ```\n",
    "\n",
    "3. **Dodajemy dropout** dla embeddingów za pomocą [`torch.nn.Dropout`](https://pytorch.org/docs/stable/generated/torch.nn.Dropout.html).\n",
    "   Domyślnie `p = 0.5`.\n",
    "\n",
    "   ```python\n",
    "   self.emb_drop = nn.Dropout(p)\n",
    "   ```\n",
    "\n",
    "4. **Tworzymy funkcję normalizującą** dla zmiennych ciągłych z [`torch.nn.BatchNorm1d`](https://pytorch.org/docs/stable/generated/torch.nn.BatchNorm1d.html).\n",
    "\n",
    "   ```python\n",
    "   self.bn_cont = nn.BatchNorm1d(n_cont)\n",
    "   ```\n",
    "\n",
    "5. **Budujemy sekwencję warstw sieci:**\n",
    "   `Linear → ReLU → BatchNorm → Dropout`\n",
    "   Na końcu dodajemy warstwę wyjściową. Wszystko składamy w [`torch.nn.Sequential`](https://pytorch.org/docs/stable/generated/torch.nn.Sequential.html).\n",
    "\n",
    "   ```python\n",
    "   layerlist = []\n",
    "   n_emb = sum((nf for ni, nf in emb_szs))\n",
    "   n_in = n_emb + n_cont\n",
    "\n",
    "   for i in layers:\n",
    "       layerlist.append(nn.Linear(n_in, i))\n",
    "       layerlist.append(nn.ReLU(inplace=True))\n",
    "       layerlist.append(nn.BatchNorm1d(i))\n",
    "       layerlist.append(nn.Dropout(p))\n",
    "       n_in = i\n",
    "\n",
    "   layerlist.append(nn.Linear(layers[-1], out_sz))\n",
    "   self.layers = nn.Sequential(*layerlist)\n",
    "   ```\n",
    "\n",
    "6. **Definiujemy metodę `forward`:**\n",
    "\n",
    "   * najpierw przetwarzamy embeddingi\n",
    "   * następnie normalizujemy zmienne ciągłe\n",
    "   * na końcu przekazujemy dane przez warstwy\n",
    "\n",
    "   Do łączenia tensorów używamy [`torch.cat`](https://pytorch.org/docs/stable/generated/torch.cat.html).\n",
    "\n",
    "   ```python\n",
    "   def forward(self, x_cat, x_cont):\n",
    "       embeddings = []\n",
    "       for i, e in enumerate(self.embeds):\n",
    "           embeddings.append(e(x_cat[:, i]))\n",
    "       x = torch.cat(embeddings, 1)\n",
    "       x = self.emb_drop(x)\n",
    "\n",
    "       x_cont = self.bn_cont(x_cont)\n",
    "       x = torch.cat([x, x_cont], 1)\n",
    "\n",
    "       x = self.layers(x)\n",
    "       return x\n",
    "   ```\n",
    "\n"
   ]
  },
  {
   "cell_type": "markdown",
   "metadata": {},
   "source": [
    "<div class=\"alert alert-danger\"><strong>Breaking down the embeddings steps</strong> (this code is for illustration purposes only.)</div>"
   ]
  },
  {
   "cell_type": "code",
   "execution_count": 28,
   "metadata": {},
   "outputs": [
    {
     "data": {
      "text/plain": [
       "tensor([[ 4,  0,  1],\n",
       "        [11,  0,  2],\n",
       "        [ 7,  0,  2],\n",
       "        [17,  1,  3]])"
      ]
     },
     "execution_count": 28,
     "metadata": {},
     "output_type": "execute_result"
    }
   ],
   "source": [
    "# To nasze dane źródłowe\n",
    "catz = cats[:4]\n",
    "catz"
   ]
  },
  {
   "cell_type": "code",
   "execution_count": 29,
   "metadata": {},
   "outputs": [
    {
     "data": {
      "text/plain": [
       "[(24, 12), (2, 1), (7, 4)]"
      ]
     },
     "execution_count": 29,
     "metadata": {},
     "output_type": "execute_result"
    }
   ],
   "source": [
    "# To jest przekazywane podczas tworzenia instancji modelu\n",
    "emb_szs"
   ]
  },
  {
   "cell_type": "code",
   "execution_count": 30,
   "metadata": {},
   "outputs": [
    {
     "data": {
      "text/plain": [
       "ModuleList(\n",
       "  (0): Embedding(24, 12)\n",
       "  (1): Embedding(2, 1)\n",
       "  (2): Embedding(7, 4)\n",
       ")"
      ]
     },
     "execution_count": 30,
     "metadata": {},
     "output_type": "execute_result"
    }
   ],
   "source": [
    "# To przypisanie wykonywane jest w metodzie __init__()\n",
    "selfembeds = nn.ModuleList([nn.Embedding(ni, nf) for ni,nf in emb_szs])\n",
    "selfembeds"
   ]
  },
  {
   "cell_type": "code",
   "execution_count": 31,
   "metadata": {},
   "outputs": [
    {
     "data": {
      "text/plain": [
       "[(0, Embedding(24, 12)), (1, Embedding(2, 1)), (2, Embedding(7, 4))]"
      ]
     },
     "execution_count": 31,
     "metadata": {},
     "output_type": "execute_result"
    }
   ],
   "source": [
    "list(enumerate(selfembeds))"
   ]
  },
  {
   "cell_type": "code",
   "execution_count": 32,
   "metadata": {},
   "outputs": [
    {
     "data": {
      "text/plain": [
       "[tensor([[-0.7232, -0.7835,  0.7790, -1.0627, -1.5836,  1.2645, -1.3451,  0.1102,\n",
       "          -0.6855,  1.0613,  0.4491, -0.2776],\n",
       "         [ 0.7909, -0.1582,  0.1696, -0.6959,  1.5319,  0.4137, -1.3975,  0.7816,\n",
       "          -0.2047, -1.3527, -0.0670, -1.7311],\n",
       "         [ 1.1835,  0.0372, -0.1430,  1.3317, -0.8409,  2.3899,  0.7840, -0.8389,\n",
       "           0.7472,  0.3831,  0.8816,  0.7843],\n",
       "         [-0.5777,  0.4101, -0.6764,  0.4647, -0.6966, -0.7015, -0.8748, -1.4114,\n",
       "           0.5709, -0.3537, -0.6927,  0.1717]], grad_fn=<EmbeddingBackward0>),\n",
       " tensor([[-0.7280],\n",
       "         [-0.7280],\n",
       "         [-0.7280],\n",
       "         [-0.7037]], grad_fn=<EmbeddingBackward0>),\n",
       " tensor([[-0.2462,  1.7763,  0.3319, -1.4416],\n",
       "         [ 1.5747, -0.2930, -0.2527, -0.3491],\n",
       "         [ 1.5747, -0.2930, -0.2527, -0.3491],\n",
       "         [-0.6523,  0.5418, -1.2006, -0.3129]], grad_fn=<EmbeddingBackward0>)]"
      ]
     },
     "execution_count": 32,
     "metadata": {},
     "output_type": "execute_result"
    }
   ],
   "source": [
    "# To dzieje się wewnątrz metody forward()\n",
    "embeddingz = []\n",
    "for i,e in enumerate(selfembeds):\n",
    "    embeddingz.append(e(catz[:,i]))\n",
    "embeddingz"
   ]
  },
  {
   "cell_type": "code",
   "execution_count": 33,
   "metadata": {},
   "outputs": [
    {
     "data": {
      "text/plain": [
       "tensor([[-0.7232, -0.7835,  0.7790, -1.0627, -1.5836,  1.2645, -1.3451,  0.1102,\n",
       "         -0.6855,  1.0613,  0.4491, -0.2776, -0.7280, -0.2462,  1.7763,  0.3319,\n",
       "         -1.4416],\n",
       "        [ 0.7909, -0.1582,  0.1696, -0.6959,  1.5319,  0.4137, -1.3975,  0.7816,\n",
       "         -0.2047, -1.3527, -0.0670, -1.7311, -0.7280,  1.5747, -0.2930, -0.2527,\n",
       "         -0.3491],\n",
       "        [ 1.1835,  0.0372, -0.1430,  1.3317, -0.8409,  2.3899,  0.7840, -0.8389,\n",
       "          0.7472,  0.3831,  0.8816,  0.7843, -0.7280,  1.5747, -0.2930, -0.2527,\n",
       "         -0.3491],\n",
       "        [-0.5777,  0.4101, -0.6764,  0.4647, -0.6966, -0.7015, -0.8748, -1.4114,\n",
       "          0.5709, -0.3537, -0.6927,  0.1717, -0.7037, -0.6523,  0.5418, -1.2006,\n",
       "         -0.3129]], grad_fn=<CatBackward0>)"
      ]
     },
     "execution_count": 33,
     "metadata": {},
     "output_type": "execute_result"
    }
   ],
   "source": [
    "# Łączymy sekcje embeddingów (12,1,4) w jedną (17)\n",
    "z = torch.cat(embeddingz, 1)\n",
    "z"
   ]
  },
  {
   "cell_type": "code",
   "execution_count": 34,
   "metadata": {},
   "outputs": [],
   "source": [
    "# To zostało przypisane w metodzie __init__()\n",
    "selfembdrop = nn.Dropout(.4)"
   ]
  },
  {
   "cell_type": "code",
   "execution_count": 35,
   "metadata": {},
   "outputs": [
    {
     "data": {
      "text/plain": [
       "tensor([[-1.2053, -1.3058,  1.2983, -1.7711, -2.6394,  2.1076, -2.2419,  0.1837,\n",
       "         -1.1426,  1.7688,  0.0000, -0.4627, -0.0000, -0.0000,  2.9605,  0.0000,\n",
       "         -2.4027],\n",
       "        [ 1.3181, -0.0000,  0.2827, -0.0000,  0.0000,  0.6896, -2.3291,  1.3026,\n",
       "         -0.3411, -2.2545, -0.0000, -2.8851, -0.0000,  2.6245, -0.4884, -0.4212,\n",
       "         -0.0000],\n",
       "        [ 1.9725,  0.0621, -0.0000,  2.2194, -1.4014,  3.9831,  1.3067, -0.0000,\n",
       "          0.0000,  0.0000,  1.4693,  0.0000, -1.2133,  2.6245, -0.0000, -0.0000,\n",
       "         -0.5818],\n",
       "        [-0.0000,  0.6835, -0.0000,  0.0000, -0.0000, -1.1691, -1.4580, -0.0000,\n",
       "          0.9515, -0.0000, -1.1545,  0.2861, -1.1728, -1.0871,  0.9029, -2.0010,\n",
       "         -0.5215]], grad_fn=<MulBackward0>)"
      ]
     },
     "execution_count": 35,
     "metadata": {},
     "output_type": "execute_result"
    }
   ],
   "source": [
    "z = selfembdrop(z)\n",
    "z"
   ]
  },
  {
   "cell_type": "markdown",
   "metadata": {},
   "source": [
    "<div class=\"alert alert-danger\"><strong>Tak przekazujemy embeddingi kategoryczne do kolejnych warstw.</strong></div>\n"
   ]
  },
  {
   "cell_type": "code",
   "execution_count": 36,
   "metadata": {},
   "outputs": [],
   "source": []
  },
  {
   "cell_type": "code",
   "execution_count": 37,
   "metadata": {},
   "outputs": [],
   "source": [
    "torch.manual_seed(33)\n",
    "model = TabularModel(emb_szs, conts.shape[1], 2, [200,100], p=0.4) # out_sz = 2"
   ]
  },
  {
   "cell_type": "code",
   "execution_count": 38,
   "metadata": {},
   "outputs": [
    {
     "data": {
      "text/plain": [
       "TabularModel(\n",
       "  (embeds): ModuleList(\n",
       "    (0): Embedding(24, 12)\n",
       "    (1): Embedding(2, 1)\n",
       "    (2): Embedding(7, 4)\n",
       "  )\n",
       "  (emb_drop): Dropout(p=0.4, inplace=False)\n",
       "  (bn_cont): BatchNorm1d(6, eps=1e-05, momentum=0.1, affine=True, track_running_stats=True)\n",
       "  (layers): Sequential(\n",
       "    (0): Linear(in_features=23, out_features=200, bias=True)\n",
       "    (1): ReLU(inplace=True)\n",
       "    (2): BatchNorm1d(200, eps=1e-05, momentum=0.1, affine=True, track_running_stats=True)\n",
       "    (3): Dropout(p=0.4, inplace=False)\n",
       "    (4): Linear(in_features=200, out_features=100, bias=True)\n",
       "    (5): ReLU(inplace=True)\n",
       "    (6): BatchNorm1d(100, eps=1e-05, momentum=0.1, affine=True, track_running_stats=True)\n",
       "    (7): Dropout(p=0.4, inplace=False)\n",
       "    (8): Linear(in_features=100, out_features=2, bias=True)\n",
       "  )\n",
       ")"
      ]
     },
     "execution_count": 38,
     "metadata": {},
     "output_type": "execute_result"
    }
   ],
   "source": [
    "model"
   ]
  },
  {
   "cell_type": "markdown",
   "metadata": {},
   "source": [
    "## Zdefiniuj funkcję straty i optymalizator\n",
    "W klasyfikacji zastąpimy funkcję MSE odpowiednikiem <a href='https://pytorch.org/docs/stable/nn.html#crossentropyloss'><strong><tt>torch.nn.CrossEntropyLoss()</tt></strong></a>.<br>\n",
    "Jako optymalizatora nadal użyjemy <a href='https://pytorch.org/docs/stable/optim.html#torch.optim.Adam'><strong><tt>torch.optim.Adam()</tt></strong></a>.\n"
   ]
  },
  {
   "cell_type": "code",
   "execution_count": 39,
   "metadata": {},
   "outputs": [],
   "source": [
    "criterion = nn.CrossEntropyLoss()\n",
    "optimizer = torch.optim.Adam(model.parameters(), lr=0.001)"
   ]
  },
  {
   "cell_type": "markdown",
   "metadata": {},
   "source": [
    "## Podziel dane na zbiory treningowy i testowy\n",
    "W tej chwili rozmiar partii odpowiada całemu zbiorowi 120 000 rekordów. Aby oszczędzić czas, wykorzystamy pierwsze 60 000. Pamiętaj, że nasze tensory są już losowo potasowane.\n"
   ]
  },
  {
   "cell_type": "code",
   "execution_count": 40,
   "metadata": {},
   "outputs": [],
   "source": [
    "batch_size = 60000\n",
    "test_size = 12000\n",
    "\n",
    "cat_train = cats[:batch_size-test_size]\n",
    "cat_test = cats[batch_size-test_size:batch_size]\n",
    "con_train = conts[:batch_size-test_size]\n",
    "con_test = conts[batch_size-test_size:batch_size]\n",
    "y_train = y[:batch_size-test_size]\n",
    "y_test = y[batch_size-test_size:batch_size]"
   ]
  },
  {
   "cell_type": "code",
   "execution_count": 41,
   "metadata": {},
   "outputs": [
    {
     "data": {
      "text/plain": [
       "48000"
      ]
     },
     "execution_count": 41,
     "metadata": {},
     "output_type": "execute_result"
    }
   ],
   "source": [
    "len(cat_train)"
   ]
  },
  {
   "cell_type": "code",
   "execution_count": 42,
   "metadata": {},
   "outputs": [
    {
     "data": {
      "text/plain": [
       "12000"
      ]
     },
     "execution_count": 42,
     "metadata": {},
     "output_type": "execute_result"
    }
   ],
   "source": [
    "len(cat_test)"
   ]
  },
  {
   "cell_type": "markdown",
   "metadata": {},
   "source": [
    "## Wytrenuj model\n",
    "Przygotuj się na około 30 minut pracy! Dodaliśmy kod, który na końcu poda czas trwania.\n"
   ]
  },
  {
   "cell_type": "code",
   "execution_count": 43,
   "metadata": {},
   "outputs": [
    {
     "name": "stdout",
     "output_type": "stream",
     "text": [
      "epoch:   1  loss: 0.83336741\n",
      "epoch:  26  loss: 0.37834561\n",
      "epoch:  51  loss: 0.33235851\n",
      "epoch:  76  loss: 0.31583560\n",
      "epoch: 101  loss: 0.30307907\n",
      "epoch: 126  loss: 0.29316762\n",
      "epoch: 151  loss: 0.28483155\n",
      "epoch: 176  loss: 0.28016236\n",
      "epoch: 201  loss: 0.27618173\n",
      "epoch: 226  loss: 0.26887164\n",
      "epoch: 251  loss: 0.26491734\n",
      "epoch: 276  loss: 0.26132721\n",
      "epoch: 300  loss: 0.25677466\n",
      "\n",
      "Duration: 29 seconds\n"
     ]
    }
   ],
   "source": [
    "import time\n",
    "start_time = time.time()\n",
    "\n",
    "epochs = 300\n",
    "losses = []\n",
    "\n",
    "for i in range(epochs):\n",
    "    i+=1\n",
    "    y_pred = model(cat_train, con_train)\n",
    "    loss = criterion(y_pred, y_train)\n",
    "    losses.append(loss)\n",
    "    \n",
    "    # sprytny trik, żeby oszczędzić miejsce na ekranie:\n",
    "    if i%25 == 1:\n",
    "        print(f'epoch: {i:3}  loss: {loss.item():10.8f}')\n",
    "\n",
    "    optimizer.zero_grad()\n",
    "    loss.backward()\n",
    "    optimizer.step()\n",
    "\n",
    "print(f'epoch: {i:3}  loss: {loss.item():10.8f}') # wypisz ostatnią linię\n",
    "print(f'\\nDuration: {time.time() - start_time:.0f} seconds') # wypisz czas trwania"
   ]
  },
  {
   "cell_type": "markdown",
   "metadata": {},
   "source": [
    "## Wykres funkcji straty\n"
   ]
  },
  {
   "cell_type": "code",
   "execution_count": 46,
   "metadata": {},
   "outputs": [
    {
     "data": {
      "image/png": "[encoded data removed]",
      "text/plain": [
       "<Figure size 640x480 with 1 Axes>"
      ]
     },
     "metadata": {},
     "output_type": "display_data"
    }
   ],
   "source": [
    "plt.plot(range(epochs), [loss.detach().numpy() for loss in losses])\n",
    "plt.ylabel('Cross Entropy Loss')\n",
    "plt.xlabel('epoch');"
   ]
  },
  {
   "cell_type": "markdown",
   "metadata": {},
   "source": [
    "## Zweryfikuj model\n"
   ]
  },
  {
   "cell_type": "code",
   "execution_count": 47,
   "metadata": {},
   "outputs": [
    {
     "name": "stdout",
     "output_type": "stream",
     "text": [
      "CE Loss: 0.25060156\n"
     ]
    }
   ],
   "source": [
    "# ABY OCENIĆ CAŁY ZBIÓR TESTOWY\n",
    "with torch.no_grad():\n",
    "    y_val = model(cat_test, con_test)\n",
    "    loss = criterion(y_val, y_test)\n",
    "print(f'CE Loss: {loss:.8f}')"
   ]
  },
  {
   "cell_type": "markdown",
   "metadata": {},
   "source": [
    "Spójrzmy teraz na pierwsze 50 przewidywanych wartości.\n"
   ]
  },
  {
   "cell_type": "code",
   "execution_count": 48,
   "metadata": {},
   "outputs": [
    {
     "name": "stdout",
     "output_type": "stream",
     "text": [
      "MODEL OUTPUT               ARGMAX  Y_TEST\n",
      "tensor([ 2.2166, -0.9363])    0      0   \n",
      "tensor([-3.9228,  3.1928])    1      0   \n",
      "tensor([ 2.1874, -1.1944])    0      0   \n",
      "tensor([-1.6648,  0.9327])    1      1   \n",
      "tensor([ 2.8884, -1.1588])    0      0   \n",
      "tensor([ 1.1080, -2.1643])    0      0   \n",
      "tensor([ 2.4007, -1.4130])    0      0   \n",
      "tensor([-4.9656,  1.4911])    1      1   \n",
      "tensor([ 1.0492, -3.0409])    0      0   \n",
      "tensor([-1.2398,  1.3428])    1      1   \n",
      "tensor([ 1.2044, -1.7862])    0      0   \n",
      "tensor([ 3.0715, -0.9532])    0      0   \n",
      "tensor([ 1.8248, -1.4403])    0      0   \n",
      "tensor([-2.0106,  0.7805])    1      1   \n",
      "tensor([ 1.7691, -2.1559])    0      0   \n",
      "tensor([-3.5679,  1.1670])    1      1   \n",
      "tensor([ 1.5308, -2.3760])    0      1   \n",
      "tensor([ 1.7814, -2.1364])    0      0   \n",
      "tensor([ 1.0488, -0.3051])    0      0   \n",
      "tensor([ 2.2438, -1.7580])    0      0   \n",
      "tensor([-2.7073,  0.2314])    1      1   \n",
      "tensor([-1.4891,  0.5462])    1      1   \n",
      "tensor([-2.0723,  0.4434])    1      1   \n",
      "tensor([-2.5130,  1.7858])    1      1   \n",
      "tensor([-5.9460,  3.6746])    1      1   \n",
      "tensor([ 1.4134, -1.7819])    0      0   \n",
      "tensor([ 1.7990, -2.3646])    0      0   \n",
      "tensor([ 1.3151, -1.1858])    0      0   \n",
      "tensor([-1.8215,  1.3192])    1      1   \n",
      "tensor([ 1.7808, -1.2366])    0      0   \n",
      "tensor([ 1.5861, -1.7808])    0      0   \n",
      "tensor([-5.0697,  3.4757])    1      1   \n",
      "tensor([-1.7587,  1.1426])    1      1   \n",
      "tensor([-2.2388,  1.2163])    1      1   \n",
      "tensor([ 1.5983, -1.7567])    0      0   \n",
      "tensor([ 0.8129, -0.4442])    0      0   \n",
      "tensor([-4.2066,  3.1407])    1      1   \n",
      "tensor([ 1.4215, -1.0084])    0      1   \n",
      "tensor([ 0.7268, -0.5954])    0      1   \n",
      "tensor([ 1.2073, -1.6507])    0      0   \n",
      "tensor([0.8005, 0.0820])      0      0   \n",
      "tensor([ 0.2287, -0.7798])    0      0   \n",
      "tensor([-0.8904,  1.5076])    1      1   \n",
      "tensor([ 1.7653, -2.2026])    0      0   \n",
      "tensor([ 1.1502, -1.3617])    0      0   \n",
      "tensor([-2.2024,  0.3694])    1      1   \n",
      "tensor([-4.7752,  2.3362])    1      1   \n",
      "tensor([ 3.3072, -1.2142])    0      0   \n",
      "tensor([ 2.8488, -0.8065])    0      0   \n",
      "tensor([-0.3670, -0.0448])    1      0   \n",
      "\n",
      "45 out of 50 = 90.00% correct\n"
     ]
    }
   ],
   "source": [
    "rows = 50\n",
    "correct = 0\n",
    "print(f'{\"MODEL OUTPUT\":26} ARGMAX  Y_TEST')\n",
    "for i in range(rows):\n",
    "    print(f'{str(y_val[i]):26} {y_val[i].argmax():^7}{y_test[i]:^7}')\n",
    "    if y_val[i].argmax().item() == y_test[i]:\n",
    "        correct += 1\n",
    "print(f'\\n{correct} out of {rows} = {100*correct/rows:.2f}% correct')"
   ]
  },
  {
   "cell_type": "markdown",
   "metadata": {},
   "source": [
    "## Zapisz model\n",
    "Zapisz wytrenowany model do pliku, aby w przyszłości móc zasilić go nowymi danymi.\n"
   ]
  },
  {
   "cell_type": "code",
   "execution_count": 49,
   "metadata": {},
   "outputs": [],
   "source": [
    "# Pamiętaj, żeby zapisać model dopiero po zakończeniu treningu!\n",
    "if len(losses) == epochs:\n",
    "    torch.save(model.state_dict(), 'TaxiFareClssModel.pt')\n",
    "else:\n",
    "    print('Model has not been trained. Consider loading a trained model instead.')"
   ]
  },
  {
   "cell_type": "markdown",
   "metadata": {},
   "source": [
    "## Wczytanie zapisanego modelu (od zera)\n",
    "Możemy wczytać wyuczone wagi i biasy z zapisanej wersji. Jeśli dopiero otworzyłeś notatnik, uruchom najpierw standardowe importy i definicje funkcji. Aby to zademonstrować, przed dalszą pracą zrestartuj kernel.\n"
   ]
  },
  {
   "cell_type": "code",
   "execution_count": 50,
   "metadata": {},
   "outputs": [],
   "source": [
    "import torch\n",
    "import torch.nn as nn\n",
    "import numpy as np\n",
    "import pandas as pd\n",
    "\n",
    "def haversine_distance(df, lat1, long1, lat2, long2):\n",
    "    r = 6371\n",
    "    phi1 = np.radians(df[lat1])\n",
    "    phi2 = np.radians(df[lat2])\n",
    "    delta_phi = np.radians(df[lat2]-df[lat1])\n",
    "    delta_lambda = np.radians(df[long2]-df[long1])\n",
    "    a = np.sin(delta_phi/2)**2 + np.cos(phi1) * np.cos(phi2) * np.sin(delta_lambda/2)**2\n",
    "    c = 2 * np.arctan2(np.sqrt(a), np.sqrt(1-a))\n",
    "    return r * c\n",
    "\n",
    "class TabularModel(nn.Module):\n",
    "    def __init__(self, emb_szs, n_cont, out_sz, layers, p=0.5):\n",
    "        super().__init__()\n",
    "        self.embeds = nn.ModuleList([nn.Embedding(ni, nf) for ni,nf in emb_szs])\n",
    "        self.emb_drop = nn.Dropout(p)\n",
    "        self.bn_cont = nn.BatchNorm1d(n_cont)\n",
    "        layerlist = []\n",
    "        n_emb = sum((nf for ni,nf in emb_szs))\n",
    "        n_in = n_emb + n_cont\n",
    "        for i in layers:\n",
    "            layerlist.append(nn.Linear(n_in,i)) \n",
    "            layerlist.append(nn.ReLU(inplace=True))\n",
    "            layerlist.append(nn.BatchNorm1d(i))\n",
    "            layerlist.append(nn.Dropout(p))\n",
    "            n_in = i\n",
    "        layerlist.append(nn.Linear(layers[-1],out_sz))\n",
    "        self.layers = nn.Sequential(*layerlist)\n",
    "    def forward(self, x_cat, x_cont):\n",
    "        embeddings = []\n",
    "        for i,e in enumerate(self.embeds):\n",
    "            embeddings.append(e(x_cat[:,i]))\n",
    "        x = torch.cat(embeddings, 1)\n",
    "        x = self.emb_drop(x)\n",
    "        x_cont = self.bn_cont(x_cont)\n",
    "        x = torch.cat([x, x_cont], 1)\n",
    "        return self.layers(x)"
   ]
  },
  {
   "cell_type": "markdown",
   "metadata": {},
   "source": [
    "Zdefiniujmy model. Zanim załadujemy zapisane ustawienia, musimy utworzyć TabularModel z tymi samymi parametrami co wcześniej (rozmiary embeddingów, liczba zmiennych ciągłych, rozmiar wyjścia, rozmiary warstw i wartość dropout).\n"
   ]
  },
  {
   "cell_type": "code",
   "execution_count": 51,
   "metadata": {},
   "outputs": [],
   "source": [
    "emb_szs = [(24, 12), (2, 1), (7, 4)]\n",
    "model2 = TabularModel(emb_szs, 6, 2, [200,100], p=0.4)"
   ]
  },
  {
   "cell_type": "markdown",
   "metadata": {},
   "source": [
    "Gdy model jest gotowy, załadowanie zapisanych ustawień to formalność.\n"
   ]
  },
  {
   "cell_type": "code",
   "execution_count": 52,
   "metadata": {},
   "outputs": [
    {
     "data": {
      "text/plain": [
       "TabularModel(\n",
       "  (embeds): ModuleList(\n",
       "    (0): Embedding(24, 12)\n",
       "    (1): Embedding(2, 1)\n",
       "    (2): Embedding(7, 4)\n",
       "  )\n",
       "  (emb_drop): Dropout(p=0.4, inplace=False)\n",
       "  (bn_cont): BatchNorm1d(6, eps=1e-05, momentum=0.1, affine=True, track_running_stats=True)\n",
       "  (layers): Sequential(\n",
       "    (0): Linear(in_features=23, out_features=200, bias=True)\n",
       "    (1): ReLU(inplace=True)\n",
       "    (2): BatchNorm1d(200, eps=1e-05, momentum=0.1, affine=True, track_running_stats=True)\n",
       "    (3): Dropout(p=0.4, inplace=False)\n",
       "    (4): Linear(in_features=200, out_features=100, bias=True)\n",
       "    (5): ReLU(inplace=True)\n",
       "    (6): BatchNorm1d(100, eps=1e-05, momentum=0.1, affine=True, track_running_stats=True)\n",
       "    (7): Dropout(p=0.4, inplace=False)\n",
       "    (8): Linear(in_features=100, out_features=2, bias=True)\n",
       "  )\n",
       ")"
      ]
     },
     "execution_count": 52,
     "metadata": {},
     "output_type": "execute_result"
    }
   ],
   "source": [
    "model2.load_state_dict(torch.load('TaxiFareClssModel.pt'));\n",
    "model2.eval() # koniecznie wykonaj ten krok!"
   ]
  },
  {
   "cell_type": "markdown",
   "metadata": {},
   "source": [
    "Zdefiniujemy teraz funkcję, która przyjmie nowe dane użytkownika, wykona wszystkie opisane wcześniej kroki przetwarzania i przekaże dane przez wytrenowany model.\n"
   ]
  },
  {
   "cell_type": "code",
   "execution_count": 53,
   "metadata": {},
   "outputs": [],
   "source": [
    "def test_data(mdl): # przekaż nazwę nowego modelu\n",
    "    # WPROWADŹ NOWE DANE\n",
    "    plat = float(input('What is the pickup latitude?  '))\n",
    "    plong = float(input('What is the pickup longitude? '))\n",
    "    dlat = float(input('What is the dropoff latitude?  '))\n",
    "    dlong = float(input('What is the dropoff longitude? '))\n",
    "    psngr = int(input('How many passengers? '))\n",
    "    dt = input('What is the pickup date and time?\\nFormat as YYYY-MM-DD HH:MM:SS     ')\n",
    "    \n",
    "    # PRZETWÓRZ DANE\n",
    "    dfx_dict = {'pickup_latitude':plat,'pickup_longitude':plong,'dropoff_latitude':dlat,\n",
    "         'dropoff_longitude':dlong,'passenger_count':psngr,'EDTdate':dt}\n",
    "    dfx = pd.DataFrame(dfx_dict, index=[0])\n",
    "    dfx['dist_km'] = haversine_distance(dfx,'pickup_latitude', 'pickup_longitude',\n",
    "                                        'dropoff_latitude', 'dropoff_longitude')\n",
    "    dfx['EDTdate'] = pd.to_datetime(dfx['EDTdate'])\n",
    "    \n",
    "    # Możemy pominąć krok .astype(category), bo pola są niewielkie,\n",
    "    # i zakodować je od razu\n",
    "    dfx['Hour'] = dfx['EDTdate'].dt.hour\n",
    "    dfx['AMorPM'] = np.where(dfx['Hour']<12,0,1) \n",
    "    dfx['Weekday'] = dfx['EDTdate'].dt.strftime(\"%a\")\n",
    "    dfx['Weekday'] = dfx['Weekday'].replace(['Fri','Mon','Sat','Sun','Thu','Tue','Wed'],\n",
    "                                            [0,1,2,3,4,5,6]).astype('int64')\n",
    "    # UTWÓRZ TENSORY KAT I CONT\n",
    "    cat_cols = ['Hour', 'AMorPM', 'Weekday']\n",
    "    cont_cols = ['pickup_latitude', 'pickup_longitude', 'dropoff_latitude',\n",
    "                 'dropoff_longitude', 'passenger_count', 'dist_km']\n",
    "    xcats = np.stack([dfx[col].values for col in cat_cols], 1)\n",
    "    xcats = torch.tensor(xcats, dtype=torch.int64)\n",
    "    xconts = np.stack([dfx[col].values for col in cont_cols], 1)\n",
    "    xconts = torch.tensor(xconts, dtype=torch.float)\n",
    "    \n",
    "    # PRZEPROWADŹ DANE PRZEZ MODEL BEZ WYKONYWANIA BACKPROP\n",
    "    with torch.no_grad():\n",
    "        z = mdl(xcats, xconts).argmax().item()\n",
    "    print(f'\\nThe predicted fare class is {z}')"
   ]
  },
  {
   "cell_type": "markdown",
   "metadata": {},
   "source": [
    "## Przepuść nowe dane przez wytrenowany model\n",
    "Dla wygody poniżej znajdziesz wartości minimalne i maksymalne każdej zmiennej:\n",
    "<table style=\"display: inline-block\">\n",
    "<tr><th>Kolumna</th><th>Minimum</th><th>Maksimum</th></tr>\n",
    "<tr><td>pickup_latitude</td><td>40</td><td>41</td></tr>\n",
    "<tr><td>pickup_longitude</td><td>-74.5</td><td>-73.3</td></tr>\n",
    "<tr><td>dropoff_latitude</td><td>40</td><td>41</td></tr>\n",
    "<tr><td>dropoff_longitude</td><td>-74.5</td><td>-73.3</td></tr>\n",
    "<tr><td>passenger_count</td><td>1</td><td>5</td></tr>\n",
    "<tr><td>EDTdate</td><td>2010-04-11 00:00:00</td><td>2010-04-24 23:59:42</td></tr>\n"
   ]
  },
  {
   "cell_type": "markdown",
   "metadata": {},
   "source": [
    "<strong>Zachowaj ostrożność!</strong> Odległość odpowiadająca 1 stopniowi szerokości geograficznej (od 40 do 41) to 111 km (69 mil), a 1 stopniowi długości (od -73 do -74) – 85 km (53 mile). Najdłuższy kurs w zbiorze różnił się zaledwie o 0.243 stopnia szerokości i 0.284 stopnia długości. Średnia różnica dla obu wynosi ok. 0.02. Aby uzyskać wiarygodne prognozy, korzystaj z wartości położonych blisko siebie.\n"
   ]
  },
  {
   "cell_type": "code",
   "execution_count": 54,
   "metadata": {},
   "outputs": [
    {
     "name": "stdin",
     "output_type": "stream",
     "text": [
      "What is the pickup latitude?   40\n",
      "What is the pickup longitude?  -74.5\n",
      "What is the dropoff latitude?   41\n",
      "What is the dropoff longitude?  -73\n",
      "How many passengers?  2\n",
      "What is the pickup date and time?\n",
      "Format as YYYY-MM-DD HH:MM:SS      2010-04-22 11:00:00\n"
     ]
    },
    {
     "name": "stdout",
     "output_type": "stream",
     "text": [
      "\n",
      "The predicted fare class is 1\n"
     ]
    },
    {
     "name": "stderr",
     "output_type": "stream",
     "text": [
      "/var/folders/ff/6wst9f1n1g96lc__ld426szh0000gn/T/ipykernel_36178/1854116044.py:23: FutureWarning: Downcasting behavior in `replace` is deprecated and will be removed in a future version. To retain the old behavior, explicitly call `result.infer_objects(copy=False)`. To opt-in to the future behavior, set `pd.set_option('future.no_silent_downcasting', True)`\n",
      "  dfx['Weekday'] = dfx['Weekday'].replace(['Fri','Mon','Sat','Sun','Thu','Tue','Wed'],\n"
     ]
    }
   ],
   "source": [
    "test_data(model2)"
   ]
  },
  {
   "cell_type": "markdown",
   "metadata": {},
   "source": [
    "Świetnie! Poprzednia regresja przewidywała cenę około \\$14, a klasyfikacja binarna słusznie ocenia, że kurs przekracza 10 dolarów.\n",
    "## Świetna robota!\n"
   ]
  },
  {
   "cell_type": "code",
   "execution_count": null,
   "metadata": {},
   "outputs": [],
   "source": []
  },
  {
   "cell_type": "code",
   "execution_count": null,
   "metadata": {},
   "outputs": [],
   "source": []
  },
  {
   "cell_type": "code",
   "execution_count": null,
   "metadata": {},
   "outputs": [],
   "source": []
  }
 ],
 "metadata": {
  "kernelspec": {
   "display_name": "Python 3 (ipykernel)",
   "language": "python",
   "name": "python3"
  },
  "language_info": {
   "codemirror_mode": {
    "name": "ipython",
    "version": 3
   },
   "file_extension": ".py",
   "mimetype": "text/x-python",
   "name": "python",
   "nbconvert_exporter": "python",
   "pygments_lexer": "ipython3",
   "version": "3.12.9"
  }
 },
 "nbformat": 4,
 "nbformat_minor": 4
}
