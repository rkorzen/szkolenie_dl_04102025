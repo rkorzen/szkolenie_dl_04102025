{
 "cells": [
  {
   "cell_type": "code",
   "execution_count": 2,
   "id": "6dd94742-fcd3-4e0a-ba77-3f3fccc80350",
   "metadata": {},
   "outputs": [],
   "source": [
    "import numpy as np\n",
    "\n",
    "# Funkcja aktywacji (progowa)\n",
    "def threshold_function(x: np.array, threshold: int = 0) -> np.array:\n",
    "    \"\"\"\n",
    "    Funkcja progowa (threshold function).\n",
    "\n",
    "    Dla wartości wejściowej x:\n",
    "    - zwraca 1, jeśli x >= threshold,\n",
    "    - zwraca 0, jeśli x < threshold.\n",
    "\n",
    "    Parametry\n",
    "    ---------\n",
    "    x : np.array lub float\n",
    "        Wartość (lub tablica wartości) do sprawdzenia.\n",
    "    threshold : int, domyślnie 0\n",
    "        Próg aktywacji.\n",
    "\n",
    "    Zwraca\n",
    "    -------\n",
    "    np.array\n",
    "        Wartości 0 lub 1 po zastosowaniu funkcji progowej.\n",
    "    \"\"\"\n",
    "    return np.where(x >= threshold, 1, 0)\n",
    "\n",
    "\n",
    "class Perceptron:\n",
    "    \"\"\"\n",
    "    Implementacja prostego perceptronu binarnego (uczenie nadzorowane).\n",
    "\n",
    "    Perceptron uczy się liniowej granicy decyzyjnej dla klasyfikacji\n",
    "    na podstawie wektorów cech i etykiet binarnych (0 lub 1).\n",
    "    \"\"\"\n",
    "\n",
    "    def __init__(self, learning_rate=0.01, epochs=100,\n",
    "                 activation_function=threshold_function,\n",
    "                 start_weights=None, start_bias=None):\n",
    "        \"\"\"\n",
    "        Inicjalizacja perceptronu.\n",
    "\n",
    "        Parametry\n",
    "        ---------\n",
    "        learning_rate : float\n",
    "            Współczynnik uczenia (krok aktualizacji wag).\n",
    "        epochs : int\n",
    "            Liczba epok, tj. ile razy przechodzimy przez cały zbiór treningowy.\n",
    "        activation_function : callable\n",
    "            Funkcja aktywacji (np. progowa, sigmoid).\n",
    "        start_weights : np.array lub None\n",
    "            Wagi początkowe (jeśli None, będą zainicjalizowane zerami).\n",
    "        start_bias : float lub None\n",
    "            Bias początkowy (jeśli None, startuje od 0).\n",
    "        \"\"\"\n",
    "        # hiperparametry\n",
    "        self.lr = learning_rate\n",
    "        self.epochs = epochs\n",
    "        self.activation_func = activation_function\n",
    "\n",
    "        # parametry (uczone podczas treningu)\n",
    "        self.weights = start_weights\n",
    "        self.bias = start_bias or 0\n",
    "\n",
    "    def fit(self, features, labels):\n",
    "        \"\"\"\n",
    "        Trenuje perceptron na podanych danych.\n",
    "\n",
    "        Parametry\n",
    "        ---------\n",
    "        features : np.array, shape (n_samples, n_features)\n",
    "            Macierz cech (wejścia).\n",
    "        labels : np.array lub lista, shape (n_samples,)\n",
    "            Etykiety klas (0 lub 1).\n",
    "        \"\"\"\n",
    "        n_samples, n_features = features.shape\n",
    "\n",
    "        # Inicjalizacja wag zerami (jeśli nie podano startowych)\n",
    "        self.weights = np.zeros(n_features)\n",
    "\n",
    "        y = np.array(labels)\n",
    "\n",
    "        # Pętla ucząca (epoki)\n",
    "        for _ in range(self.epochs):\n",
    "            # Iterujemy po wszystkich próbkach\n",
    "            for i, x_i in enumerate(features):\n",
    "                # Obliczamy wyjście liniowe\n",
    "                linear_output = self._linear_output(x_i)\n",
    "\n",
    "                # Przepuszczamy przez funkcję aktywacji\n",
    "                y_predicted = self.activation_func(linear_output)\n",
    "\n",
    "                # Obliczamy błąd (y_true - y_pred)\n",
    "                # i wyznaczamy wielkość aktualizacji\n",
    "                update = self.lr * (y[i] - y_predicted)\n",
    "\n",
    "                # Aktualizacja wag i biasu\n",
    "                self.weights += update * x_i\n",
    "                self.bias += update\n",
    "\n",
    "    def _linear_output(self, features):\n",
    "        \"\"\"\n",
    "        Oblicza wyjście liniowe (iloczyn skalarny wejścia i wag + bias).\n",
    "\n",
    "        Parametry\n",
    "        ---------\n",
    "        features : np.array, shape (n_features,)\n",
    "            Wektor cech dla jednej próbki.\n",
    "\n",
    "        Zwraca\n",
    "        -------\n",
    "        float\n",
    "            Wartość liniowej kombinacji cech.\n",
    "        \"\"\"\n",
    "        return features @ self.weights + self.bias\n",
    "    \n",
    "    def predict(self, features):\n",
    "        \"\"\"\n",
    "        Przewiduje etykiety dla nowych danych.\n",
    "\n",
    "        Parametry\n",
    "        ---------\n",
    "        features : np.array, shape (n_samples, n_features) lub (n_features,)\n",
    "            Dane wejściowe.\n",
    "\n",
    "        Zwraca\n",
    "        -------\n",
    "        np.array\n",
    "            Predykcje (0 lub 1) dla próbek wejściowych.\n",
    "        \"\"\"\n",
    "        linear_output = self._linear_output(features)\n",
    "        y_predicted = self.activation_func(linear_output)\n",
    "        return y_predicted\n"
   ]
  },
  {
   "cell_type": "markdown",
   "id": "8daa5345-7c6e-44b0-b337-7e8c3c790e2c",
   "metadata": {},
   "source": [
    "W danych masz tylko wzrost i wagę. Musisz je wczytac i przytgotowac sobie labelki\n",
    "Funkcja wczytujaca powinna zwrocić cechy i lableki\n",
    "\n",
    "```\n",
    "def load_data(filepath):\n",
    "    ...\n",
    "\n",
    "    return features, labels"
   ]
  },
  {
   "cell_type": "code",
   "execution_count": 22,
   "id": "7d07b1a9-852b-4b20-8249-beb5365973a9",
   "metadata": {},
   "outputs": [],
   "source": [
    "# napisz funkcję, która wczyta dane  i przygotowuje jedo treningu perceptronu.\n",
    "\n",
    "def load_data(filepath: str):\n",
    "    \"\"\"\n",
    "    Wczytuje dane z pliku tekstowego wzrost_waga.txt i przygotowuje je\n",
    "    do treningu perceptronu.\n",
    "\n",
    "    Plik powinien mieć format CSV z kolumnami:\n",
    "        wzrost, waga, etykieta\n",
    "    gdzie etykieta = 0 lub 1.\n",
    "\n",
    "    Parametry\n",
    "    ---------\n",
    "    filepath : str\n",
    "        Ścieżka do pliku z danymi.\n",
    "\n",
    "    Zwraca\n",
    "    -------\n",
    "    features : np.array, shape (n_samples, 2)\n",
    "        Macierz cech [wzrost, waga].\n",
    "    labels : np.array, shape (n_samples,)\n",
    "        Etykiety klas (0 lub 1).\n",
    "    \"\"\"\n",
    "    data = np.loadtxt(filepath, delimiter=\",\", skiprows=1)  # pomijamy nagłówek\n",
    "    heights = data[:, 0] / 100 # bo to ma być w metrach\n",
    "    weights = data[:, 1]\n",
    "\n",
    "    # BMI = waga / (wzrost^2)\n",
    "    bmi = weights / (heights ** 2)\n",
    "\n",
    "    # klasy na podstawie progu\n",
    "    labels = np.where(bmi >= 25, 1, 0)\n",
    "\n",
    "    features = data  # wzrost, waga\n",
    "    return features, labels\n",
    "\n",
    "\n",
    "def load_data(filepath: str):\n",
    "    \"\"\"\n",
    "    Wczytuje dane z pliku CSV (np. wzrost_waga.txt) i przygotowuje je\n",
    "    do treningu perceptronu.\n",
    "\n",
    "    Plik powinien mieć format CSV z kolumnami:\n",
    "        wzrost, waga, etykieta (opcjonalnie)\n",
    "    gdzie etykieta = 0 lub 1.\n",
    "\n",
    "    Parametry\n",
    "    ---------\n",
    "    filepath : str\n",
    "        Ścieżka do pliku z danymi.\n",
    "\n",
    "    Zwraca\n",
    "    -------\n",
    "    features : np.ndarray, shape (n_samples, 2)\n",
    "        Macierz cech [wzrost, waga].\n",
    "    labels : np.ndarray, shape (n_samples,)\n",
    "        Etykiety klas (0 lub 1).\n",
    "        Jeśli w pliku nie ma kolumny \"etykieta\", zostaną wyliczone na podstawie BMI.\n",
    "    \"\"\"\n",
    "    df = pd.read_csv(filepath)\n",
    "\n",
    "    # konwersja wzrostu na metry\n",
    "    df[\"wzrost_m\"] = df[\"wzrost\"] / 100  \n",
    "\n",
    "    # obliczenie BMI\n",
    "    df[\"bmi\"] = df[\"waga\"] / (df[\"wzrost_m\"] ** 2)\n",
    "\n",
    "    # jeśli kolumna \"etykieta\" istnieje, używamy jej,\n",
    "    # jeśli nie – tworzymy na podstawie progu BMI\n",
    "    if \"etykieta\" in df.columns:\n",
    "        labels = df[\"etykieta\"].to_numpy()\n",
    "    else:\n",
    "        labels = np.where(df[\"bmi\"] >= 25, 1, 0)\n",
    "\n",
    "    # cechy: tylko wzrost i waga\n",
    "    features = df[[\"wzrost\", \"waga\"]].to_numpy()\n",
    "\n",
    "    return features, labels"
   ]
  },
  {
   "cell_type": "code",
   "execution_count": 23,
   "id": "20dd59f5-58dd-4ddb-ae89-8290a47180b2",
   "metadata": {},
   "outputs": [
    {
     "data": {
      "text/plain": [
       "array([0, 0, 0, 1, 0, 0, 0, 1, 1, 1, 0, 0, 1, 1, 0, 0, 0, 0, 1, 1, 1, 0,\n",
       "       0, 1, 1, 0, 1, 1, 1, 0])"
      ]
     },
     "execution_count": 23,
     "metadata": {},
     "output_type": "execute_result"
    }
   ],
   "source": [
    "# 1. Wczytaj dane\n",
    "X, y = load_data(\"wzrost_waga.txt\")\n",
    "y"
   ]
  },
  {
   "cell_type": "code",
   "execution_count": 24,
   "id": "0200383e-c4ee-49f5-bd59-02ed473bbe60",
   "metadata": {},
   "outputs": [
    {
     "data": {
      "text/plain": [
       "array([[162.,  48.],\n",
       "       [163.,  60.],\n",
       "       [182.,  60.],\n",
       "       [187., 107.],\n",
       "       [169.,  59.],\n",
       "       [165.,  60.],\n",
       "       [168.,  67.],\n",
       "       [179., 107.],\n",
       "       [157.,  75.],\n",
       "       [160.,  85.],\n",
       "       [167.,  62.],\n",
       "       [173.,  72.],\n",
       "       [179., 100.],\n",
       "       [165.,  74.],\n",
       "       [159.,  55.],\n",
       "       [165.,  57.],\n",
       "       [175.,  71.],\n",
       "       [157.,  56.],\n",
       "       [168.,  87.],\n",
       "       [168.,  82.],\n",
       "       [164.,  74.],\n",
       "       [182.,  77.],\n",
       "       [163.,  56.],\n",
       "       [162.,  70.],\n",
       "       [159.,  78.],\n",
       "       [188.,  69.],\n",
       "       [162.,  80.],\n",
       "       [176.,  91.],\n",
       "       [155.,  81.],\n",
       "       [187.,  79.]])"
      ]
     },
     "execution_count": 24,
     "metadata": {},
     "output_type": "execute_result"
    }
   ],
   "source": [
    "X"
   ]
  },
  {
   "cell_type": "code",
   "execution_count": 16,
   "id": "9a3da70d-c522-42c0-87a3-9db13b5e9a6e",
   "metadata": {},
   "outputs": [],
   "source": [
    "# 2. Utwórz i wytrenuj perceptron\n",
    "p = Perceptron(learning_rate=0.01, epochs=100)\n",
    "p.fit(X, y)"
   ]
  },
  {
   "cell_type": "code",
   "execution_count": 28,
   "id": "b17d9134-25da-45e3-a431-8e2eda66be2d",
   "metadata": {},
   "outputs": [
    {
     "name": "stdout",
     "output_type": "stream",
     "text": [
      "[0.00117187 0.00222041 0.00277778 0.00293848 0.00263158 0.00207612\n",
      " 0.00291363]\n"
     ]
    },
    {
     "data": {
      "text/plain": [
       "array([[160,  30],\n",
       "       [175,  68],\n",
       "       [180,  90],\n",
       "       [165,  80],\n",
       "       [190,  95],\n",
       "       [170,  60],\n",
       "       [155,  70]])"
      ]
     },
     "execution_count": 28,
     "metadata": {},
     "output_type": "execute_result"
    }
   ],
   "source": [
    "# 3. sprawdz na danych testowych jak dziala model\n",
    "# Dane: [wzrost (m), waga (kg), klasa]\n",
    "# Klasa obliczona na podstawie BMI (próg = 25)\n",
    "data = np.array([\n",
    "    [160, 30, 0],   # BMI = 19.5 → klasa 0\n",
    "    [175, 68, 0],   # BMI = 22.2 → klasa 0\n",
    "    [180, 90, 1],   # BMI = 27.8 → klasa 1\n",
    "    [165, 80, 1],   # BMI = 29.4 → klasa 1\n",
    "    [190, 95, 1],   # BMI = 26.3 → klasa 1\n",
    "    [170, 60, 0],   # BMI = 20.8 → klasa 0\n",
    "    [155, 70, 1],   # BMI = 29.1 → klasa 1\n",
    "])\n",
    "\n",
    "print(data[:,1] /data[:,0] ** 2)\n",
    "\n",
    "# Podział na cechy (X) i etykiety (y)\n",
    "X_test = data[:, :2]   # wzrost, waga\n",
    "y_test = data[:, 2]    # klasa\n",
    "\n",
    "X_test\n"
   ]
  },
  {
   "cell_type": "code",
   "execution_count": 29,
   "id": "b40e4866-a481-45b2-8df9-639d760d75ea",
   "metadata": {},
   "outputs": [
    {
     "data": {
      "text/plain": [
       "array([0, 0, 1, 1, 1, 0, 1])"
      ]
     },
     "execution_count": 29,
     "metadata": {},
     "output_type": "execute_result"
    }
   ],
   "source": [
    "predictions = p.predict(X_test)\n",
    "predictions"
   ]
  },
  {
   "cell_type": "code",
   "execution_count": 27,
   "id": "98a4abf5-0e77-4d63-92d0-e33964231074",
   "metadata": {},
   "outputs": [
    {
     "data": {
      "text/plain": [
       "array([0., 0., 1., 1., 1., 0., 1.])"
      ]
     },
     "execution_count": 27,
     "metadata": {},
     "output_type": "execute_result"
    }
   ],
   "source": [
    "y_test"
   ]
  },
  {
   "cell_type": "code",
   "execution_count": 30,
   "id": "0f15939d-a2b2-4a22-b788-4e8ab1e6d195",
   "metadata": {},
   "outputs": [],
   "source": [
    "\n",
    "\n",
    "def confusion_matrix(y_true, y_pred):\n",
    "    \"\"\"\n",
    "    Oblicza macierz pomyłek (confusion matrix) dla klasyfikacji binarnej.\n",
    "\n",
    "    Parametry\n",
    "    ---------\n",
    "    y_true : np.array\n",
    "        Rzeczywiste etykiety (0 lub 1).\n",
    "    y_pred : np.array\n",
    "        Predykcje modelu (0 lub 1).\n",
    "\n",
    "    Zwraca\n",
    "    -------\n",
    "    dict\n",
    "        Słownik z wartościami: TP, TN, FP, FN oraz macierz 2x2.\n",
    "    \"\"\"\n",
    "    y_true = np.array(y_true)\n",
    "    y_pred = np.array(y_pred)\n",
    "\n",
    "    TP = np.sum((y_true == 1) & (y_pred == 1))\n",
    "    TN = np.sum((y_true == 0) & (y_pred == 0))\n",
    "    FP = np.sum((y_true == 0) & (y_pred == 1))\n",
    "    FN = np.sum((y_true == 1) & (y_pred == 0))\n",
    "\n",
    "    matrix = np.array([[TN, FP],\n",
    "                       [FN, TP]])\n",
    "\n",
    "    return {\n",
    "        \"TN\": TN, \"FP\": FP,\n",
    "        \"FN\": FN, \"TP\": TP,\n",
    "        \"matrix\": matrix\n",
    "    }\n"
   ]
  },
  {
   "cell_type": "code",
   "execution_count": 31,
   "id": "8b289513-e761-4e9a-93ca-45ce6b449a39",
   "metadata": {},
   "outputs": [
    {
     "data": {
      "text/plain": [
       "{'TN': 3,\n",
       " 'FP': 0,\n",
       " 'FN': 0,\n",
       " 'TP': 4,\n",
       " 'matrix': array([[3, 0],\n",
       "        [0, 4]])}"
      ]
     },
     "execution_count": 31,
     "metadata": {},
     "output_type": "execute_result"
    }
   ],
   "source": [
    "confusion_matrix(y_test, predictions)"
   ]
  },
  {
   "cell_type": "code",
   "execution_count": 34,
   "id": "5d17741c-4147-4c36-a306-019cbaab5d18",
   "metadata": {},
   "outputs": [],
   "source": [
    "def accuracy_score(y_true, y_pred):\n",
    "    \"\"\"\n",
    "    Accuracy = (TP + TN) / (TP + TN + FP + FN)\n",
    "    \"\"\"\n",
    "    y_true = np.array(y_true)\n",
    "    y_pred = np.array(y_pred)\n",
    "    return np.mean(y_true == y_pred)\n",
    "\n",
    "\n",
    "def precision_score(y_true, y_pred):\n",
    "    \"\"\"\n",
    "    Precision = TP / (TP + FP)\n",
    "    \"\"\"\n",
    "    y_true = np.array(y_true)\n",
    "    y_pred = np.array(y_pred)\n",
    "    TP = np.sum((y_true == 1) & (y_pred == 1))\n",
    "    FP = np.sum((y_true == 0) & (y_pred == 1))\n",
    "    return TP / (TP + FP) if (TP + FP) > 0 else 0.0\n"
   ]
  },
  {
   "cell_type": "code",
   "execution_count": 36,
   "id": "5383f76d-10d2-49c8-980d-86a23d40cb3d",
   "metadata": {},
   "outputs": [
    {
     "data": {
      "text/plain": [
       "1.0"
      ]
     },
     "execution_count": 36,
     "metadata": {},
     "output_type": "execute_result"
    }
   ],
   "source": [
    "accuracy_score(y_test, predictions)"
   ]
  },
  {
   "cell_type": "code",
   "execution_count": 37,
   "id": "6a7b1665-4f5f-4963-8062-c57a13aff3a8",
   "metadata": {},
   "outputs": [
    {
     "data": {
      "text/plain": [
       "1.0"
      ]
     },
     "execution_count": 37,
     "metadata": {},
     "output_type": "execute_result"
    }
   ],
   "source": [
    "precision_score(y_test, predictions)"
   ]
  },
  {
   "cell_type": "code",
   "execution_count": null,
   "id": "285e992e-f83a-4660-9c81-54429c565909",
   "metadata": {},
   "outputs": [],
   "source": []
  }
 ],
 "metadata": {
  "kernelspec": {
   "display_name": "Python 3 (ipykernel)",
   "language": "python",
   "name": "python3"
  },
  "language_info": {
   "codemirror_mode": {
    "name": "ipython",
    "version": 3
   },
   "file_extension": ".py",
   "mimetype": "text/x-python",
   "name": "python",
   "nbconvert_exporter": "python",
   "pygments_lexer": "ipython3",
   "version": "3.12.9"
  }
 },
 "nbformat": 4,
 "nbformat_minor": 5
}
