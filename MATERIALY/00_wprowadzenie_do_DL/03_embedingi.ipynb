{
 "cells": [
  {
   "cell_type": "markdown",
   "id": "cb46bcbe",
   "metadata": {},
   "source": [
    "# Embeddingi w Uczeniu Maszynowym\n",
    "Embedding to reprezentacja obiektów (np. słów, produktów, użytkowników) w przestrzeni wektorowej o niskim wymiarze. Umożliwia uchwycenie podobieństw semantycznych lub kontekstowych, których nie widać w prostych reprezentacjach.\n",
    "\n",
    "Embeddingi istnieją tylko „na tokenach” i bez tokenizacji nie da się ich użyć."
   ]
  },
  {
   "cell_type": "markdown",
   "id": "621f2cf9-dfd8-4352-a1c7-d30f246744e3",
   "metadata": {},
   "source": [
    "\n",
    "## Token – co to jest?\n",
    "\n",
    "**Token** to podstawowa jednostka tekstu, na której pracuje model NLP.\n",
    "To „kawałek” zdania zamieniony na liczbę (indeks w słowniku).\n",
    "\n",
    "### Rodzaje tokenów\n",
    "\n",
    "* **słowo** – np. „lubię uczyć się” → `[lubię] [uczyć] [się]`\n",
    "* **znak (litera)** – „kot” → `[k] [o] [t]`\n",
    "* **subword (fragment wyrazu)** – „uczyłbym” → `[uczył] [by] [m]`\n",
    "* **specjalne tokeny** – `<pad>` (padding), `<unk>` (nieznane słowo), `<cls>` (początek zdania)\n",
    "\n",
    "### Token w praktyce\n",
    "\n",
    "1. **Tokenizacja** – tekst dzielimy na tokeny.\n",
    "   „lubię uczyć się pytorch” → `[1, 2, 3, 4]`\n",
    "   (gdzie każdemu słowu przypisany jest numer w słowniku).\n",
    "2. **Embedding** – każdy token (numer) zamieniany jest na wektor liczb.\n",
    "   `[1, 2, 3, 4]` →\n",
    "\n",
    "   ```\n",
    "   [[0.01, -0.02, 0.03],   # token „lubię”\n",
    "    [0.05,  0.01, -0.04],  # token „uczyć”\n",
    "    [0.02,  0.07, -0.01],  # token „się”\n",
    "    [0.09, -0.03, 0.02]]   # token „pytorch”\n",
    "   ```\n",
    "\n",
    "### Podsumowanie\n",
    "\n",
    "* **Token = indeks w słowniku** (np. 2 → „uczyć”).\n",
    "* **Embedding = wektor liczb przypisany do tokenu**, który reprezentuje jego znaczenie w przestrzeni wektorowej.\n",
    "\n"
   ]
  },
  {
   "cell_type": "markdown",
   "id": "97e79ea9",
   "metadata": {},
   "source": [
    "## Dlaczego embeddingi?\n",
    "- **Problem z one-hot encodingiem**: \n",
    "  - wymiar wektora rośnie liniowo wraz z liczbą kategorii (np. dla 50 kategorii dostajemy wektory długości 50, w większości wypełnione zerami),\n",
    "  - brak informacji o podobieństwie między kategoriami (wszystkie są tak samo odległe).\n",
    "  - np. kategorie `1, 2, 3` → one-hot: `[1,0,0]`, `[0,1,0]`, `[0,0,1]`.\n",
    "- **Embeddingi (gęste wektory)**:\n",
    "  - reprezentują każdą kategorię jako wektor w przestrzeni o dużo niższym wymiarze (np. 50 kategorii → embeddingi 4-wymiarowe),\n",
    "  - odległość i kierunek wektorów mogą uchwycić podobieństwo między kategoriami (np. `pies` i `kot` będą bliżej siebie niż `pies` i `samochód`).\n",
    "- **Uczenie embeddingów**:\n",
    "  - embeddingi są **parametrami modelu**,\n",
    "  - są aktualizowane podczas trenowania (uczone end-to-end razem z resztą sieci),\n",
    "  - dzięki temu model sam znajduje „najlepszą” reprezentację kategorii dla zadania.\n"
   ]
  },
  {
   "cell_type": "markdown",
   "id": "1051f97c",
   "metadata": {},
   "source": [
    "## Jak embeddingi działają matematycznie\n",
    "- Każdy obiekt otrzymuje numer (indeks).\n",
    "- Indeks trafia do macierzy `E` o wymiarach `(liczba_kategorii, rozmiar_wektora)`.\n",
    "- Wektor embeddingu to po prostu wiersz macierzy `E` wskazywany przez indeks.\n",
    "- Podczas uczenia gradienty przepływają do odpowiednich wierszy, dzięki czemu wektory uczą się reprezentować relacje między obiektami."
   ]
  },
  {
   "cell_type": "markdown",
   "id": "4d988481",
   "metadata": {},
   "source": [
    "### Przykład: od `one-hot` do embeddingu\n",
    "Załóżmy, że mamy taki mały słownik:\n",
    "\n",
    "```{\"kot\":0, \"pies\":1, \"ryba\":2}``` \n",
    "\n",
    "i rozmiar wektora równy 3. \n",
    "\n",
    "Macierz embeddingu `E` będzie miała kształt `(3, 3)`. \n",
    "\n",
    "Wektor *kot* to odpowiedni wiersz macierzy. \n",
    "\n",
    "Poniżej pokazujemy, jak można wykorzystać prostą tablicę NumPy do symulacji pobierania embeddingów."
   ]
  },
  {
   "cell_type": "code",
   "execution_count": 94,
   "id": "2d887bef",
   "metadata": {},
   "outputs": [
    {
     "data": {
      "text/plain": [
       "array([ 0.2,  0.5, -0.1])"
      ]
     },
     "execution_count": 94,
     "metadata": {},
     "output_type": "execute_result"
    }
   ],
   "source": [
    "import numpy as np\n",
    "\n",
    "vocab = {\"kot\": 0, \"pies\": 1, \"ryba\": 2}\n",
    "E = np.array([\n",
    "    [0.2, 0.5, -0.1],  # wektor \"kot\"\n",
    "    [0.3, 0.4, -0.2],  # wektor \"pies\"\n",
    "    [-0.1, 0.7, 0.6],  # wektor \"ryba\"\n",
    "])\n",
    "\n",
    "word = \"kot\"\n",
    "idx = vocab[word]\n",
    "vector = E[idx]\n",
    "vector"
   ]
  },
  {
   "cell_type": "markdown",
   "id": "593c4f7f",
   "metadata": {},
   "source": [
    "Wynikowy wektor można użyć w dalszych obliczeniach (np. przekazać do warstw liniowych, LSTM czy Transformerów)."
   ]
  },
  {
   "cell_type": "markdown",
   "id": "2504ca00",
   "metadata": {},
   "source": [
    "## Trenowanie embeddingów\n",
    "\n",
    "Jedną z cech embeddingów jest to, że są uczone razem z modelem:\n",
    "\n",
    "1. Inicjalizujemy macierz losowo (lub z pretreningu).\n",
    "2. Przekazujemy indeksy kategorii przez warstwę embedding.\n",
    "3. Strata (np. krzyżowa entropia) aktualizuje konkretne wiersze macierzy.\n",
    "4. Po treningu mamy gęste reprezentacje uchwytujące współwystępowanie i podobieństwa.\n",
    "\n",
    "Embeddingi można również wstępnie wytrenować (Word2Vec, GloVe) i później dostosować do konkretnego zadania."
   ]
  },
  {
   "cell_type": "markdown",
   "id": "67909ada",
   "metadata": {},
   "source": [
    "### Embeddingi w TensorFlow\n",
    "\n",
    "W TensorFlow mamy specjalną warstwę `tf.keras.layers.Embedding`, która przyjmuje parametry `input_dim` (rozmiar słownika) oraz `output_dim` (rozmiar wektora). \n",
    "\n",
    "Warto ustawić również `mask_zero=True`, jeśli `0` oznacza padding - czyli wypełnianie pustych miejsc. "
   ]
  },
  {
   "cell_type": "code",
   "execution_count": 95,
   "id": "d9fa7265-47bc-455e-9a9a-6056ba5ca459",
   "metadata": {},
   "outputs": [],
   "source": [
    "import tensorflow as tf\n",
    "from tensorflow.keras.preprocessing.sequence import pad_sequences"
   ]
  },
  {
   "cell_type": "markdown",
   "id": "d4b6ede3-e658-4dac-8391-539782f1b1c8",
   "metadata": {},
   "source": [
    "#### Słownik słów\n",
    "\n",
    "`<pad>` = specjalny token paddingu, zawsze indeks `0`\n",
    "\n",
    "Używa się go, aby \"wypełnić\" krótsze sekwencje do jednakowej długości.\n",
    "\n",
    "Dzięki temu możemy ułożyć zdania w macierz (**batch**), gdzie wszystkie mają tyle samo elementów.\n",
    "\n",
    "Padding to też jest token - tyle, że taki specjalny, który ma swój indeks, ale jest ignorowany w obliczeniach dzięki mask_zero / padding_idx”."
   ]
  },
  {
   "cell_type": "code",
   "execution_count": 96,
   "id": "1a4aac1b-cfec-4a74-be73-b000af5a7367",
   "metadata": {},
   "outputs": [],
   "source": [
    "word_index = {\"<pad>\": 0, \"lubię\": 1, \"uczyć\": 2, \"się\": 3, \"pytorch\": 4, \"tensorflow\": 5}"
   ]
  },
  {
   "cell_type": "markdown",
   "id": "af0046c5-2a90-47f6-a026-3288469d18ba",
   "metadata": {},
   "source": [
    "#### zdania zakodowane indeksami (różne długości!)"
   ]
  },
  {
   "cell_type": "code",
   "execution_count": 97,
   "id": "2a33565f-e871-4688-996d-b2e4c7fb0e33",
   "metadata": {},
   "outputs": [],
   "source": [
    "sentences = [\n",
    "    [1, 2],                # \"lubię uczyć\"\n",
    "    [1, 5],                # \"lubię tensorflow\"\n",
    "    [1, 2, 3, 4],          # \"lubię uczyć się pytorch\"\n",
    "    [1, 2, 3, 5, 4],        # \"lubię uczyć się tensorflow pytorch\"\n",
    "    [1, 4, 1, 5, 1, 2, 3]  # \"lubię pytorch lubię tensorflow lubie uczyć się\n",
    "]\n"
   ]
  },
  {
   "cell_type": "markdown",
   "id": "152c7819-22dd-4acc-9090-4efd23108263",
   "metadata": {},
   "source": []
  },
  {
   "cell_type": "markdown",
   "id": "3f3a7eb8-bd0a-4681-8200-a8a3aac6b051",
   "metadata": {},
   "source": [
    "\n",
    "### Co to jest *batch*?\n",
    "\n",
    "Mamy 5 zdań - najdłuższe ma 7 wyrazów. Nasza próbka będzie mieć więc wymiar 5 x 7. Jak zbudujemy z tego macierz wypełnioną paddingami to to będzie batch - próbka\n",
    "\n",
    "* **Batch** = paczka/próbka zbiorcza danych, którą podajemy **naraz** do modelu w jednej iteracji.\n",
    "* Zamiast uczyć model na **pojedynczym zdaniu**, bierzemy kilka naraz, żeby:\n",
    "\n",
    "  1. **przyspieszyć uczenie** (wykorzystujemy równoległość na GPU),\n",
    "  2. **ustabilizować gradienty** (średnia z kilku próbek jest mniej „szarpana” niż z jednej).\n"
   ]
  },
  {
   "cell_type": "code",
   "execution_count": 98,
   "id": "e0c63145-2140-4a19-9d15-c70e75ad15b3",
   "metadata": {},
   "outputs": [],
   "source": [
    "# pad_sequences?"
   ]
  },
  {
   "cell_type": "code",
   "execution_count": 99,
   "id": "e793e669-50fe-46ac-a99c-2c0ef8f224f0",
   "metadata": {},
   "outputs": [
    {
     "name": "stdout",
     "output_type": "stream",
     "text": [
      "Sekwencje po paddingu:\n",
      " [[1 2 0 0 0 0 0]\n",
      " [1 5 0 0 0 0 0]\n",
      " [1 2 3 4 0 0 0]\n",
      " [1 2 3 5 4 0 0]\n",
      " [1 4 1 5 1 2 3]]\n"
     ]
    }
   ],
   "source": [
    "\n",
    "# --- padding do równej długości ---\n",
    "# domyślnie pad_sequences uzupełnia zerami (czyli <pad>)\n",
    "sequences = pad_sequences(sentences, padding=\"post\")\n",
    "\n",
    "print(\"Sekwencje po paddingu:\\n\", sequences)\n"
   ]
  },
  {
   "cell_type": "code",
   "execution_count": 100,
   "id": "1d985559",
   "metadata": {},
   "outputs": [
    {
     "data": {
      "text/plain": [
       "TensorShape([5, 7, 4])"
      ]
     },
     "execution_count": 100,
     "metadata": {},
     "output_type": "execute_result"
    }
   ],
   "source": [
    "\n",
    "# --- Warstwa embedding ---\n",
    "embedding_layer = tf.keras.layers.Embedding(\n",
    "    input_dim=len(word_index),  # rozmiar słownika = 6 (liczymy też <pad>)\n",
    "    output_dim=4,               # każdy token będzie reprezentowany 4 liczbowymi współrzędnymi\n",
    "    mask_zero=True,             # bardzo ważne: ignoruj indeks 0 (czyli padding)\n",
    ")\n",
    "\n",
    "# --- Zastosowanie warstwy embedding ---\n",
    "embedded = embedding_layer(sequences)\n",
    "embedded.shape"
   ]
  },
  {
   "cell_type": "markdown",
   "id": "7fa5e6cd-1daf-456f-a3c8-1dac11335388",
   "metadata": {},
   "source": [
    "Zwrócony tensor ma kształt `(batch, sequence_length, output_dim)`.\n",
    "\n",
    "Warstwę embedding można dalej połączyć z modelami sekwencyjnymi (LSTM, GRU) lub konwolucyjnymi."
   ]
  },
  {
   "cell_type": "markdown",
   "id": "6d90da32",
   "metadata": {},
   "source": [
    "### Mini model z embeddingiem TensorFlow\n",
    "\n",
    "Poniżej prosty model klasyfikacji sentymentu złożony z embeddingu, warstwy global average pooling i gęstej warstwy wyjściowej.\n",
    "\n",
    "Warstwa global average pooling uśrednia wektory embeddingów wszystkich tokenów w zdaniu, tworząc jeden reprezentacyjny wektor zdania niezależny od jego długości."
   ]
  },
  {
   "cell_type": "code",
   "execution_count": 101,
   "id": "0e97cf06",
   "metadata": {},
   "outputs": [
    {
     "data": {
      "text/html": [
       "<pre style=\"white-space:pre;overflow-x:auto;line-height:normal;font-family:Menlo,'DejaVu Sans Mono',consolas,'Courier New',monospace\"><span style=\"font-weight: bold\">Model: \"sequential_3\"</span>\n",
       "</pre>\n"
      ],
      "text/plain": [
       "\u001b[1mModel: \"sequential_3\"\u001b[0m\n"
      ]
     },
     "metadata": {},
     "output_type": "display_data"
    },
    {
     "data": {
      "text/html": [
       "<pre style=\"white-space:pre;overflow-x:auto;line-height:normal;font-family:Menlo,'DejaVu Sans Mono',consolas,'Courier New',monospace\">┏━━━━━━━━━━━━━━━━━━━━━━━━━━━━━━━━━┳━━━━━━━━━━━━━━━━━━━━━━━━┳━━━━━━━━━━━━━━━┓\n",
       "┃<span style=\"font-weight: bold\"> Layer (type)                    </span>┃<span style=\"font-weight: bold\"> Output Shape           </span>┃<span style=\"font-weight: bold\">       Param # </span>┃\n",
       "┡━━━━━━━━━━━━━━━━━━━━━━━━━━━━━━━━━╇━━━━━━━━━━━━━━━━━━━━━━━━╇━━━━━━━━━━━━━━━┩\n",
       "│ embedding_14 (<span style=\"color: #0087ff; text-decoration-color: #0087ff\">Embedding</span>)        │ (<span style=\"color: #00d7ff; text-decoration-color: #00d7ff\">None</span>, <span style=\"color: #00af00; text-decoration-color: #00af00\">5</span>, <span style=\"color: #00af00; text-decoration-color: #00af00\">4</span>)           │            <span style=\"color: #00af00; text-decoration-color: #00af00\">24</span> │\n",
       "├─────────────────────────────────┼────────────────────────┼───────────────┤\n",
       "│ global_average_pooling1d_4      │ (<span style=\"color: #00d7ff; text-decoration-color: #00d7ff\">None</span>, <span style=\"color: #00af00; text-decoration-color: #00af00\">4</span>)              │             <span style=\"color: #00af00; text-decoration-color: #00af00\">0</span> │\n",
       "│ (<span style=\"color: #0087ff; text-decoration-color: #0087ff\">GlobalAveragePooling1D</span>)        │                        │               │\n",
       "├─────────────────────────────────┼────────────────────────┼───────────────┤\n",
       "│ dense_3 (<span style=\"color: #0087ff; text-decoration-color: #0087ff\">Dense</span>)                 │ (<span style=\"color: #00d7ff; text-decoration-color: #00d7ff\">None</span>, <span style=\"color: #00af00; text-decoration-color: #00af00\">1</span>)              │             <span style=\"color: #00af00; text-decoration-color: #00af00\">5</span> │\n",
       "└─────────────────────────────────┴────────────────────────┴───────────────┘\n",
       "</pre>\n"
      ],
      "text/plain": [
       "┏━━━━━━━━━━━━━━━━━━━━━━━━━━━━━━━━━┳━━━━━━━━━━━━━━━━━━━━━━━━┳━━━━━━━━━━━━━━━┓\n",
       "┃\u001b[1m \u001b[0m\u001b[1mLayer (type)                   \u001b[0m\u001b[1m \u001b[0m┃\u001b[1m \u001b[0m\u001b[1mOutput Shape          \u001b[0m\u001b[1m \u001b[0m┃\u001b[1m \u001b[0m\u001b[1m      Param #\u001b[0m\u001b[1m \u001b[0m┃\n",
       "┡━━━━━━━━━━━━━━━━━━━━━━━━━━━━━━━━━╇━━━━━━━━━━━━━━━━━━━━━━━━╇━━━━━━━━━━━━━━━┩\n",
       "│ embedding_14 (\u001b[38;5;33mEmbedding\u001b[0m)        │ (\u001b[38;5;45mNone\u001b[0m, \u001b[38;5;34m5\u001b[0m, \u001b[38;5;34m4\u001b[0m)           │            \u001b[38;5;34m24\u001b[0m │\n",
       "├─────────────────────────────────┼────────────────────────┼───────────────┤\n",
       "│ global_average_pooling1d_4      │ (\u001b[38;5;45mNone\u001b[0m, \u001b[38;5;34m4\u001b[0m)              │             \u001b[38;5;34m0\u001b[0m │\n",
       "│ (\u001b[38;5;33mGlobalAveragePooling1D\u001b[0m)        │                        │               │\n",
       "├─────────────────────────────────┼────────────────────────┼───────────────┤\n",
       "│ dense_3 (\u001b[38;5;33mDense\u001b[0m)                 │ (\u001b[38;5;45mNone\u001b[0m, \u001b[38;5;34m1\u001b[0m)              │             \u001b[38;5;34m5\u001b[0m │\n",
       "└─────────────────────────────────┴────────────────────────┴───────────────┘\n"
      ]
     },
     "metadata": {},
     "output_type": "display_data"
    },
    {
     "data": {
      "text/html": [
       "<pre style=\"white-space:pre;overflow-x:auto;line-height:normal;font-family:Menlo,'DejaVu Sans Mono',consolas,'Courier New',monospace\"><span style=\"font-weight: bold\"> Total params: </span><span style=\"color: #00af00; text-decoration-color: #00af00\">29</span> (116.00 B)\n",
       "</pre>\n"
      ],
      "text/plain": [
       "\u001b[1m Total params: \u001b[0m\u001b[38;5;34m29\u001b[0m (116.00 B)\n"
      ]
     },
     "metadata": {},
     "output_type": "display_data"
    },
    {
     "data": {
      "text/html": [
       "<pre style=\"white-space:pre;overflow-x:auto;line-height:normal;font-family:Menlo,'DejaVu Sans Mono',consolas,'Courier New',monospace\"><span style=\"font-weight: bold\"> Trainable params: </span><span style=\"color: #00af00; text-decoration-color: #00af00\">29</span> (116.00 B)\n",
       "</pre>\n"
      ],
      "text/plain": [
       "\u001b[1m Trainable params: \u001b[0m\u001b[38;5;34m29\u001b[0m (116.00 B)\n"
      ]
     },
     "metadata": {},
     "output_type": "display_data"
    },
    {
     "data": {
      "text/html": [
       "<pre style=\"white-space:pre;overflow-x:auto;line-height:normal;font-family:Menlo,'DejaVu Sans Mono',consolas,'Courier New',monospace\"><span style=\"font-weight: bold\"> Non-trainable params: </span><span style=\"color: #00af00; text-decoration-color: #00af00\">0</span> (0.00 B)\n",
       "</pre>\n"
      ],
      "text/plain": [
       "\u001b[1m Non-trainable params: \u001b[0m\u001b[38;5;34m0\u001b[0m (0.00 B)\n"
      ]
     },
     "metadata": {},
     "output_type": "display_data"
    }
   ],
   "source": [
    "model_tf = tf.keras.Sequential([\n",
    "    tf.keras.layers.Embedding(input_dim=len(word_index), output_dim=4, mask_zero=True),\n",
    "    tf.keras.layers.GlobalAveragePooling1D(),\n",
    "    tf.keras.layers.Dense(1, activation=\"sigmoid\"),\n",
    "])\n",
    "\n",
    "model_tf.compile(optimizer=\"adam\", loss=\"binary_crossentropy\")\n",
    "model_tf.build(input_shape=(None, 5))\n",
    "model_tf.summary()"
   ]
  },
  {
   "cell_type": "code",
   "execution_count": 102,
   "id": "f7b0c2cc-e3db-484b-b78a-85e125ed5086",
   "metadata": {},
   "outputs": [
    {
     "name": "stdout",
     "output_type": "stream",
     "text": [
      "Kształt wejścia: (2, 5)\n",
      "Kształt po embeddingu: (2, 5, 4)\n"
     ]
    },
    {
     "data": {
      "text/plain": [
       "<tf.Tensor: shape=(2, 5, 4), dtype=float32, numpy=\n",
       "array([[[-0.04859709,  0.04813931, -0.02673558,  0.03258622],\n",
       "        [-0.03453139,  0.04224342,  0.01542932,  0.00607534],\n",
       "        [-0.02308285,  0.03955093, -0.00429424, -0.04624949],\n",
       "        [-0.03083962, -0.03724318,  0.03123887, -0.02536358],\n",
       "        [-0.03083962, -0.03724318,  0.03123887, -0.02536358]],\n",
       "\n",
       "       [[-0.03374977,  0.04049555,  0.0312377 ,  0.00256505],\n",
       "        [-0.03451729,  0.01253356,  0.02043447,  0.0099626 ],\n",
       "        [-0.04859709,  0.04813931, -0.02673558,  0.03258622],\n",
       "        [-0.03083962, -0.03724318,  0.03123887, -0.02536358],\n",
       "        [-0.03083962, -0.03724318,  0.03123887, -0.02536358]]],\n",
       "      dtype=float32)>"
      ]
     },
     "execution_count": 102,
     "metadata": {},
     "output_type": "execute_result"
    }
   ],
   "source": [
    "import tensorflow as tf\n",
    "import numpy as np\n",
    "\n",
    "# Załóżmy słownik o rozmiarze 6 (tokeny 0–5), embedding 4D\n",
    "embedding_layer = tf.keras.layers.Embedding(input_dim=6, output_dim=4, mask_zero=True)\n",
    "\n",
    "# Przykładowe zdania zakodowane jako indeksy tokenów\n",
    "# 0 = padding\n",
    "sentences = np.array([\n",
    "    [1, 2, 3, 0, 0],   # zdanie 1: trzy tokeny + padding\n",
    "    [4, 5, 1, 0, 0],   # zdanie 2: dwa tokeny + padding\n",
    "])\n",
    "\n",
    "print(\"Kształt wejścia:\", sentences.shape)\n",
    "\n",
    "# Embedding\n",
    "embedded = embedding_layer(sentences)\n",
    "print(\"Kształt po embeddingu:\", embedded.shape)\n",
    "embedded"
   ]
  },
  {
   "cell_type": "markdown",
   "id": "6296f3b7-d10c-454f-a617-c5fe99ad7417",
   "metadata": {},
   "source": [
    "A więc 1 zdanie to taka macierz - coś takieggo (bedzie sie zmieniac przy uruchomieniach)\n",
    "\n",
    "        [[ 0.01423473, -0.00483084, -0.02746737, -0.02501923],  # 1\n",
    "        [ 0.02149788, -0.04756809, -0.04644064, -0.00472618],   # 2   \n",
    "        [ 0.00689582,  0.03334036, -0.00995095, -0.02848799],   # 3 \n",
    "        [-0.02906418, -0.01756475,  0.00183201,  0.03547058],   # 0\n",
    "        [-0.02906418, -0.01756475,  0.00183201,  0.03547058]]   # 0\n",
    "\n",
    "I pooling sumuje to kolumnami i liczy średnią - ale pomija to co jest naszym paddingiem\n",
    "\n",
    "To 1, 2, 3  nazywamy tokenami - czyli najmniejszymi porcjami tekstu, który rozumie nasz model\n"
   ]
  },
  {
   "cell_type": "code",
   "execution_count": 103,
   "id": "077413d2-8a68-47db-9eed-3a06eda2467d",
   "metadata": {},
   "outputs": [
    {
     "name": "stdout",
     "output_type": "stream",
     "text": [
      "Kształt po pooling: (2, 4)\n",
      "Wektor reprezentujący każde zdanie:\n",
      " [[-0.03540378  0.04331122 -0.00520017 -0.00252931]\n",
      " [-0.03895472  0.0337228   0.0083122   0.01503795]]\n"
     ]
    }
   ],
   "source": [
    "# Global Average Pooling\n",
    "pooled = tf.keras.layers.GlobalAveragePooling1D()(embedded)\n",
    "print(\"Kształt po pooling:\", pooled.shape)\n",
    "print(\"Wektor reprezentujący każde zdanie:\\n\", pooled.numpy())"
   ]
  },
  {
   "cell_type": "markdown",
   "id": "240a9e82-ddb8-4f3b-9452-1ae1a975312e",
   "metadata": {},
   "source": []
  },
  {
   "cell_type": "markdown",
   "id": "a57cc3b9",
   "metadata": {},
   "source": [
    "### Embeddingi w PyTorch\n",
    "W PyTorch embeddingi tworzymy przez `torch.nn.Embedding(num_embeddings, embedding_dim)`. Przykład poniżej pokazuje pobieranie wektorów oraz prosty model klasyfikacyjny."
   ]
  },
  {
   "cell_type": "code",
   "execution_count": 104,
   "id": "8b5f00ac-b89b-4bb6-8a17-34ae953c3445",
   "metadata": {},
   "outputs": [
    {
     "name": "stdout",
     "output_type": "stream",
     "text": [
      "tensor([[1, 2, 0, 0, 0],\n",
      "        [1, 2, 3, 4, 0],\n",
      "        [1, 2, 3, 5, 4]])\n",
      "Kształt: torch.Size([3, 5])\n"
     ]
    }
   ],
   "source": [
    "import torch\n",
    "import torch.nn as nn\n",
    "\n",
    "from torch.nn.utils.rnn import pad_sequence\n",
    "\n",
    "# --- przykładowe zdania o różnej długości ---\n",
    "sentences = [\n",
    "    torch.tensor([1, 2]),          # \"lubię uczyć\"\n",
    "    torch.tensor([1, 2, 3, 4]),    # \"lubię uczyć się pytorch\"\n",
    "    torch.tensor([1, 2, 3, 5, 4])  # \"lubię uczyć się tensorflow pytorch\"\n",
    "]\n",
    "\n",
    "# --- padding ---\n",
    "# domyślnie padding jest z lewej (do najdłuższej sekwencji)\n",
    "seqences = pad_sequence(sentences, batch_first=True, padding_value=0)\n",
    "\n",
    "print(seqences)\n",
    "print(\"Kształt:\", seqences.shape)\n"
   ]
  },
  {
   "cell_type": "code",
   "execution_count": 105,
   "id": "6eac8381",
   "metadata": {},
   "outputs": [
    {
     "data": {
      "text/plain": [
       "torch.Size([3, 5, 4])"
      ]
     },
     "execution_count": 105,
     "metadata": {},
     "output_type": "execute_result"
    }
   ],
   "source": [
    "embedding = nn.Embedding(num_embeddings=len(word_index), embedding_dim=4, padding_idx=0)\n",
    "embedded_torch = embedding(seqences)\n",
    "embedded_torch.shape"
   ]
  },
  {
   "cell_type": "markdown",
   "id": "a1db3a48-3449-4734-b9db-76ff9ddf79fc",
   "metadata": {},
   "source": [
    "Tu nasz batch_size to 3, najdłuższe zdanie ma 5 wyrazów a embedding ma wymiar 4"
   ]
  },
  {
   "cell_type": "markdown",
   "id": "594c5b8d",
   "metadata": {},
   "source": [
    "#### Mini model z embeddingiem w PyTorch\n",
    "Poniższy moduł wykorzystuje warstwę embedding, uśrednia wektory wzdłuż sekwencji i przekazuje wynik do warstwy liniowej. To minimalny szkic klasyfikatora tekstu opartego na PyTorch."
   ]
  },
  {
   "cell_type": "code",
   "execution_count": 106,
   "id": "9b05c77a",
   "metadata": {},
   "outputs": [
    {
     "data": {
      "text/plain": [
       "SimpleTextClassifier(\n",
       "  (embedding): Embedding(6, 4, padding_idx=0)\n",
       "  (pool): AdaptiveAvgPool1d(output_size=1)\n",
       "  (classifier): Linear(in_features=4, out_features=1, bias=True)\n",
       ")"
      ]
     },
     "execution_count": 106,
     "metadata": {},
     "output_type": "execute_result"
    }
   ],
   "source": [
    "class SimpleTextClassifier(nn.Module):\n",
    "    def __init__(self, vocab_size, embed_dim):\n",
    "        super().__init__()\n",
    "        self.embedding = nn.Embedding(vocab_size, embed_dim, padding_idx=0)\n",
    "        self.pool = nn.AdaptiveAvgPool1d(1)\n",
    "        self.classifier = nn.Linear(embed_dim, 1)\n",
    "\n",
    "    def forward(self, x):\n",
    "        embedded = self.embedding(x)  # (batch, seq, embed_dim)\n",
    "        # zamieniamy na (batch, embed_dim, seq), aby użyć 1D pooling\n",
    "        pooled = self.pool(embedded.transpose(1, 2)).squeeze(-1)\n",
    "        logits = self.classifier(pooled)\n",
    "        return torch.sigmoid(logits)\n",
    "\n",
    "model_torch = SimpleTextClassifier(vocab_size=len(word_index), embed_dim=4)\n",
    "model_torch"
   ]
  },
  {
   "cell_type": "code",
   "execution_count": 107,
   "id": "ec75cbab",
   "metadata": {},
   "outputs": [
    {
     "data": {
      "text/plain": [
       "tensor([[0.5364],\n",
       "        [0.5611],\n",
       "        [0.5526]])"
      ]
     },
     "execution_count": 107,
     "metadata": {},
     "output_type": "execute_result"
    }
   ],
   "source": [
    "with torch.no_grad():\n",
    "    pred = model_torch(seqences)\n",
    "\n",
    "pred"
   ]
  },
  {
   "cell_type": "markdown",
   "id": "fc5479ed",
   "metadata": {},
   "source": [
    "## 6. Dobre praktyki i wskazówki\n",
    "- Dobierz `embedding_dim` do wielkości słownika (zazwyczaj 16–300 dla prostych zadań NLP, więcej dla rekomendacji).\n",
    "- Używaj `padding_idx` (PyTorch) lub `mask_zero` (TensorFlow), jeśli w sekwencjach występują wartości wypełniające.\n",
    "- Możesz zacząć od losowej inicjalizacji i pozwolić modelowi uczyć się embeddingów lub wykorzystać embeddingi pretrenowane (np. FastText) i dostosować je (`fine-tuning`).\n",
    "- Analizuj embeddingi po treningu: wizualizuj PCA/TSNE, porównuj najbliższe wektory, by zweryfikować, czy model nauczył się semantyki."
   ]
  },
  {
   "cell_type": "markdown",
   "id": "46dfb3ec",
   "metadata": {},
   "source": [
    "## 7. Zastosowania embeddingów\n",
    "- Natural Language Processing (word embeddings, sentence embeddings, wektory dokumentów).\n",
    "- Systemy rekomendacji (embeddingi użytkowników i produktów).\n",
    "- Modele grafowe (Graph Embedding, Node2Vec).\n",
    "- Kodowanie zmiennych kategorycznych w modelach tablicowych (np. tabular deep learning).\n",
    "\n",
    "Embeddingi stanowią fundament nowoczesnych modeli, ponieważ pozwalają zamienić surowe kategorie na przestrzenie, w których łatwiej znaleźć wzorce."
   ]
  },
  {
   "cell_type": "markdown",
   "id": "cf9e8493-d12e-4229-ad24-64f4f1c20dae",
   "metadata": {},
   "source": [
    "## Przykład: embeddingi w prostym modelu\n",
    "\n",
    "Symulujemy prosty zbiór danych klientów:\n",
    "\n",
    "* **`region`** – kategoria (10 regionów, zakodowane jako liczby 0–9),\n",
    "* **`wiek`** – zmienna ciągła,\n",
    "* **`dochód`** – zmienna ciągła,\n",
    "* **`abonament`** – target (0/1, czy klient ma abonament).\n",
    "\n",
    "W typowym ML:\n",
    "\n",
    "* cechy ciągłe możemy podać „tak jak są” (po normalizacji/standaryzacji),\n",
    "* ale **cechy kategoryczne** (jak `region`) nie mają sensownego porządku → tu właśnie używamy **embeddingów**."
   ]
  },
  {
   "cell_type": "code",
   "execution_count": 108,
   "id": "b38a4c2b-9a3b-4c1c-b390-156ab5f057a4",
   "metadata": {},
   "outputs": [],
   "source": [
    "import torch\n",
    "import torch.nn as nn\n",
    "import torch.optim as optim\n",
    "import pandas as pd\n",
    "import numpy as np\n",
    "import matplotlib.pyplot as plt\n",
    "from sklearn.decomposition import PCA\n",
    "\n",
    "# ---------------------\n",
    "# 1. Dane przykładowe\n",
    "# ---------------------\n",
    "np.random.seed(42)\n",
    "\n",
    "n_samples = 500\n",
    "n_regions = 10  # kategorie regionów\n",
    "\n",
    "raw_data = pd.DataFrame({\n",
    "    # to są od razu indeksy kategorii wiec nie zamieniam juz tego na dane kategoryczne\n",
    "    # gdyby tu były jakies labelki - typu \"dolnosląski\", \"polnocno-zachodni\" itd to zamieniałbym\n",
    "    \"region\": np.random.randint(0, n_regions, size=n_samples),  \n",
    "    \"wiek\": np.random.randint(18, 70, size=n_samples),\n",
    "    \"dochód\": np.random.randint(2000, 12000, size=n_samples),\n",
    "    \"abonament\": np.random.randint(0, 2, size=n_samples)  # target: 0/1\n",
    "})\n",
    "\n",
    "categorical_cols = [\"region\"]\n",
    "continuous_cols = [\"wiek\", \"dochód\"]\n",
    "target_col = \"abonament\"\n",
    "\n",
    "X_cat = torch.tensor(raw_data[categorical_cols].values, dtype=torch.long)\n",
    "X_cont = torch.tensor(raw_data[continuous_cols].values, dtype=torch.float32)\n",
    "y = torch.tensor(raw_data[target_col].values, dtype=torch.float32).view(-1, 1)\n"
   ]
  },
  {
   "cell_type": "markdown",
   "id": "f7d21305-851d-4520-8bb9-bc4705bd0508",
   "metadata": {},
   "source": [
    "---\n",
    "\n",
    "### 2. Model\n",
    "\n",
    "* Dla cechy kategorycznej `region` uczymy **embedding** o wymiarze 6 (czyli każdemu regionowi odpowiada wektor długości 6).\n",
    "* Dla cech ciągłych (`wiek`, `dochód`) stosujemy prostą warstwę liniową, aby dopasować skalę.\n",
    "* Oba wektory (embedding + cechy ciągłe) są łączone i wysyłane do sieci neuronowej, która przewiduje `abonament`."
   ]
  },
  {
   "cell_type": "code",
   "execution_count": 109,
   "id": "6f8b81c4-ded3-47f4-9cac-043c37f91b13",
   "metadata": {},
   "outputs": [],
   "source": [
    "\n",
    "# ---------------------\n",
    "# 2. Model z embeddingami\n",
    "# ---------------------\n",
    "class CustomerModel(nn.Module):\n",
    "    def __init__(self, n_regions, emb_dim, n_cont):\n",
    "        super().__init__()\n",
    "        # embedding dla zmiennej kategorycznej \"region\" - wartość będzie podana przy inicjalizacji\n",
    "        self.emb = nn.Embedding(n_regions, emb_dim)\n",
    "        # warstwa dla cech ciągłych\n",
    "        self.fc_cont = nn.Linear(n_cont, 4)\n",
    "        # klasyfikator końcowy\n",
    "        self.fc = nn.Sequential(\n",
    "            nn.Linear(emb_dim + 4, 16),\n",
    "            nn.ReLU(),\n",
    "            nn.Linear(16, 1),\n",
    "            nn.Sigmoid()\n",
    "        )\n",
    "    def forward(self, x_cat, x_cont):\n",
    "        x_emb = self.emb(x_cat).squeeze(1)        # embedding regionu\n",
    "        x_cont = self.fc_cont(x_cont)             # przekształcone dane ciągłe\n",
    "        x = torch.cat([x_emb, x_cont], dim=1)     # połączenie\n",
    "        return self.fc(x)\n",
    "\n",
    "model = CustomerModel(n_regions=n_regions, emb_dim=6, n_cont=len(continuous_cols))\n"
   ]
  },
  {
   "cell_type": "markdown",
   "id": "fae4ef6f-526f-460f-82dc-309ca1f49378",
   "metadata": {},
   "source": [
    "---\n",
    "\n",
    "### 3. Trening\n",
    "\n",
    "Model uczy się end-to-end:\n",
    "\n",
    "* embeddingi regionów są **parametrami sieci**,\n",
    "* w trakcie treningu są aktualizowane, aby jak najlepiej pomagały w przewidywaniu abonamentu.\n",
    "\n",
    "W praktyce oznacza to: **regiony, które w podobny sposób wpływają na prawdopodobieństwo posiadania abonamentu, będą miały embeddingi bliżej siebie w przestrzeni wektorowej**."
   ]
  },
  {
   "cell_type": "markdown",
   "id": "77575e7c-995d-4937-934b-4a665e4b7dc1",
   "metadata": {},
   "source": [
    "---\n",
    "\n",
    "### 4. Analiza embeddingów\n",
    "\n",
    "Po treningu wyciągamy macierz embeddingów:"
   ]
  },
  {
   "cell_type": "code",
   "execution_count": 110,
   "id": "e783bb99-86a4-48b6-94c4-368d510fb700",
   "metadata": {},
   "outputs": [
    {
     "data": {
      "text/plain": [
       "array([-0.6737331 , -0.60998917, -0.22300157,  1.916311  , -0.25630867,\n",
       "        0.7061841 ], dtype=float32)"
      ]
     },
     "execution_count": 110,
     "metadata": {},
     "output_type": "execute_result"
    }
   ],
   "source": [
    "embeddings = model.emb.weight.detach().numpy()\n",
    "\n",
    "embeddings[0]"
   ]
  },
  {
   "cell_type": "markdown",
   "id": "98180006-78c4-4ddd-9e2c-27b8be1e53a5",
   "metadata": {},
   "source": [
    "* kształt = `10 x 6` (10 regionów, embedding_dim=6),\n",
    "* każda linia = wektor opisujący dany region. Ten wektor ma 6 współrzędnych.\n",
    "\n",
    "Aby je zobaczyć:\n",
    "\n",
    "* redukujemy wymiar do 2D przy pomocy PCA,"
   ]
  },
  {
   "cell_type": "markdown",
   "id": "84ce5d37-d7cd-4441-9f3f-bdb5f6bb7442",
   "metadata": {},
   "source": [
    "### PCA — Principal Component Analysis (Analiza Głównych Składowych)\n",
    "\n",
    "Metoda redukcji wymiaru, która przekształca dane do nowej przestrzeni współrzędnych,\n",
    "tak aby **pierwsze składowe** przechwytywały jak najwięcej wariancji w danych."
   ]
  },
  {
   "cell_type": "code",
   "execution_count": 111,
   "id": "848be7fa-4568-4bb8-bd6b-9d9e5f3e805b",
   "metadata": {},
   "outputs": [
    {
     "data": {
      "text/plain": [
       "array([-1.6035028, -0.3859304], dtype=float32)"
      ]
     },
     "execution_count": 111,
     "metadata": {},
     "output_type": "execute_result"
    }
   ],
   "source": [
    "pca = PCA(n_components=2)\n",
    "embeddings_2d = pca.fit_transform(embeddings)\n",
    "\n",
    "embeddings_2d[0]"
   ]
  },
  {
   "cell_type": "markdown",
   "id": "1c05d508-773f-4fc5-9e5b-7353883944f9",
   "metadata": {},
   "source": [
    "* rysujemy punkty odpowiadające regionom."
   ]
  },
  {
   "cell_type": "code",
   "execution_count": 112,
   "id": "c11142e8-ae2b-48fa-af5a-00ed9b05d7f5",
   "metadata": {},
   "outputs": [
    {
     "data": {
      "image/png": "[encoded data removed]",
      "text/plain": [
       "<Figure size 700x600 with 1 Axes>"
      ]
     },
     "metadata": {},
     "output_type": "display_data"
    }
   ],
   "source": [
    "plt.figure(figsize=(7, 6))\n",
    "plt.scatter(embeddings_2d[:, 0], embeddings_2d[:, 1], c=range(n_regions), cmap=\"tab10\", s=80)\n",
    "\n",
    "for i in range(n_regions):\n",
    "    plt.annotate(f\"region {i}\", (embeddings_2d[i, 0]+0.02, embeddings_2d[i, 1]+0.02))\n",
    "\n",
    "plt.title(\"Embeddingi regionów (PCA do 2D)\")\n",
    "plt.xlabel(\"PC1\")\n",
    "plt.ylabel(\"PC2\")\n",
    "plt.show()"
   ]
  },
  {
   "cell_type": "markdown",
   "id": "3efa68ad-9892-485b-bff1-15c649a10125",
   "metadata": {},
   "source": [
    "Wykres pokazuje, że **niektóre regiony grupują się bliżej siebie** — czyli model „uznał”, że są podobne z punktu widzenia abonamentu.\n",
    "\n",
    "---\n",
    "\n",
    "### 5. Wnioski i korzyści z embeddingów\n",
    "\n",
    "1. **Redukcja wymiarowości**\n",
    "\n",
    "   * Zamiast one-hot (10 kategorii → wektor długości 10), używamy embeddingów (np. wymiar 6).\n",
    "   * Przy większych słownikach (np. 1000 kategorii) oszczędność jest ogromna.\n",
    "\n",
    "2. **Uchwycenie podobieństw**\n",
    "\n",
    "   * W one-hot wszystkie kategorie są „równie odległe”.\n",
    "   * Embeddingi pozwalają modelowi samodzielnie nauczyć się, które kategorie są podobne.\n",
    "   * Np. regiony o podobnej strukturze klientów będą mieć wektory bliżej siebie.\n",
    "\n",
    "3. **Uczą się razem z modelem**\n",
    "\n",
    "   * Nie musimy ręcznie kodować relacji między kategoriami.\n",
    "   * Model sam znajdzie najlepszą reprezentację dla danego zadania.\n",
    "\n",
    "4. **Łatwość analizy**\n",
    "\n",
    "   * Po treningu embeddingi można interpretować:\n",
    "\n",
    "     * grupować kategorie,\n",
    "     * wizualizować (PCA/t-SNE/UMAP),\n",
    "     * szukać najbliższych sąsiadów (np. „które regiony są najbardziej podobne?”).\n",
    "\n",
    "---\n",
    "\n",
    "✅ **Podsumowanie**:\n",
    "W tym przykładzie embedding pozwala traktować **region** nie jako arbitralny numer, lecz jako **punkt w przestrzeni wektorowej**, gdzie bliskość oznacza podobieństwo w kontekście abonamentu. Dzięki temu model uczy się szybciej, ma mniej parametrów i potrafi generalizować lepiej niż przy gołym one-hot encodingu.\n",
    "\n"
   ]
  }
 ],
 "metadata": {
  "kernelspec": {
   "display_name": "Python 3 (ipykernel)",
   "language": "python",
   "name": "python3"
  },
  "language_info": {
   "codemirror_mode": {
    "name": "ipython",
    "version": 3
   },
   "file_extension": ".py",
   "mimetype": "text/x-python",
   "name": "python",
   "nbconvert_exporter": "python",
   "pygments_lexer": "ipython3",
   "version": "3.12.9"
  }
 },
 "nbformat": 4,
 "nbformat_minor": 5
}
