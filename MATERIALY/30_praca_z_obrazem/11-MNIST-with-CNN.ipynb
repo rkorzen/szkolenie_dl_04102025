{
 "cells": [
  {
   "cell_type": "markdown",
   "metadata": {},
   "source": [
    "# MNIST - Ćwiczenie z CNN\n",
    "Skoro widzieliśmy już wyniki modelu sztucznej sieci neuronowej na <a href='https://en.wikipedia.org/wiki/MNIST_database'>zbiorze danych MNIST</a>, pracujmy z tymi samymi danymi przy użyciu <a href='https://en.wikipedia.org/wiki/Convolutional_neural_network'>konwolucyjnej sieci neuronowej</a> (CNN).\n",
    "Pamiętaj, aby obejrzeć wykłady teoretyczne! Przyda się swobodna znajomość pojęć:\n",
    "* warstwy konwolucyjne\n",
    "* filtry/jądra\n",
    "* warstwy pooling\n",
    "* głębokość, krok i dopełnianie zerami\n",
    "\n",
    "Zwróć uwagę, że w tym ćwiczeniu nie musimy spłaszczać danych MNIST, bo CNN oczekuje danych dwuwymiarowych.\n"
   ]
  },
  {
   "cell_type": "markdown",
   "metadata": {},
   "source": [
    "## Wykonaj Standardowe Importy\n"
   ]
  },
  {
   "cell_type": "code",
   "execution_count": 1,
   "metadata": {},
   "outputs": [],
   "source": [
    "import torch\n",
    "import torch.nn as nn\n",
    "import torch.nn.functional as F\n",
    "from torch.utils.data import DataLoader\n",
    "from torchvision import datasets, transforms\n",
    "from torchvision.utils import make_grid\n",
    "\n",
    "import numpy as np\n",
    "import pandas as pd\n",
    "from sklearn.metrics import confusion_matrix\n",
    "import matplotlib.pyplot as plt\n",
    "%matplotlib inline"
   ]
  },
  {
   "cell_type": "markdown",
   "metadata": {},
   "source": [
    "## Wczytaj Zbiór Danych MNIST\n",
    "PyTorch udostępnia zbiory treningowe i testowe MNIST poprzez <a href='https://pytorch.org/docs/stable/torchvision/index.html'><tt><strong>torchvision</strong></tt></a>. Przy pierwszym wywołaniu zestawy zostaną pobrane na komputer do wskazanej ścieżki. Od tej pory torchvision będzie szukać lokalnej kopii, zanim rozpocznie ponowne pobieranie.\n",
    "\n",
    "Wyjaśnienia dotyczące transformacji, rozmiarów partii oraz <a href='https://pytorch.org/docs/stable/data.html#torch.utils.data.DataLoader'><tt><strong>DataLoader</strong></tt></a> znajdziesz w poprzedniej sekcji.\n"
   ]
  },
  {
   "cell_type": "code",
   "execution_count": 2,
   "metadata": {},
   "outputs": [],
   "source": [
    "transform = transforms.ToTensor()\n",
    "\n",
    "train_data = datasets.MNIST(root='../Data', train=True, download=True, transform=transform)\n",
    "test_data = datasets.MNIST(root='../Data', train=False, download=True, transform=transform)"
   ]
  },
  {
   "cell_type": "code",
   "execution_count": 3,
   "metadata": {},
   "outputs": [
    {
     "data": {
      "text/plain": [
       "Dataset MNIST\n",
       "    Number of datapoints: 60000\n",
       "    Root location: ../Data\n",
       "    Split: Train\n",
       "    StandardTransform\n",
       "Transform: ToTensor()"
      ]
     },
     "execution_count": 3,
     "metadata": {},
     "output_type": "execute_result"
    }
   ],
   "source": [
    "train_data"
   ]
  },
  {
   "cell_type": "code",
   "execution_count": 4,
   "metadata": {},
   "outputs": [
    {
     "data": {
      "text/plain": [
       "Dataset MNIST\n",
       "    Number of datapoints: 10000\n",
       "    Root location: ../Data\n",
       "    Split: Test\n",
       "    StandardTransform\n",
       "Transform: ToTensor()"
      ]
     },
     "execution_count": 4,
     "metadata": {},
     "output_type": "execute_result"
    }
   ],
   "source": [
    "test_data"
   ]
  },
  {
   "cell_type": "markdown",
   "metadata": {},
   "source": [
    "### Utwórz Loadery\n",
    "Przy pracy z obrazami chcemy stosunkowo małych partii; rozmiar równy 4 wcale nie jest rzadkością.\n"
   ]
  },
  {
   "cell_type": "code",
   "execution_count": 5,
   "metadata": {},
   "outputs": [],
   "source": [
    "train_loader = DataLoader(train_data, batch_size=10, shuffle=True)\n",
    "test_loader = DataLoader(test_data, batch_size=10, shuffle=False)"
   ]
  },
  {
   "cell_type": "markdown",
   "metadata": {},
   "source": [
    "## Zdefiniuj Model Konwolucyjny\n",
    "W poprzedniej sekcji użyliśmy wyłącznie w pełni połączonych warstw: wejściowa miała 784 neurony (spłaszczone obrazy 28x28), warstwy ukryte liczyły 120 oraz 84 neurony, a warstwa wyjściowa reprezentowała 10 możliwych cyfr.\n",
    "\n",
    "Tym razem zastosujemy dwie warstwy konwolucyjne i dwie warstwy pooling przed przekazaniem danych do w pełni połączonych warstw ukrytych oraz warstwy wyjściowej. Model idzie ścieżką CONV/RELU/POOL/CONV/RELU/POOL/FC/RELU/FC.\n"
   ]
  },
  {
   "cell_type": "markdown",
   "metadata": {},
   "source": [
    "<div class=\"alert alert-info\"><strong>Przejdźmy krok po kroku przez planowane działania.</strong><br>\n",
    "\n",
    "1. Rozszerzamy bazową klasę Module:\n",
    "   \n",
    "<tt><font color=black>class ConvolutionalNetwork(nn.Module):<br>\n",
    "&nbsp;&nbsp;&nbsp;&nbsp;def \\_\\_init\\_\\_(self):<br>\n",
    "&nbsp;&nbsp;&nbsp;&nbsp;&nbsp;&nbsp;&nbsp;&nbsp;super().\\_\\_init\\_\\_()</font></tt><br>\n",
    "\n",
    "2. Konfigurujemy warstwy konwolucyjne za pomocą <a href='https://pytorch.org/docs/stable/nn.html#conv2d'><tt><strong>torch.nn.Conv2d()</strong></tt></a><br><br>Pierwsza warstwa ma jeden kanał wejściowy (skala szarości). Do ekstrakcji cech przypiszemy 6 kanałów wyjściowych. Ustawiamy rozmiar jądra na 3, aby utworzyć filtr 3x3, i krok na 1.<br>\n",
    "<tt><font color=black>&nbsp;&nbsp;&nbsp;&nbsp;self.conv1 = nn.Conv2d(1, 6, 3, 1)</font></tt><br>\n",
    "Druga warstwa przyjmie 6 kanałów wejściowych i zwróci 16 kanałów wyjściowych.<br>\n",
    "<tt><font color=black>&nbsp;&nbsp;&nbsp;&nbsp;self.conv2 = nn.Conv2d(6, 16, 3, 1)</font></tt><br><br>\n",
    "\n",
    "3. Konfigurujemy warstwy w pełni połączone za pomocą <a href='https://pytorch.org/docs/stable/nn.html#linear'><tt><strong>torch.nn.Linear()</strong></tt></a>.<br><br>Rozmiar wejścia (5x5x16) wynika z wpływu jąder na rozmiar obrazu. Filtr 3x3 zastosowany do obrazu 28x28 zostawia jednopi­xelowe brzegi ze wszystkich stron. W jednej warstwie rozmiar zmienia się z 28x28 na 26x26. Moglibyśmy użyć dopełniania zerami, ale ponieważ obraz MNIST jest głównie czarny na krawędziach, możemy bezpiecznie pominąć te piksele. Zastosujemy jądro dwa razy i dwukrotnie pooling, więc wynikowe wyjście będzie mieć \n",
    "$\\;(((28-2)/2)-2)/2 = 5.5\\;$ co zaokrągla się w dół do 5 pikseli na bok.<br>\n",
    "<tt><font color=black>&nbsp;&nbsp;&nbsp;&nbsp;self.fc1 = nn.Linear(5\\*5\\*16, 120)</font></tt><br>\n",
    "<tt><font color=black>&nbsp;&nbsp;&nbsp;&nbsp;self.fc2 = nn.Linear(120, 84)</font></tt><br>\n",
    "<tt><font color=black>&nbsp;&nbsp;&nbsp;&nbsp;self.fc3 = nn.Linear(84, 10)</font></tt><br>\n",
    "Poniżej znajdziesz dokładniejsze omówienie tego kroku.<br><br>\n",
    "\n",
    "4. Definiujemy metodę forward.<br><br>Aktywacje można zastosować do warstw konwolucyjnych w jednej linijce dzięki <a href='https://pytorch.org/docs/stable/nn.html#id27'><tt><strong>F.relu()</strong></tt></a>, a pooling realizujemy przy użyciu <a href='https://pytorch.org/docs/stable/nn.html#maxpool2d'><tt><strong>F.max_pool2d()</strong></tt></a><br>\n",
    "<tt><font color=black>def forward(self, X):<br>\n",
    "&nbsp;&nbsp;&nbsp;&nbsp;X = F.relu(self.conv1(X))<br>\n",
    "&nbsp;&nbsp;&nbsp;&nbsp;X = F.max_pool2d(X, 2, 2)<br>\n",
    "&nbsp;&nbsp;&nbsp;&nbsp;X = F.relu(self.conv2(X))<br>\n",
    "&nbsp;&nbsp;&nbsp;&nbsp;X = F.max_pool2d(X, 2, 2)<br>\n",
    "</font></tt>Spłaszczamy dane przed warstwami w pełni połączonymi:<br><tt><font color=black>\n",
    "&nbsp;&nbsp;&nbsp;&nbsp;X = X.view(-1, 5\\*5\\*16)<br>\n",
    "&nbsp;&nbsp;&nbsp;&nbsp;X = F.relu(self.fc1(X))<br>\n",
    "&nbsp;&nbsp;&nbsp;&nbsp;X = self.fc2(X)<br>\n",
    "&nbsp;&nbsp;&nbsp;&nbsp;return F.log_softmax(X, dim=1)</font></tt>\n",
    "</div>"
   ]
  },
  {
   "cell_type": "markdown",
   "metadata": {},
   "source": [
    "<div class=\"alert alert-danger\"><strong>Rozbijamy warstwy konwolucyjne na części składowe</strong> (ten kod służy wyłącznie do ilustracji).</div>\n"
   ]
  },
  {
   "cell_type": "code",
   "execution_count": 6,
   "metadata": {},
   "outputs": [],
   "source": [
    "# Zdefiniuj warstwy\n",
    "conv1 = nn.Conv2d(1, 6, 3, 1)\n",
    "conv2 = nn.Conv2d(6, 16, 3, 1)"
   ]
  },
  {
   "cell_type": "code",
   "execution_count": 7,
   "metadata": {},
   "outputs": [],
   "source": [
    "# Pobierz pierwszy rekord MNIST\n",
    "for i, (X_train, y_train) in enumerate(train_data):\n",
    "    break"
   ]
  },
  {
   "cell_type": "code",
   "execution_count": 8,
   "metadata": {},
   "outputs": [
    {
     "name": "stdout",
     "output_type": "stream",
     "text": [
      "torch.Size([1, 1, 28, 28])\n"
     ]
    }
   ],
   "source": [
    "# Utwórz tensor rzędu czwartego do przekazania modelowi\n",
    "# (train_loader zrobi to automatycznie)\n",
    "x = X_train.view(1,1,28,28)\n",
    "print(x.shape)"
   ]
  },
  {
   "cell_type": "code",
   "execution_count": 9,
   "metadata": {},
   "outputs": [
    {
     "name": "stdout",
     "output_type": "stream",
     "text": [
      "torch.Size([1, 6, 26, 26])\n"
     ]
    }
   ],
   "source": [
    "# Wykonaj pierwszą konwolucję i aktywację\n",
    "x = F.relu(conv1(x))\n",
    "print(x.shape)"
   ]
  },
  {
   "cell_type": "code",
   "execution_count": 10,
   "metadata": {},
   "outputs": [
    {
     "name": "stdout",
     "output_type": "stream",
     "text": [
      "torch.Size([1, 6, 13, 13])\n"
     ]
    }
   ],
   "source": [
    "# Uruchom pierwszą warstwę pooling\n",
    "x = F.max_pool2d(x, 2, 2)\n",
    "print(x.shape)"
   ]
  },
  {
   "cell_type": "code",
   "execution_count": 11,
   "metadata": {},
   "outputs": [
    {
     "name": "stdout",
     "output_type": "stream",
     "text": [
      "torch.Size([1, 16, 11, 11])\n"
     ]
    }
   ],
   "source": [
    "# Wykonaj drugą konwolucję i aktywację\n",
    "x = F.relu(conv2(x))\n",
    "print(x.shape)"
   ]
  },
  {
   "cell_type": "code",
   "execution_count": 12,
   "metadata": {},
   "outputs": [
    {
     "name": "stdout",
     "output_type": "stream",
     "text": [
      "torch.Size([1, 16, 5, 5])\n"
     ]
    }
   ],
   "source": [
    "# Uruchom drugą warstwę pooling\n",
    "x = F.max_pool2d(x, 2, 2)\n",
    "print(x.shape)"
   ]
  },
  {
   "cell_type": "code",
   "execution_count": 13,
   "metadata": {},
   "outputs": [
    {
     "name": "stdout",
     "output_type": "stream",
     "text": [
      "torch.Size([1, 400])\n"
     ]
    }
   ],
   "source": [
    "# Spłaszcz dane\n",
    "x = x.view(-1, 5*5*16)\n",
    "print(x.shape)"
   ]
  },
  {
   "cell_type": "markdown",
   "metadata": {},
   "source": [
    "<div class=\"alert alert-danger\"><strong>Tak przekazujemy wynik konwolucji do warstw w pełni połączonych.</strong></div>\n",
    "\n",
    "Uruchommy teraz kod.\n"
   ]
  },
  {
   "cell_type": "code",
   "execution_count": 6,
   "metadata": {},
   "outputs": [],
   "source": [
    "class ConvolutionalNetwork(nn.Module):\n",
    "    def __init__(self):\n",
    "        super().__init__()\n",
    "        self.conv1 = nn.Conv2d(1, 6, 3, 1)\n",
    "        self.conv2 = nn.Conv2d(6, 16, 3, 1)\n",
    "        self.fc1 = nn.Linear(5*5*16, 120)\n",
    "        self.fc2 = nn.Linear(120, 84)\n",
    "        self.fc3 = nn.Linear(84,10)\n",
    "\n",
    "    def forward(self, X):\n",
    "        X = F.relu(self.conv1(X))\n",
    "        X = F.max_pool2d(X, 2, 2)\n",
    "        X = F.relu(self.conv2(X))\n",
    "        X = F.max_pool2d(X, 2, 2)\n",
    "        X = X.view(-1, 5*5*16)\n",
    "        X = F.relu(self.fc1(X))\n",
    "        X = F.relu(self.fc2(X))\n",
    "        X = self.fc3(X)\n",
    "        return F.log_softmax(X, dim=1)"
   ]
  },
  {
   "cell_type": "code",
   "execution_count": 7,
   "metadata": {},
   "outputs": [
    {
     "data": {
      "text/plain": [
       "ConvolutionalNetwork(\n",
       "  (conv1): Conv2d(1, 6, kernel_size=(3, 3), stride=(1, 1))\n",
       "  (conv2): Conv2d(6, 16, kernel_size=(3, 3), stride=(1, 1))\n",
       "  (fc1): Linear(in_features=400, out_features=120, bias=True)\n",
       "  (fc2): Linear(in_features=120, out_features=84, bias=True)\n",
       "  (fc3): Linear(in_features=84, out_features=10, bias=True)\n",
       ")"
      ]
     },
     "execution_count": 7,
     "metadata": {},
     "output_type": "execute_result"
    }
   ],
   "source": [
    "torch.manual_seed(42)\n",
    "model = ConvolutionalNetwork()\n",
    "model"
   ]
  },
  {
   "cell_type": "markdown",
   "metadata": {},
   "source": [
    "Po uwzględnieniu wyrazów bias dla każdej warstwy łączna liczba trenowanych parametrów wynosi:<br>\n",
    "\n",
    "$$\n",
    "\\quad\begin{split}(1\times6\times3\times3)+6+(6\times16\times3\times3)+16+(400\times120)+120+(120\times84)+84+(84\times10)+10 &=\\\n",
    "54+6+864+16+48000+120+10080+84+840+10 &= 60,074\\end{split}\n",
    "$$\n"
   ]
  },
  {
   "cell_type": "code",
   "execution_count": 8,
   "metadata": {},
   "outputs": [],
   "source": [
    "def count_parameters(model):\n",
    "    params = [p.numel() for p in model.parameters() if p.requires_grad]\n",
    "    for item in params:\n",
    "        print(f'{item:>6}')\n",
    "    print(f'______\\n{sum(params):>6}')"
   ]
  },
  {
   "cell_type": "code",
   "execution_count": 9,
   "metadata": {},
   "outputs": [
    {
     "name": "stdout",
     "output_type": "stream",
     "text": [
      "    54\n",
      "     6\n",
      "   864\n",
      "    16\n",
      " 48000\n",
      "   120\n",
      " 10080\n",
      "    84\n",
      "   840\n",
      "    10\n",
      "______\n",
      " 60074\n"
     ]
    }
   ],
   "source": [
    "count_parameters(model)"
   ]
  },
  {
   "cell_type": "markdown",
   "metadata": {},
   "source": [
    "## Zdefiniuj Funkcję Straty i Optymalizator\n"
   ]
  },
  {
   "cell_type": "code",
   "execution_count": 10,
   "metadata": {},
   "outputs": [],
   "source": [
    "criterion = nn.CrossEntropyLoss()\n",
    "optimizer = torch.optim.Adam(model.parameters(), lr=0.001)"
   ]
  },
  {
   "cell_type": "markdown",
   "metadata": {},
   "source": [
    "## Trenuj Model\n",
    "Tym razem wprowadzimy dane bezpośrednio do modelu, bez wcześniejszego spłaszczania.\n"
   ]
  },
  {
   "cell_type": "code",
   "execution_count": 11,
   "metadata": {},
   "outputs": [
    {
     "name": "stdout",
     "output_type": "stream",
     "text": [
      "epoch:  0  batch:  600 [  6000/60000]  loss: 0.04045902  accuracy:  78.417%\n",
      "epoch:  0  batch: 1200 [ 12000/60000]  loss: 0.07559647  accuracy:  85.825%\n",
      "epoch:  0  batch: 1800 [ 18000/60000]  loss: 0.37198648  accuracy:  88.722%\n",
      "epoch:  0  batch: 2400 [ 24000/60000]  loss: 0.01985848  accuracy:  90.554%\n",
      "epoch:  0  batch: 3000 [ 30000/60000]  loss: 0.00678484  accuracy:  91.677%\n",
      "epoch:  0  batch: 3600 [ 36000/60000]  loss: 0.00181786  accuracy:  92.508%\n",
      "epoch:  0  batch: 4200 [ 42000/60000]  loss: 0.46452770  accuracy:  93.124%\n",
      "epoch:  0  batch: 4800 [ 48000/60000]  loss: 0.01664556  accuracy:  93.600%\n",
      "epoch:  0  batch: 5400 [ 54000/60000]  loss: 0.00718968  accuracy:  94.022%\n",
      "epoch:  0  batch: 6000 [ 60000/60000]  loss: 0.02756804  accuracy:  94.318%\n",
      "epoch:  1  batch:  600 [  6000/60000]  loss: 0.02209568  accuracy:  97.700%\n",
      "epoch:  1  batch: 1200 [ 12000/60000]  loss: 0.05276305  accuracy:  97.792%\n",
      "epoch:  1  batch: 1800 [ 18000/60000]  loss: 0.00120053  accuracy:  97.850%\n",
      "epoch:  1  batch: 2400 [ 24000/60000]  loss: 0.04845596  accuracy:  97.779%\n",
      "epoch:  1  batch: 3000 [ 30000/60000]  loss: 0.25598049  accuracy:  97.807%\n",
      "epoch:  1  batch: 3600 [ 36000/60000]  loss: 0.00017072  accuracy:  97.850%\n",
      "epoch:  1  batch: 4200 [ 42000/60000]  loss: 0.00155569  accuracy:  97.910%\n",
      "epoch:  1  batch: 4800 [ 48000/60000]  loss: 0.00054998  accuracy:  97.917%\n",
      "epoch:  1  batch: 5400 [ 54000/60000]  loss: 0.00039821  accuracy:  97.937%\n",
      "epoch:  1  batch: 6000 [ 60000/60000]  loss: 0.00844195  accuracy:  97.948%\n",
      "epoch:  2  batch:  600 [  6000/60000]  loss: 0.00038505  accuracy:  98.800%\n",
      "epoch:  2  batch: 1200 [ 12000/60000]  loss: 0.00625199  accuracy:  98.775%\n",
      "epoch:  2  batch: 1800 [ 18000/60000]  loss: 0.00059915  accuracy:  98.550%\n",
      "epoch:  2  batch: 2400 [ 24000/60000]  loss: 0.00057678  accuracy:  98.562%\n",
      "epoch:  2  batch: 3000 [ 30000/60000]  loss: 0.28422487  accuracy:  98.483%\n",
      "epoch:  2  batch: 3600 [ 36000/60000]  loss: 0.00971281  accuracy:  98.481%\n",
      "epoch:  2  batch: 4200 [ 42000/60000]  loss: 0.01963832  accuracy:  98.495%\n",
      "epoch:  2  batch: 4800 [ 48000/60000]  loss: 0.00632749  accuracy:  98.490%\n",
      "epoch:  2  batch: 5400 [ 54000/60000]  loss: 0.00012627  accuracy:  98.498%\n",
      "epoch:  2  batch: 6000 [ 60000/60000]  loss: 0.00009778  accuracy:  98.482%\n",
      "epoch:  3  batch:  600 [  6000/60000]  loss: 0.00045990  accuracy:  98.783%\n",
      "epoch:  3  batch: 1200 [ 12000/60000]  loss: 0.00064296  accuracy:  98.892%\n",
      "epoch:  3  batch: 1800 [ 18000/60000]  loss: 0.00017561  accuracy:  98.894%\n",
      "epoch:  3  batch: 2400 [ 24000/60000]  loss: 0.00017224  accuracy:  98.867%\n",
      "epoch:  3  batch: 3000 [ 30000/60000]  loss: 0.00017206  accuracy:  98.850%\n",
      "epoch:  3  batch: 3600 [ 36000/60000]  loss: 0.00396549  accuracy:  98.811%\n",
      "epoch:  3  batch: 4200 [ 42000/60000]  loss: 0.00060126  accuracy:  98.831%\n",
      "epoch:  3  batch: 4800 [ 48000/60000]  loss: 0.24613822  accuracy:  98.829%\n",
      "epoch:  3  batch: 5400 [ 54000/60000]  loss: 0.00091293  accuracy:  98.817%\n",
      "epoch:  3  batch: 6000 [ 60000/60000]  loss: 0.17925005  accuracy:  98.800%\n",
      "epoch:  4  batch:  600 [  6000/60000]  loss: 0.00085594  accuracy:  98.950%\n",
      "epoch:  4  batch: 1200 [ 12000/60000]  loss: 0.30656916  accuracy:  99.067%\n",
      "epoch:  4  batch: 1800 [ 18000/60000]  loss: 0.00004340  accuracy:  99.128%\n",
      "epoch:  4  batch: 2400 [ 24000/60000]  loss: 0.00077117  accuracy:  99.104%\n",
      "epoch:  4  batch: 3000 [ 30000/60000]  loss: 0.01217700  accuracy:  99.057%\n",
      "epoch:  4  batch: 3600 [ 36000/60000]  loss: 0.01566644  accuracy:  99.083%\n",
      "epoch:  4  batch: 4200 [ 42000/60000]  loss: 0.00006125  accuracy:  99.093%\n",
      "epoch:  4  batch: 4800 [ 48000/60000]  loss: 0.00142780  accuracy:  99.083%\n",
      "epoch:  4  batch: 5400 [ 54000/60000]  loss: 0.00037841  accuracy:  99.050%\n",
      "epoch:  4  batch: 6000 [ 60000/60000]  loss: 0.00084321  accuracy:  99.042%\n",
      "\n",
      "Duration: 76 seconds\n"
     ]
    }
   ],
   "source": [
    "import time\n",
    "start_time = time.time()\n",
    "\n",
    "epochs = 5\n",
    "train_losses = []\n",
    "test_losses = []\n",
    "train_correct = []\n",
    "test_correct = []\n",
    "\n",
    "for i in range(epochs):\n",
    "    trn_corr = 0\n",
    "    tst_corr = 0\n",
    "    \n",
    "    # Uruchom partie treningowe\n",
    "    for b, (X_train, y_train) in enumerate(train_loader):\n",
    "        b+=1\n",
    "        \n",
    "        # Zastosuj model\n",
    "        y_pred = model(X_train)  # tutaj nie spłaszczamy X_train\n",
    "        loss = criterion(y_pred, y_train)\n",
    " \n",
    "        # Zlicz liczbę poprawnych predykcji\n",
    "        predicted = torch.max(y_pred.data, 1)[1]\n",
    "        batch_corr = (predicted == y_train).sum()\n",
    "        trn_corr += batch_corr\n",
    "        \n",
    "        # Zaktualizuj parametry\n",
    "        optimizer.zero_grad()\n",
    "        loss.backward()\n",
    "        optimizer.step()\n",
    "        \n",
    "        # Wypisz wyniki pośrednie\n",
    "        if b%600 == 0:\n",
    "            print(f'epoch: {i:2}  batch: {b:4} [{10*b:6}/60000]  loss: {loss.item():10.8f}  \\\n",
    "accuracy: {trn_corr.item()*100/(10*b):7.3f}%')\n",
    "        \n",
    "    train_losses.append(loss)\n",
    "    train_correct.append(trn_corr)\n",
    "        \n",
    "    # Uruchom partie testowe\n",
    "    with torch.no_grad():\n",
    "        for b, (X_test, y_test) in enumerate(test_loader):\n",
    "\n",
    "            # Zastosuj model\n",
    "            y_val = model(X_test)\n",
    "\n",
    "            # Zlicz liczbę poprawnych predykcji\n",
    "            predicted = torch.max(y_val.data, 1)[1] \n",
    "            tst_corr += (predicted == y_test).sum()\n",
    "            \n",
    "    loss = criterion(y_val, y_test)\n",
    "    test_losses.append(loss)\n",
    "    test_correct.append(tst_corr)\n",
    "        \n",
    "print(f'\\nDuration: {time.time() - start_time:.0f} seconds') # wypisz upływ czasu            "
   ]
  },
  {
   "cell_type": "markdown",
   "metadata": {},
   "source": [
    "## Wykreśl Porównanie Straty i Dokładności\n"
   ]
  },
  {
   "cell_type": "code",
   "execution_count": 14,
   "metadata": {},
   "outputs": [],
   "source": [
    "tt = [t.detach().numpy() for t in train_losses]\n",
    "tl = [t.detach().numpy() for t in test_losses]"
   ]
  },
  {
   "cell_type": "code",
   "execution_count": 15,
   "metadata": {},
   "outputs": [
    {
     "data": {
      "image/png": "[encoded data removed]",
      "text/plain": [
       "<Figure size 640x480 with 1 Axes>"
      ]
     },
     "metadata": {},
     "output_type": "display_data"
    }
   ],
   "source": [
    "plt.plot(tt, label='training loss')\n",
    "plt.plot(tl, label='validation loss')\n",
    "plt.title('Loss at the end of each epoch')\n",
    "plt.legend();"
   ]
  },
  {
   "cell_type": "code",
   "execution_count": 16,
   "metadata": {},
   "outputs": [
    {
     "data": {
      "text/plain": [
       "[tensor(0.0044),\n",
       " tensor(0.0004),\n",
       " tensor(0.0005),\n",
       " tensor(6.9462e-05),\n",
       " tensor(0.0004)]"
      ]
     },
     "execution_count": 16,
     "metadata": {},
     "output_type": "execute_result"
    }
   ],
   "source": [
    "test_losses"
   ]
  },
  {
   "cell_type": "markdown",
   "metadata": {},
   "source": [
    "Chociaż może występować lekkie przeuczenie danych treningowych, jest go znacznie mniej niż w modelu ANN.\n"
   ]
  },
  {
   "cell_type": "code",
   "execution_count": 17,
   "metadata": {},
   "outputs": [
    {
     "data": {
      "image/png": "[encoded data removed]",
      "text/plain": [
       "<Figure size 640x480 with 1 Axes>"
      ]
     },
     "metadata": {},
     "output_type": "display_data"
    }
   ],
   "source": [
    "plt.plot([t/600 for t in train_correct], label='training accuracy')\n",
    "plt.plot([t/100 for t in test_correct], label='validation accuracy')\n",
    "plt.title('Accuracy at the end of each epoch')\n",
    "plt.legend();"
   ]
  },
  {
   "cell_type": "markdown",
   "metadata": {},
   "source": [
    "## Oceń Dane Testowe\n"
   ]
  },
  {
   "cell_type": "code",
   "execution_count": 23,
   "metadata": {},
   "outputs": [],
   "source": [
    "# Pobierz dane za jednym razem, a nie partiami\n",
    "test_load_all = DataLoader(test_data, batch_size=10000, shuffle=False)"
   ]
  },
  {
   "cell_type": "code",
   "execution_count": 24,
   "metadata": {},
   "outputs": [
    {
     "name": "stdout",
     "output_type": "stream",
     "text": [
      "Test accuracy: 9848/10000 =  98.480%\n"
     ]
    }
   ],
   "source": [
    "with torch.no_grad():\n",
    "    correct = 0\n",
    "    for X_test, y_test in test_load_all:\n",
    "        y_val = model(X_test)  # tym razem nie spłaszczamy danych\n",
    "        predicted = torch.max(y_val,1)[1]\n",
    "        correct += (predicted == y_test).sum()\n",
    "print(f'Test accuracy: {correct.item()}/{len(test_data)} = {correct.item()*100/(len(test_data)):7.3f}%')"
   ]
  },
  {
   "cell_type": "markdown",
   "metadata": {},
   "source": [
    "Przypomnij sobie, że nasz model ANN o strukturze [784,120,84,10] osiągnął dokładność 97,25% po 10 epokach, zużywając 105 214 parametrów. Obecnie korzystamy z 60 074 parametrów.\n"
   ]
  },
  {
   "cell_type": "markdown",
   "metadata": {},
   "source": [
    "## Wyświetl Macierz Pomyłek\n"
   ]
  },
  {
   "cell_type": "code",
   "execution_count": 19,
   "metadata": {},
   "outputs": [
    {
     "name": "stdout",
     "output_type": "stream",
     "text": [
      "[[   0    1    2    3    4    5    6    7    8    9]]\n",
      "\n",
      "[[   1    0    0    0    0    0    0    0    0    0]\n",
      " [   0    1    0    0    0    0    0    0    0    0]\n",
      " [   0    0    1    0    0    0    0    0    0    0]\n",
      " [   0    0    0    1    0    0    0    0    0    0]\n",
      " [   0    0    0    0    1    0    0    0    0    0]\n",
      " [   0    0    0    0    0    1    0    0    0    0]\n",
      " [   0    0    0    0    0    0    1    0    0    0]\n",
      " [   0    0    0    0    0    0    0    1    0    0]\n",
      " [   0    0    0    0    0    0    0    0    1    0]\n",
      " [   0    0    0    0    0    0    0    0    0    1]]\n"
     ]
    }
   ],
   "source": [
    "# Wypisz wiersz wartości referencyjnych\n",
    "np.set_printoptions(formatter=dict(int=lambda x: f'{x:4}'))\n",
    "print(np.arange(10).reshape(1,10))\n",
    "print()\n",
    "\n",
    "# Wypisz macierz pomyłek\n",
    "print(confusion_matrix(predicted.view(-1), y_test.view(-1)))"
   ]
  },
  {
   "cell_type": "markdown",
   "metadata": {},
   "source": [
    "## Przeanalizuj Pomyłki\n",
    "Możemy śledzić indeksy niepoprawnych przewidywań i wyciągać odpowiadające im obrazy oraz etykiety. Zrobimy to partiami, aby zaoszczędzić miejsce na ekranie.\n"
   ]
  },
  {
   "cell_type": "code",
   "execution_count": 20,
   "metadata": {},
   "outputs": [
    {
     "data": {
      "text/plain": [
       "0"
      ]
     },
     "execution_count": 20,
     "metadata": {},
     "output_type": "execute_result"
    }
   ],
   "source": [
    "misses = np.array([])\n",
    "for i in range(len(predicted.view(-1))):\n",
    "    if predicted[i] != y_test[i]:\n",
    "        misses = np.append(misses,i).astype('int64')\n",
    "        \n",
    "# Wyświetl liczbę błędnych predykcji\n",
    "len(misses)"
   ]
  },
  {
   "cell_type": "code",
   "execution_count": 21,
   "metadata": {},
   "outputs": [
    {
     "data": {
      "text/plain": [
       "array([], dtype=float64)"
      ]
     },
     "execution_count": 21,
     "metadata": {},
     "output_type": "execute_result"
    }
   ],
   "source": [
    "# Wyświetl pierwszych 10 indeksów\n",
    "misses[:10]"
   ]
  },
  {
   "cell_type": "code",
   "execution_count": 22,
   "metadata": {},
   "outputs": [],
   "source": [
    "# Przygotuj iterator do dostarczania partii wierszy\n",
    "r = 12   # liczba elementów w wierszu\n",
    "row = iter(np.array_split(misses,len(misses)//r+1))"
   ]
  },
  {
   "cell_type": "markdown",
   "metadata": {},
   "source": [
    "Teraz, gdy wszystko jest gotowe, uruchamiaj wielokrotnie poniższą komórkę, aby obejrzeć wszystkie błędne przewidywania.<br>\n",
    "Użyj <kbd>Ctrl+Enter</kbd>, aby pozostawać w tej komórce między kolejnymi uruchomieniami. Po przejrzeniu wszystkich pomyłek pojawi się wyjątek <tt>StopIteration</tt>.\n"
   ]
  },
  {
   "cell_type": "code",
   "execution_count": 23,
   "metadata": {},
   "outputs": [
    {
     "name": "stdout",
     "output_type": "stream",
     "text": [
      "Index: []\n"
     ]
    },
    {
     "ename": "RuntimeError",
     "evalue": "index_select(): Expected dtype int32 or int64 for index",
     "output_type": "error",
     "traceback": [
      "\u001b[31m---------------------------------------------------------------------------\u001b[39m",
      "\u001b[31mRuntimeError\u001b[39m                              Traceback (most recent call last)",
      "\u001b[36mCell\u001b[39m\u001b[36m \u001b[39m\u001b[32mIn[23]\u001b[39m\u001b[32m, line 3\u001b[39m\n\u001b[32m      1\u001b[39m nextrow = \u001b[38;5;28mnext\u001b[39m(row)\n\u001b[32m      2\u001b[39m \u001b[38;5;28mprint\u001b[39m(\u001b[33m\"\u001b[39m\u001b[33mIndex:\u001b[39m\u001b[33m\"\u001b[39m, nextrow)\n\u001b[32m----> \u001b[39m\u001b[32m3\u001b[39m \u001b[38;5;28mprint\u001b[39m(\u001b[33m\"\u001b[39m\u001b[33mLabel:\u001b[39m\u001b[33m\"\u001b[39m, \u001b[43my_test\u001b[49m\u001b[43m.\u001b[49m\u001b[43mindex_select\u001b[49m\u001b[43m(\u001b[49m\u001b[32;43m0\u001b[39;49m\u001b[43m,\u001b[49m\u001b[43mtorch\u001b[49m\u001b[43m.\u001b[49m\u001b[43mtensor\u001b[49m\u001b[43m(\u001b[49m\u001b[43mnextrow\u001b[49m\u001b[43m)\u001b[49m\u001b[43m)\u001b[49m.numpy())\n\u001b[32m      4\u001b[39m \u001b[38;5;28mprint\u001b[39m(\u001b[33m\"\u001b[39m\u001b[33mGuess:\u001b[39m\u001b[33m\"\u001b[39m, predicted.index_select(\u001b[32m0\u001b[39m,torch.tensor(nextrow)).numpy())\n\u001b[32m      6\u001b[39m images = X_test.index_select(\u001b[32m0\u001b[39m,torch.tensor(nextrow))\n",
      "\u001b[31mRuntimeError\u001b[39m: index_select(): Expected dtype int32 or int64 for index"
     ]
    }
   ],
   "source": [
    "nextrow = next(row)\n",
    "print(\"Index:\", nextrow)\n",
    "print(\"Label:\", y_test.index_select(0,torch.tensor(nextrow)).numpy())\n",
    "print(\"Guess:\", predicted.index_select(0,torch.tensor(nextrow)).numpy())\n",
    "\n",
    "images = X_test.index_select(0,torch.tensor(nextrow))\n",
    "im = make_grid(images, nrow=r)\n",
    "plt.figure(figsize=(10,4))\n",
    "plt.imshow(np.transpose(im.numpy(), (1, 2, 0)));"
   ]
  },
  {
   "cell_type": "markdown",
   "metadata": {},
   "source": [
    "## Przepuść Nowy Obraz Przez Model\n",
    "Możemy też przekazać pojedynczy obraz do modelu, by uzyskać przewidywanie.\n",
    "Wybierz liczbę od 0 do 9999, przypisz ją do zmiennej \"x\", a użyjemy jej do wyboru rekordu z testowego zbioru MNIST.\n"
   ]
  },
  {
   "cell_type": "code",
   "execution_count": 31,
   "metadata": {},
   "outputs": [
    {
     "data": {
      "image/png": "[encoded data removed]",
      "text/plain": [
       "<Figure size 72x72 with 1 Axes>"
      ]
     },
     "metadata": {
      "needs_background": "light"
     },
     "output_type": "display_data"
    }
   ],
   "source": [
    "x = 2019\n",
    "plt.figure(figsize=(1,1))\n",
    "plt.imshow(test_data[x][0].reshape((28,28)), cmap=\"gist_yarg\");"
   ]
  },
  {
   "cell_type": "code",
   "execution_count": 32,
   "metadata": {},
   "outputs": [
    {
     "name": "stdout",
     "output_type": "stream",
     "text": [
      "Predicted value: 9\n"
     ]
    }
   ],
   "source": [
    "model.eval()\n",
    "with torch.no_grad():\n",
    "    new_pred = model(test_data[x][0].view(1,1,28,28)).argmax()\n",
    "print(\"Predicted value:\",new_pred.item())"
   ]
  },
  {
   "cell_type": "markdown",
   "metadata": {},
   "source": [
    "## Świetna Robota!\n"
   ]
  }
 ],
 "metadata": {
  "kernelspec": {
   "display_name": "Python 3 (ipykernel)",
   "language": "python",
   "name": "python3"
  },
  "language_info": {
   "codemirror_mode": {
    "name": "ipython",
    "version": 3
   },
   "file_extension": ".py",
   "mimetype": "text/x-python",
   "name": "python",
   "nbconvert_exporter": "python",
   "pygments_lexer": "ipython3",
   "version": "3.12.9"
  }
 },
 "nbformat": 4,
 "nbformat_minor": 4
}
