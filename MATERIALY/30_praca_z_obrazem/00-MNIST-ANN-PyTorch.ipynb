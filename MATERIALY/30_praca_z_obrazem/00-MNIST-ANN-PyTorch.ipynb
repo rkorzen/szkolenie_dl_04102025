{
 "cells": [
  {
   "cell_type": "markdown",
   "metadata": {},
   "source": [
    "# MNIST - Ćwiczenie z ANN\n",
    "Zanim zaczniemy pracę z konwolucyjnymi sieciami neuronowymi (CNN), zamodelujmy <a href='https://en.wikipedia.org/wiki/MNIST_database'>zestaw danych MNIST</a> wykorzystując wyłącznie warstwy liniowe.<br>\n",
    "W tym ćwiczeniu użyjemy tej samej logiki, którą poznaliśmy w notatniku o sieciach ANN. Przekształcimy dane MNIST z obrazu 28x28 w spłaszczony wektor 1x784, aby odwzorować pojedynczy wiersz 784 cech.\n"
   ]
  },
  {
   "cell_type": "markdown",
   "metadata": {},
   "source": [
    "## Wykonaj Standardowe Importy\n",
    "Torchvision powinno zostać zainstalowane przez plik środowiska podczas konfiguracji. Jeśli tak się nie stało, możesz zainstalować je teraz. W terminalu z aktywowanym środowiskiem wirtualnym uruchom<br>\n",
    "<pre>conda install torchvision -c pytorch\n",
    "<em>lub</em>\n",
    "pip install torchvision</pre>\n"
   ]
  },
  {
   "cell_type": "code",
   "execution_count": 1,
   "metadata": {
    "ExecuteTime": {
     "end_time": "2025-09-30T15:19:54.475093Z",
     "start_time": "2025-09-30T15:19:52.546114Z"
    }
   },
   "outputs": [],
   "source": [
    "import torch\n",
    "import torch.nn as nn\n",
    "import torch.nn.functional as F          # dodaje nieco wydajności\n",
    "from torch.utils.data import DataLoader  # umożliwia ładowanie danych partiami\n",
    "from torchvision import datasets, transforms\n",
    "\n",
    "import numpy as np\n",
    "import pandas as pd\n",
    "from sklearn.metrics import confusion_matrix  # do oceny wyników\n",
    "import matplotlib.pyplot as plt\n",
    "%matplotlib inline"
   ]
  },
  {
   "cell_type": "markdown",
   "metadata": {},
   "source": [
    "## Wczytaj Zbiór Danych MNIST\n",
    "PyTorch udostępnia zbiór danych MNIST poprzez <a href='https://docs.pytorch.org/vision/stable/index.html'><tt><strong>torchvision</strong></tt></a>. Przy pierwszym wywołaniu zestaw zostanie pobrany na komputer do wskazanej ścieżki. Od tej pory torchvision zawsze spróbuje skorzystać z lokalnej kopii, zanim ponowi pobieranie.\n",
    "### Zdefiniuj Transformację\n",
    "W ramach procesu wczytywania można zastosować wiele transformacji (zmianę kształtu, konwersję na tensor, normalizację itd.) do napływających danych.<br>\n",
    "W tym ćwiczeniu musimy jedynie zamienić obrazy na tensory. \n"
   ]
  },
  {
   "cell_type": "code",
   "execution_count": 2,
   "metadata": {
    "ExecuteTime": {
     "end_time": "2025-09-30T15:19:57.260022Z",
     "start_time": "2025-09-30T15:19:57.252193Z"
    }
   },
   "outputs": [],
   "source": [
    "transform = transforms.ToTensor()"
   ]
  },
  {
   "cell_type": "markdown",
   "metadata": {},
   "source": [
    "### Wczytaj Zestaw Treningowy\n"
   ]
  },
  {
   "cell_type": "code",
   "execution_count": 3,
   "metadata": {
    "ExecuteTime": {
     "end_time": "2025-09-30T15:20:09.575610Z",
     "start_time": "2025-09-30T15:19:59.372776Z"
    }
   },
   "outputs": [
    {
     "data": {
      "text/plain": [
       "Dataset MNIST\n",
       "    Number of datapoints: 60000\n",
       "    Root location: ../Data\n",
       "    Split: Train\n",
       "    StandardTransform\n",
       "Transform: ToTensor()"
      ]
     },
     "execution_count": 3,
     "metadata": {},
     "output_type": "execute_result"
    }
   ],
   "source": [
    "train_data = datasets.MNIST(root='../Data', train=True, download=True, transform=transform)\n",
    "train_data"
   ]
  },
  {
   "cell_type": "markdown",
   "metadata": {},
   "source": [
    "### Wczytaj Zestaw Testowy\n",
    "Istnieje towarzyszący zbiór danych MNIST zawierający 10 000 rekordów, dostępny po ustawieniu parametru train=False. Podobnie jak wcześniej, torchvision pobierze go tylko raz, a później będzie szukać lokalnej kopii.\n"
   ]
  },
  {
   "cell_type": "code",
   "execution_count": 4,
   "metadata": {
    "ExecuteTime": {
     "end_time": "2025-09-30T15:20:46.977268Z",
     "start_time": "2025-09-30T15:20:46.943017Z"
    }
   },
   "outputs": [
    {
     "data": {
      "text/plain": [
       "Dataset MNIST\n",
       "    Number of datapoints: 10000\n",
       "    Root location: ../Data\n",
       "    Split: Test\n",
       "    StandardTransform\n",
       "Transform: ToTensor()"
      ]
     },
     "execution_count": 4,
     "metadata": {},
     "output_type": "execute_result"
    }
   ],
   "source": [
    "test_data = datasets.MNIST(root='../Data', train=False, download=True, transform=transform)\n",
    "test_data"
   ]
  },
  {
   "cell_type": "markdown",
   "metadata": {},
   "source": [
    "### Przeanalizuj Rekord Treningowy\n"
   ]
  },
  {
   "cell_type": "code",
   "execution_count": 5,
   "metadata": {
    "ExecuteTime": {
     "end_time": "2025-09-30T15:20:55.645092Z",
     "start_time": "2025-09-30T15:20:55.626965Z"
    }
   },
   "outputs": [
    {
     "data": {
      "text/plain": [
       "(tensor([[[0.0000, 0.0000, 0.0000, 0.0000, 0.0000, 0.0000, 0.0000, 0.0000,\n",
       "           0.0000, 0.0000, 0.0000, 0.0000, 0.0000, 0.0000, 0.0000, 0.0000,\n",
       "           0.0000, 0.0000, 0.0000, 0.0000, 0.0000, 0.0000, 0.0000, 0.0000,\n",
       "           0.0000, 0.0000, 0.0000, 0.0000],\n",
       "          [0.0000, 0.0000, 0.0000, 0.0000, 0.0000, 0.0000, 0.0000, 0.0000,\n",
       "           0.0000, 0.0000, 0.0000, 0.0000, 0.0000, 0.0000, 0.0000, 0.0000,\n",
       "           0.0000, 0.0000, 0.0000, 0.0000, 0.0000, 0.0000, 0.0000, 0.0000,\n",
       "           0.0000, 0.0000, 0.0000, 0.0000],\n",
       "          [0.0000, 0.0000, 0.0000, 0.0000, 0.0000, 0.0000, 0.0000, 0.0000,\n",
       "           0.0000, 0.0000, 0.0000, 0.0000, 0.0000, 0.0000, 0.0000, 0.0000,\n",
       "           0.0000, 0.0000, 0.0000, 0.0000, 0.0000, 0.0000, 0.0000, 0.0000,\n",
       "           0.0000, 0.0000, 0.0000, 0.0000],\n",
       "          [0.0000, 0.0000, 0.0000, 0.0000, 0.0000, 0.0000, 0.0000, 0.0000,\n",
       "           0.0000, 0.0000, 0.0000, 0.0000, 0.0000, 0.0000, 0.0000, 0.0000,\n",
       "           0.0000, 0.0000, 0.0000, 0.0000, 0.0000, 0.0000, 0.0000, 0.0000,\n",
       "           0.0000, 0.0000, 0.0000, 0.0000],\n",
       "          [0.0000, 0.0000, 0.0000, 0.0000, 0.0000, 0.0000, 0.0000, 0.0000,\n",
       "           0.0000, 0.0000, 0.0000, 0.0000, 0.0000, 0.0000, 0.0000, 0.0000,\n",
       "           0.0000, 0.0000, 0.0000, 0.0000, 0.0000, 0.0000, 0.0000, 0.0000,\n",
       "           0.0000, 0.0000, 0.0000, 0.0000],\n",
       "          [0.0000, 0.0000, 0.0000, 0.0000, 0.0000, 0.0000, 0.0000, 0.0000,\n",
       "           0.0000, 0.0000, 0.0000, 0.0000, 0.0118, 0.0706, 0.0706, 0.0706,\n",
       "           0.4941, 0.5333, 0.6863, 0.1020, 0.6510, 1.0000, 0.9686, 0.4980,\n",
       "           0.0000, 0.0000, 0.0000, 0.0000],\n",
       "          [0.0000, 0.0000, 0.0000, 0.0000, 0.0000, 0.0000, 0.0000, 0.0000,\n",
       "           0.1176, 0.1412, 0.3686, 0.6039, 0.6667, 0.9922, 0.9922, 0.9922,\n",
       "           0.9922, 0.9922, 0.8824, 0.6745, 0.9922, 0.9490, 0.7647, 0.2510,\n",
       "           0.0000, 0.0000, 0.0000, 0.0000],\n",
       "          [0.0000, 0.0000, 0.0000, 0.0000, 0.0000, 0.0000, 0.0000, 0.1922,\n",
       "           0.9333, 0.9922, 0.9922, 0.9922, 0.9922, 0.9922, 0.9922, 0.9922,\n",
       "           0.9922, 0.9843, 0.3647, 0.3216, 0.3216, 0.2196, 0.1529, 0.0000,\n",
       "           0.0000, 0.0000, 0.0000, 0.0000],\n",
       "          [0.0000, 0.0000, 0.0000, 0.0000, 0.0000, 0.0000, 0.0000, 0.0706,\n",
       "           0.8588, 0.9922, 0.9922, 0.9922, 0.9922, 0.9922, 0.7765, 0.7137,\n",
       "           0.9686, 0.9451, 0.0000, 0.0000, 0.0000, 0.0000, 0.0000, 0.0000,\n",
       "           0.0000, 0.0000, 0.0000, 0.0000],\n",
       "          [0.0000, 0.0000, 0.0000, 0.0000, 0.0000, 0.0000, 0.0000, 0.0000,\n",
       "           0.3137, 0.6118, 0.4196, 0.9922, 0.9922, 0.8039, 0.0431, 0.0000,\n",
       "           0.1686, 0.6039, 0.0000, 0.0000, 0.0000, 0.0000, 0.0000, 0.0000,\n",
       "           0.0000, 0.0000, 0.0000, 0.0000],\n",
       "          [0.0000, 0.0000, 0.0000, 0.0000, 0.0000, 0.0000, 0.0000, 0.0000,\n",
       "           0.0000, 0.0549, 0.0039, 0.6039, 0.9922, 0.3529, 0.0000, 0.0000,\n",
       "           0.0000, 0.0000, 0.0000, 0.0000, 0.0000, 0.0000, 0.0000, 0.0000,\n",
       "           0.0000, 0.0000, 0.0000, 0.0000],\n",
       "          [0.0000, 0.0000, 0.0000, 0.0000, 0.0000, 0.0000, 0.0000, 0.0000,\n",
       "           0.0000, 0.0000, 0.0000, 0.5451, 0.9922, 0.7451, 0.0078, 0.0000,\n",
       "           0.0000, 0.0000, 0.0000, 0.0000, 0.0000, 0.0000, 0.0000, 0.0000,\n",
       "           0.0000, 0.0000, 0.0000, 0.0000],\n",
       "          [0.0000, 0.0000, 0.0000, 0.0000, 0.0000, 0.0000, 0.0000, 0.0000,\n",
       "           0.0000, 0.0000, 0.0000, 0.0431, 0.7451, 0.9922, 0.2745, 0.0000,\n",
       "           0.0000, 0.0000, 0.0000, 0.0000, 0.0000, 0.0000, 0.0000, 0.0000,\n",
       "           0.0000, 0.0000, 0.0000, 0.0000],\n",
       "          [0.0000, 0.0000, 0.0000, 0.0000, 0.0000, 0.0000, 0.0000, 0.0000,\n",
       "           0.0000, 0.0000, 0.0000, 0.0000, 0.1373, 0.9451, 0.8824, 0.6275,\n",
       "           0.4235, 0.0039, 0.0000, 0.0000, 0.0000, 0.0000, 0.0000, 0.0000,\n",
       "           0.0000, 0.0000, 0.0000, 0.0000],\n",
       "          [0.0000, 0.0000, 0.0000, 0.0000, 0.0000, 0.0000, 0.0000, 0.0000,\n",
       "           0.0000, 0.0000, 0.0000, 0.0000, 0.0000, 0.3176, 0.9412, 0.9922,\n",
       "           0.9922, 0.4667, 0.0980, 0.0000, 0.0000, 0.0000, 0.0000, 0.0000,\n",
       "           0.0000, 0.0000, 0.0000, 0.0000],\n",
       "          [0.0000, 0.0000, 0.0000, 0.0000, 0.0000, 0.0000, 0.0000, 0.0000,\n",
       "           0.0000, 0.0000, 0.0000, 0.0000, 0.0000, 0.0000, 0.1765, 0.7294,\n",
       "           0.9922, 0.9922, 0.5882, 0.1059, 0.0000, 0.0000, 0.0000, 0.0000,\n",
       "           0.0000, 0.0000, 0.0000, 0.0000],\n",
       "          [0.0000, 0.0000, 0.0000, 0.0000, 0.0000, 0.0000, 0.0000, 0.0000,\n",
       "           0.0000, 0.0000, 0.0000, 0.0000, 0.0000, 0.0000, 0.0000, 0.0627,\n",
       "           0.3647, 0.9882, 0.9922, 0.7333, 0.0000, 0.0000, 0.0000, 0.0000,\n",
       "           0.0000, 0.0000, 0.0000, 0.0000],\n",
       "          [0.0000, 0.0000, 0.0000, 0.0000, 0.0000, 0.0000, 0.0000, 0.0000,\n",
       "           0.0000, 0.0000, 0.0000, 0.0000, 0.0000, 0.0000, 0.0000, 0.0000,\n",
       "           0.0000, 0.9765, 0.9922, 0.9765, 0.2510, 0.0000, 0.0000, 0.0000,\n",
       "           0.0000, 0.0000, 0.0000, 0.0000],\n",
       "          [0.0000, 0.0000, 0.0000, 0.0000, 0.0000, 0.0000, 0.0000, 0.0000,\n",
       "           0.0000, 0.0000, 0.0000, 0.0000, 0.0000, 0.0000, 0.1804, 0.5098,\n",
       "           0.7176, 0.9922, 0.9922, 0.8118, 0.0078, 0.0000, 0.0000, 0.0000,\n",
       "           0.0000, 0.0000, 0.0000, 0.0000],\n",
       "          [0.0000, 0.0000, 0.0000, 0.0000, 0.0000, 0.0000, 0.0000, 0.0000,\n",
       "           0.0000, 0.0000, 0.0000, 0.0000, 0.1529, 0.5804, 0.8980, 0.9922,\n",
       "           0.9922, 0.9922, 0.9804, 0.7137, 0.0000, 0.0000, 0.0000, 0.0000,\n",
       "           0.0000, 0.0000, 0.0000, 0.0000],\n",
       "          [0.0000, 0.0000, 0.0000, 0.0000, 0.0000, 0.0000, 0.0000, 0.0000,\n",
       "           0.0000, 0.0000, 0.0941, 0.4471, 0.8667, 0.9922, 0.9922, 0.9922,\n",
       "           0.9922, 0.7882, 0.3059, 0.0000, 0.0000, 0.0000, 0.0000, 0.0000,\n",
       "           0.0000, 0.0000, 0.0000, 0.0000],\n",
       "          [0.0000, 0.0000, 0.0000, 0.0000, 0.0000, 0.0000, 0.0000, 0.0000,\n",
       "           0.0902, 0.2588, 0.8353, 0.9922, 0.9922, 0.9922, 0.9922, 0.7765,\n",
       "           0.3176, 0.0078, 0.0000, 0.0000, 0.0000, 0.0000, 0.0000, 0.0000,\n",
       "           0.0000, 0.0000, 0.0000, 0.0000],\n",
       "          [0.0000, 0.0000, 0.0000, 0.0000, 0.0000, 0.0000, 0.0706, 0.6706,\n",
       "           0.8588, 0.9922, 0.9922, 0.9922, 0.9922, 0.7647, 0.3137, 0.0353,\n",
       "           0.0000, 0.0000, 0.0000, 0.0000, 0.0000, 0.0000, 0.0000, 0.0000,\n",
       "           0.0000, 0.0000, 0.0000, 0.0000],\n",
       "          [0.0000, 0.0000, 0.0000, 0.0000, 0.2157, 0.6745, 0.8863, 0.9922,\n",
       "           0.9922, 0.9922, 0.9922, 0.9569, 0.5216, 0.0431, 0.0000, 0.0000,\n",
       "           0.0000, 0.0000, 0.0000, 0.0000, 0.0000, 0.0000, 0.0000, 0.0000,\n",
       "           0.0000, 0.0000, 0.0000, 0.0000],\n",
       "          [0.0000, 0.0000, 0.0000, 0.0000, 0.5333, 0.9922, 0.9922, 0.9922,\n",
       "           0.8314, 0.5294, 0.5176, 0.0627, 0.0000, 0.0000, 0.0000, 0.0000,\n",
       "           0.0000, 0.0000, 0.0000, 0.0000, 0.0000, 0.0000, 0.0000, 0.0000,\n",
       "           0.0000, 0.0000, 0.0000, 0.0000],\n",
       "          [0.0000, 0.0000, 0.0000, 0.0000, 0.0000, 0.0000, 0.0000, 0.0000,\n",
       "           0.0000, 0.0000, 0.0000, 0.0000, 0.0000, 0.0000, 0.0000, 0.0000,\n",
       "           0.0000, 0.0000, 0.0000, 0.0000, 0.0000, 0.0000, 0.0000, 0.0000,\n",
       "           0.0000, 0.0000, 0.0000, 0.0000],\n",
       "          [0.0000, 0.0000, 0.0000, 0.0000, 0.0000, 0.0000, 0.0000, 0.0000,\n",
       "           0.0000, 0.0000, 0.0000, 0.0000, 0.0000, 0.0000, 0.0000, 0.0000,\n",
       "           0.0000, 0.0000, 0.0000, 0.0000, 0.0000, 0.0000, 0.0000, 0.0000,\n",
       "           0.0000, 0.0000, 0.0000, 0.0000],\n",
       "          [0.0000, 0.0000, 0.0000, 0.0000, 0.0000, 0.0000, 0.0000, 0.0000,\n",
       "           0.0000, 0.0000, 0.0000, 0.0000, 0.0000, 0.0000, 0.0000, 0.0000,\n",
       "           0.0000, 0.0000, 0.0000, 0.0000, 0.0000, 0.0000, 0.0000, 0.0000,\n",
       "           0.0000, 0.0000, 0.0000, 0.0000]]]),\n",
       " 5)"
      ]
     },
     "execution_count": 5,
     "metadata": {},
     "output_type": "execute_result"
    }
   ],
   "source": [
    "train_data[0]"
   ]
  },
  {
   "cell_type": "markdown",
   "metadata": {},
   "source": [
    "Wywołanie pierwszego rekordu z <tt>train_data</tt> zwraca krotkę złożoną z dwóch elementów. Pierwszy element to tensor 28x28 reprezentujący obraz. Drugi to etykieta, w tym przypadku cyfra \"5\".\n"
   ]
  },
  {
   "cell_type": "code",
   "execution_count": 6,
   "metadata": {
    "ExecuteTime": {
     "end_time": "2025-09-30T15:21:15.829846Z",
     "start_time": "2025-09-30T15:21:15.817375Z"
    }
   },
   "outputs": [
    {
     "name": "stdout",
     "output_type": "stream",
     "text": [
      "Shape: torch.Size([1, 28, 28]) \n",
      "Label: 5\n"
     ]
    }
   ],
   "source": [
    "image, label = train_data[0]\n",
    "print('Shape:', image.shape, '\\nLabel:', label)"
   ]
  },
  {
   "cell_type": "markdown",
   "metadata": {},
   "source": [
    "### Wyświetl Obraz\n",
    "Matplotlib może interpretować wartości pikseli przy pomocy różnych <a href='https://matplotlib.org/tutorials/colors/colormaps.html'>map kolorów</a>.\n"
   ]
  },
  {
   "cell_type": "code",
   "execution_count": 7,
   "metadata": {
    "ExecuteTime": {
     "end_time": "2025-09-30T15:21:59.338978Z",
     "start_time": "2025-09-30T15:21:59.277529Z"
    }
   },
   "outputs": [
    {
     "data": {
      "image/png": "[encoded data removed]",
      "text/plain": [
       "<Figure size 640x480 with 1 Axes>"
      ]
     },
     "metadata": {},
     "output_type": "display_data"
    }
   ],
   "source": [
    "plt.imshow(train_data[0][0].reshape((28,28)), cmap=\"gray\");"
   ]
  },
  {
   "cell_type": "code",
   "execution_count": 8,
   "metadata": {
    "ExecuteTime": {
     "end_time": "2025-09-30T15:22:06.312532Z",
     "start_time": "2025-09-30T15:22:06.240576Z"
    }
   },
   "outputs": [
    {
     "data": {
      "image/png": "[encoded data removed]",
      "text/plain": [
       "<Figure size 640x480 with 1 Axes>"
      ]
     },
     "metadata": {},
     "output_type": "display_data"
    }
   ],
   "source": [
    "plt.imshow(train_data[0][0].reshape((28,28)), cmap=\"gist_yarg\");"
   ]
  },
  {
   "cell_type": "markdown",
   "metadata": {},
   "source": [
    "## Ładowanie Partiami z DataLoader\n",
    "Nasz zbiór treningowy zawiera 60 000 rekordów.\n",
    "\n",
    "Nasz model zbdujemy w następującej architekturze:\n",
    "\n",
    "1. warstwa wejściowa: 784 neurony - bo mamy 784 cechy - każdy pixel to cecha\n",
    "2. warstwy ukryte: 120 i 84 neurony (to arbitralny wybór)\n",
    "3. warstwa wyjściowa: 10 neuronów - bo mamy\n",
    "\n",
    "Wliczając wyrazy bias dla każdej warstwy, łączna liczba trenowanych parametrów wynosi:<br>\n",
    "\n",
    "$\\begin{split}\\quad(784\\times120)+120+(120\\times84)+84+(84\\times10)+10 &=\\\\\n",
    "94080+120+10080+84+840+10 &= 105,214\\end{split}$<br>\n",
    "\n",
    "Oczywiście nie jest to jedyna możliwa architektura. Często spotkać można np MLP (Multi Layer Perceptron): 784–300–100–10 (LeNet-300-100) lub prostszy 784–128–10 też działają świetnie.\n"
   ]
  },
  {
   "cell_type": "markdown",
   "metadata": {},
   "source": [
    "<div style=\"background: lightgray\">\n",
    "📜 Ciekawostka historyczna – skąd nazwa **LeNet**?\n",
    "\n",
    "**LeNet** to rodzina sieci neuronowych zaprojektowanych przez **Yanna LeCuna** i jego zespół na początku lat 90. Nazwa pochodzi od „LeCun Network”.\n",
    "\n",
    "🔹 **1990–1998 – LeNet-1, LeNet-4, LeNet-5**\n",
    "\n",
    "* Były to jedne z pierwszych **konwolucyjnych sieci neuronowych (CNN)**.\n",
    "* Najbardziej znana jest **LeNet-5 (1998)**, stosowana m.in. w systemach rozpoznawania cyfr na czekach bankowych w USA.\n",
    "* Architektura: warstwy konwolucyjne + pooling + warstwy gęste. To był przełom – pokazała, że **CNN-y mogą przewyższać klasyczne MLP** w zadaniach wizji komputerowej.\n",
    "\n",
    "🔹 **2000–2010 – LeNet-300-100**\n",
    "\n",
    "* Później w badaniach nad MNIST zaczęto używać także prostszego modelu MLP:\n",
    "  [\n",
    "  784 ;\\rightarrow; 300 ;\\rightarrow; 100 ;\\rightarrow; 10\n",
    "  ]\n",
    "* Choć **nie jest to CNN**, nazwę **„LeNet” zachowano** dla spójności historycznej.\n",
    "* Stał się on **popularnym baseline**: służył do porównań metod regularizacji, optymalizacji i różnych wariantów uczenia.\n",
    "\n",
    "🔹 **Od 2012 – era „wielkich” CNN**\n",
    "\n",
    "* Sukces **AlexNet (2012)** na ImageNet pokazał, że CNN-y skalują się do dużych problemów.\n",
    "* Potem pojawiły się **VGG, ResNet, EfficientNet** i inne architektury, które dziś dominują w wizji komputerowej.\n",
    "* Mimo to, **LeNet-5 i LeNet-300-100** pozostają ikonami w dydaktyce – pierwszymi „klasycznymi” sieciami testowanymi na MNIST.\n",
    "\n",
    "---\n",
    "\n",
    "👉 Dzięki temu, gdy widzisz nazwę **LeNet**, możesz ją traktować jako **historyczny hołd dla pionierskich prac LeCuna** – niezależnie od tego, czy chodzi o CNN (LeNet-5), czy o klasyczny MLP (LeNet-300-100).\n",
    "</div>\n"
   ]
  },
  {
   "cell_type": "markdown",
   "metadata": {},
   "source": [
    "Z powodu dużej ilości danych sensowne jest ładowanie danych treningowych partiami przy użyciu <a href='https://pytorch.org/docs/stable/data.html#torch.utils.data.DataLoader'><tt><strong>DataLoader</strong></tt></a>.\n",
    "\n",
    "**DataLoader** w PyTorchu to narzędzie, które **dzieli dane na partie (batch’e)** i **odpowiada za ich efektywne dostarczanie do modelu podczas uczenia i testowania**.\n",
    "\n",
    "* `batch_size=100` → dane są podawane modelowi w paczkach po 100 próbek zamiast całego zbioru naraz (przyspiesza i stabilizuje uczenie).\n",
    "* `shuffle=True` → dane treningowe są mieszane w każdej epoce, co zmniejsza ryzyko przeuczenia.\n",
    "* `shuffle=False` → w testach zachowujemy stałą kolejność.\n",
    "\n",
    "👉 Krótko mówiąc: **DataLoader automatyzuje batching, mieszanie i iterowanie po danych, co jest kluczowe dla trenowania sieci neuronowych.**\n",
    "\n"
   ]
  },
  {
   "cell_type": "code",
   "execution_count": 9,
   "metadata": {
    "ExecuteTime": {
     "end_time": "2025-09-30T15:34:22.285809Z",
     "start_time": "2025-09-30T15:34:22.253681Z"
    }
   },
   "outputs": [],
   "source": [
    "torch.manual_seed(101)  # dla powtarzalnych wyników\n",
    "\n",
    "train_loader = DataLoader(train_data, batch_size=100, shuffle=True)\n",
    "\n",
    "test_loader = DataLoader(test_data, batch_size=500, shuffle=False)"
   ]
  },
  {
   "cell_type": "markdown",
   "metadata": {},
   "source": [
    "W powyższej komórce <tt><strong>train_data</strong></tt> jest obiektem <a href='https://pytorch.org/docs/stable/data.html#torch.utils.data.Dataset'><em>Dataset</em></a> PyTorcha (obiekt wspierający wczytywanie i próbkowanie danych).<br>\n",
    "\n",
    "<div class=\"alert alert-info\"><strong>UWAGA:</strong> DataLoader przyjmuje opcjonalny parametr <tt><strong>num_workers</strong></tt>, który ustawia liczbę procesów podrzędnych używanych do wczytywania danych. Zachowuje się to różnie w zależności od systemu operacyjnego, dlatego tutaj go pomijamy. Zobacz <a href='https://pytorch.org/docs/stable/data.html#torch.utils.data.DataLoader'>dokumentację</a>, aby dowiedzieć się więcej.</div>\n"
   ]
  },
  {
   "cell_type": "markdown",
   "metadata": {},
   "source": [
    "### Wyświetl Partię Obrazów\n",
    "Po zdefiniowaniu DataLoadera możemy stworzyć siatkę obrazów za pomocą <a href='https://pytorch.org/docs/stable/torchvision/utils.html#torchvision.utils.make_grid'><tt><strong>torchvision.utils.make_grid</strong></tt></a>.\n"
   ]
  },
  {
   "cell_type": "code",
   "execution_count": 10,
   "metadata": {
    "ExecuteTime": {
     "end_time": "2025-09-30T15:44:20.618756Z",
     "start_time": "2025-09-30T15:44:20.544036Z"
    }
   },
   "outputs": [
    {
     "name": "stdout",
     "output_type": "stream",
     "text": [
      "Labels:  [    7     2     3     5     8     5     3     6     9     9     1     3]\n"
     ]
    },
    {
     "data": {
      "image/png": "[encoded data removed]",
      "text/plain": [
       "<Figure size 1000x400 with 1 Axes>"
      ]
     },
     "metadata": {},
     "output_type": "display_data"
    }
   ],
   "source": [
    "from torchvision.utils import make_grid\n",
    "np.set_printoptions(formatter=dict(int=lambda x: f'{x:5}')) # aby poszerzyć wyświetlaną tablicę\n",
    "# bez tego: [2 0 2 0 3 7 4 1 2 2 2 3]\n",
    "# z: [    0     7     0     9     2     1     4     4     5     7     2     4]\n",
    "\n",
    "# Pobierz pierwszą partię obrazów\n",
    "\n",
    "images,labels = next(iter(train_loader))\n",
    "\n",
    "# Wypisz pierwsze 12 etykiet\n",
    "print('Labels: ', labels[:12].numpy())\n",
    "\n",
    "# Wyświetl pierwsze 12 obrazów\n",
    "im = make_grid(images[:12], nrow=12)  # domyślna wartość nrow to 8\n",
    "plt.figure(figsize=(10,4))\n",
    "# Musimy przetransponować obrazy z CWH do WHC\n",
    "plt.imshow(np.transpose(im.numpy(), (1, 2, 0)));"
   ]
  },
  {
   "cell_type": "markdown",
   "metadata": {},
   "source": [
    "## Zdefiniuj Model\n",
    "\n",
    "W tym ćwiczeniu użyjemy w pełni połączonych warstw, aby zbudować <a href='https://en.wikipedia.org/wiki/Multilayer_perceptron'>wielowarstwowy perceptron</a>.<br>\n",
    "Rozmiar wejścia wynosi 784, gdy spłaszczymy wchodzące tensory 28x28.<br>\n",
    "Rozmiar wyjścia odpowiada 10 możliwym cyfrom.<br>\n",
    "Warstwy ukryte ustawimy na [120, 84]. Po ukończeniu ćwiczenia śmiało wróć i wypróbuj inne wartości.\n"
   ]
  },
  {
   "cell_type": "code",
   "execution_count": 11,
   "metadata": {
    "ExecuteTime": {
     "end_time": "2025-09-30T15:45:09.473055Z",
     "start_time": "2025-09-30T15:45:09.452739Z"
    }
   },
   "outputs": [],
   "source": [
    "class MultilayerPerceptron(nn.Module):\n",
    "    def __init__(self, in_sz=784, out_sz=10, layers=[120, 84]):\n",
    "        super().__init__()\n",
    "        self.fc1 = nn.Linear(in_sz,layers[0])\n",
    "        self.fc2 = nn.Linear(layers[0],layers[1])\n",
    "        self.fc3 = nn.Linear(layers[1],out_sz)\n",
    "    \n",
    "    def forward(self,X):\n",
    "        X = F.relu(self.fc1(X))\n",
    "        X = F.relu(self.fc2(X))\n",
    "        X = self.fc3(X)\n",
    "        return F.log_softmax(X, dim=1)"
   ]
  },
  {
   "cell_type": "code",
   "execution_count": 12,
   "metadata": {
    "ExecuteTime": {
     "end_time": "2025-09-30T15:45:13.994935Z",
     "start_time": "2025-09-30T15:45:13.978966Z"
    }
   },
   "outputs": [
    {
     "data": {
      "text/plain": [
       "MultilayerPerceptron(\n",
       "  (fc1): Linear(in_features=784, out_features=120, bias=True)\n",
       "  (fc2): Linear(in_features=120, out_features=84, bias=True)\n",
       "  (fc3): Linear(in_features=84, out_features=10, bias=True)\n",
       ")"
      ]
     },
     "execution_count": 12,
     "metadata": {},
     "output_type": "execute_result"
    }
   ],
   "source": [
    "torch.manual_seed(101)\n",
    "model = MultilayerPerceptron()\n",
    "model"
   ]
  },
  {
   "cell_type": "markdown",
   "metadata": {},
   "source": [
    "<div class=\"alert alert-info\"><strong>UWAGA:</strong> Być może zauważyłeś skrót, którego użyliśmy do dodania ReLU do warstwy liniowej. W poprzedniej sekcji robiliśmy to w metodzie <tt>__init__</tt> tak jak poniżej:\n",
    "<pre style='background-color:rgb(217,237,247)'>\n",
    "layerlist = []\n",
    "for i in layers:\n",
    "    layerlist.append(nn.Linear(n_in,i)) \n",
    "    layerlist.append(nn.ReLU(inplace=True))\n",
    "self.layers = nn.Sequential(*layerlist)</pre>\n",
    "    \n",
    "Tutaj wywołujemy <tt>F.relu()</tt> jako funkcję opakowującą liniową warstwę bezpośrednio:\n",
    "<pre style='background-color:rgb(217,237,247)'>\n",
    "def forward(self,X):\n",
    "    X = F.relu(self.fc1(X))</pre></div>\n"
   ]
  },
  {
   "cell_type": "markdown",
   "metadata": {},
   "source": [
    "## Policz Parametry Modelu\n",
    "Ten opcjonalny krok pokazuje, że liczba trenowalnych parametrów w naszym modelu zgadza się z powyższym równaniem.\n"
   ]
  },
  {
   "cell_type": "code",
   "execution_count": 13,
   "metadata": {
    "ExecuteTime": {
     "end_time": "2025-09-30T15:09:43.389295Z",
     "start_time": "2025-09-30T15:09:43.387294Z"
    }
   },
   "outputs": [],
   "source": [
    "def count_parameters(model):\n",
    "    params = [p.numel() for p in model.parameters() if p.requires_grad]\n",
    "    for item in params:\n",
    "        print(f'{item:>6}')\n",
    "    print(f'______\\n{sum(params):>6}')"
   ]
  },
  {
   "cell_type": "code",
   "execution_count": 14,
   "metadata": {
    "ExecuteTime": {
     "end_time": "2025-09-30T15:09:45.037405Z",
     "start_time": "2025-09-30T15:09:45.034788Z"
    }
   },
   "outputs": [
    {
     "name": "stdout",
     "output_type": "stream",
     "text": [
      " 94080\n",
      "   120\n",
      " 10080\n",
      "    84\n",
      "   840\n",
      "    10\n",
      "______\n",
      "105214\n"
     ]
    }
   ],
   "source": [
    "count_parameters(model)"
   ]
  },
  {
   "cell_type": "markdown",
   "metadata": {},
   "source": [
    "## Zdefiniuj Funkcję Straty i Optymalizator\n"
   ]
  },
  {
   "cell_type": "code",
   "execution_count": 15,
   "metadata": {
    "ExecuteTime": {
     "end_time": "2025-09-30T15:09:46.042183Z",
     "start_time": "2025-09-30T15:09:46.039643Z"
    }
   },
   "outputs": [],
   "source": [
    "criterion = nn.CrossEntropyLoss()\n",
    "optimizer = torch.optim.Adam(model.parameters(), lr=0.001)"
   ]
  },
  {
   "cell_type": "markdown",
   "metadata": {},
   "source": [
    "## Spłaszcz Dane Treningowe\n",
    "Tensory partii zwracane przez DataLoader mają kształt [100, 1, 28, 28]:\n"
   ]
  },
  {
   "cell_type": "code",
   "execution_count": 16,
   "metadata": {
    "ExecuteTime": {
     "end_time": "2025-09-30T15:09:47.874044Z",
     "start_time": "2025-09-30T15:09:47.864726Z"
    }
   },
   "outputs": [
    {
     "name": "stdout",
     "output_type": "stream",
     "text": [
      "Batch shape: torch.Size([100, 1, 28, 28])\n"
     ]
    }
   ],
   "source": [
    "# Wczytaj pierwszą partię i wypisz jej kształt\n",
    "for images, labels in train_loader:\n",
    "    print('Batch shape:', images.size())\n",
    "    break\n",
    "    \n",
    "# ODPOWIADA TO:\n",
    "# dataiter = iter(train_loader)\n",
    "# images, labels = dataiter.next()\n",
    "# print('Batch shape:', images.size())"
   ]
  },
  {
   "cell_type": "markdown",
   "metadata": {},
   "source": [
    "Możemy je spłaszczyć przy pomocy <tt>.view()</tt>\n"
   ]
  },
  {
   "cell_type": "code",
   "execution_count": 17,
   "metadata": {
    "ExecuteTime": {
     "end_time": "2025-09-30T15:09:48.878923Z",
     "start_time": "2025-09-30T15:09:48.875904Z"
    }
   },
   "outputs": [
    {
     "data": {
      "text/plain": [
       "torch.Size([100, 784])"
      ]
     },
     "execution_count": 17,
     "metadata": {},
     "output_type": "execute_result"
    }
   ],
   "source": [
    "images.view(100,-1).size()"
   ]
  },
  {
   "cell_type": "markdown",
   "metadata": {},
   "source": [
    "Zrobimy to tuż przed zastosowaniem modelu do naszych danych.\n"
   ]
  },
  {
   "cell_type": "markdown",
   "metadata": {},
   "source": [
    "## Trenuj Model\n",
    "Tym razem będziemy przepuszczać dane testowe przez model w każdej epoce, aby móc porównać stratę i dokładność na tym samym wykresie.\n",
    "\n",
    "<div class=\"alert alert-info\"><strong>KRÓTKA UWAGA: </strong>W sekcji poniżej oznaczonej &nbsp;<tt><em>#Tally the number of correct predictions</em></tt> &nbsp;umieszczamy kod\n",
    "<pre style='background-color:rgb(217,237,247)'>\n",
    "predicted = torch.max(y_pred.data, 1)[1]</pre>\n",
    "Wykorzystuje on funkcję <a href='https://pytorch.org/docs/stable/torch.html#torch.max'><tt><strong>torch.max()</strong></tt></a>. Funkcja <tt>torch.max()</tt> zwraca tensor wartości maksymalnych oraz tensor indeksów, pod którymi je znaleziono. W naszym kodzie prosimy o pozycje indeksów wartości maksymalnych wzdłuż wymiaru 1. Dzięki temu możemy dopasować przewidywania do etykiet obrazów.</div>\n"
   ]
  },
  {
   "cell_type": "code",
   "execution_count": 18,
   "metadata": {
    "ExecuteTime": {
     "end_time": "2025-09-30T15:10:15.649779Z",
     "start_time": "2025-09-30T15:09:50.403967Z"
    }
   },
   "outputs": [
    {
     "name": "stdout",
     "output_type": "stream",
     "text": [
      "epoch:  0  batch:  200 [ 20000/60000]  loss: 0.29955006  accuracy:  82.655%\n",
      "epoch:  0  batch:  400 [ 40000/60000]  loss: 0.27259147  accuracy:  87.248%\n",
      "epoch:  0  batch:  600 [ 60000/60000]  loss: 0.18177132  accuracy:  89.315%\n",
      "epoch:  1  batch:  200 [ 20000/60000]  loss: 0.16961813  accuracy:  94.635%\n",
      "epoch:  1  batch:  400 [ 40000/60000]  loss: 0.05306605  accuracy:  95.032%\n",
      "epoch:  1  batch:  600 [ 60000/60000]  loss: 0.14335893  accuracy:  95.250%\n",
      "epoch:  2  batch:  200 [ 20000/60000]  loss: 0.16369638  accuracy:  96.525%\n",
      "epoch:  2  batch:  400 [ 40000/60000]  loss: 0.17127801  accuracy:  96.522%\n",
      "epoch:  2  batch:  600 [ 60000/60000]  loss: 0.11085605  accuracy:  96.593%\n",
      "epoch:  3  batch:  200 [ 20000/60000]  loss: 0.13777527  accuracy:  97.375%\n",
      "epoch:  3  batch:  400 [ 40000/60000]  loss: 0.01198216  accuracy:  97.453%\n",
      "epoch:  3  batch:  600 [ 60000/60000]  loss: 0.08638886  accuracy:  97.410%\n",
      "epoch:  4  batch:  200 [ 20000/60000]  loss: 0.05678264  accuracy:  97.995%\n",
      "epoch:  4  batch:  400 [ 40000/60000]  loss: 0.10727134  accuracy:  97.927%\n",
      "epoch:  4  batch:  600 [ 60000/60000]  loss: 0.10124859  accuracy:  97.962%\n",
      "epoch:  5  batch:  200 [ 20000/60000]  loss: 0.07974169  accuracy:  98.520%\n",
      "epoch:  5  batch:  400 [ 40000/60000]  loss: 0.02297899  accuracy:  98.420%\n",
      "epoch:  5  batch:  600 [ 60000/60000]  loss: 0.04657862  accuracy:  98.348%\n",
      "epoch:  6  batch:  200 [ 20000/60000]  loss: 0.03157315  accuracy:  98.845%\n",
      "epoch:  6  batch:  400 [ 40000/60000]  loss: 0.02728852  accuracy:  98.698%\n",
      "epoch:  6  batch:  600 [ 60000/60000]  loss: 0.02990044  accuracy:  98.658%\n",
      "epoch:  7  batch:  200 [ 20000/60000]  loss: 0.00369072  accuracy:  99.020%\n",
      "epoch:  7  batch:  400 [ 40000/60000]  loss: 0.00642244  accuracy:  98.870%\n",
      "epoch:  7  batch:  600 [ 60000/60000]  loss: 0.02691738  accuracy:  98.802%\n",
      "epoch:  8  batch:  200 [ 20000/60000]  loss: 0.00994669  accuracy:  99.165%\n",
      "epoch:  8  batch:  400 [ 40000/60000]  loss: 0.08593085  accuracy:  99.127%\n",
      "epoch:  8  batch:  600 [ 60000/60000]  loss: 0.06852674  accuracy:  99.083%\n",
      "epoch:  9  batch:  200 [ 20000/60000]  loss: 0.03112061  accuracy:  99.330%\n",
      "epoch:  9  batch:  400 [ 40000/60000]  loss: 0.05332703  accuracy:  99.343%\n",
      "epoch:  9  batch:  600 [ 60000/60000]  loss: 0.02161495  accuracy:  99.237%\n",
      "\n",
      "Duration: 24 seconds\n"
     ]
    }
   ],
   "source": [
    "import time\n",
    "start_time = time.time()\n",
    "\n",
    "epochs = 10\n",
    "train_losses = []\n",
    "test_losses = []\n",
    "train_correct = []\n",
    "test_correct = []\n",
    "\n",
    "for i in range(epochs):\n",
    "    trn_corr = 0\n",
    "    tst_corr = 0\n",
    "    \n",
    "    # Uruchom partie treningowe\n",
    "    for b, (X_train, y_train) in enumerate(train_loader):\n",
    "        b+=1\n",
    "        \n",
    "        # Zastosuj model\n",
    "        y_pred = model(X_train.view(100, -1))  # Tutaj spłaszczamy X_train\n",
    "        loss = criterion(y_pred, y_train)\n",
    " \n",
    "        # Zlicz liczbę poprawnych predykcji\n",
    "        predicted = torch.max(y_pred.data, 1)[1]\n",
    "        batch_corr = (predicted == y_train).sum()\n",
    "        trn_corr += batch_corr\n",
    "        \n",
    "        # Zaktualizuj parametry\n",
    "        optimizer.zero_grad()\n",
    "        loss.backward()\n",
    "        optimizer.step()\n",
    "        \n",
    "        # Wypisz wyniki pośrednie\n",
    "        if b%200 == 0:\n",
    "            print(f'epoch: {i:2}  batch: {b:4} [{100*b:6}/60000]  loss: {loss.item():10.8f}  \\\n",
    "accuracy: {trn_corr.item()*100/(100*b):7.3f}%')\n",
    "    \n",
    "    # Zaktualizuj stratę i dokładność na zbiorze treningowym w tej epoce\n",
    "    train_losses.append(loss.detach().numpy())\n",
    "    train_correct.append(trn_corr)\n",
    "        \n",
    "    # Uruchom partie testowe\n",
    "    with torch.no_grad():\n",
    "        for b, (X_test, y_test) in enumerate(test_loader):\n",
    "\n",
    "            # Zastosuj model\n",
    "            y_val = model(X_test.view(500, -1))  # Tutaj spłaszczamy X_test\n",
    "\n",
    "            # Zlicz liczbę poprawnych predykcji\n",
    "            predicted = torch.max(y_val.data, 1)[1] \n",
    "            tst_corr += (predicted == y_test).sum()\n",
    "    \n",
    "    # Zaktualizuj stratę i dokładność na zbiorze testowym w tej epoce\n",
    "    loss = criterion(y_val, y_test)\n",
    "    test_losses.append(loss)\n",
    "    test_correct.append(tst_corr)\n",
    "        \n",
    "print(f'\\nDuration: {time.time() - start_time:.0f} seconds') # wypisz upływ czasu            "
   ]
  },
  {
   "cell_type": "markdown",
   "metadata": {},
   "source": [
    "## Wykreśl Porównanie Straty i Dokładności\n"
   ]
  },
  {
   "cell_type": "code",
   "execution_count": 19,
   "metadata": {
    "ExecuteTime": {
     "end_time": "2025-09-30T15:10:15.751752Z",
     "start_time": "2025-09-30T15:10:15.659389Z"
    }
   },
   "outputs": [
    {
     "data": {
      "image/png": "[encoded data removed]",
      "text/plain": [
       "<Figure size 640x480 with 1 Axes>"
      ]
     },
     "metadata": {},
     "output_type": "display_data"
    }
   ],
   "source": [
    "plt.plot(train_losses, label='training loss')\n",
    "plt.plot(test_losses, label='validation loss')\n",
    "plt.title('Loss at the end of each epoch')\n",
    "plt.legend();"
   ]
  },
  {
   "cell_type": "markdown",
   "metadata": {},
   "source": [
    "Widać tutaj pewne oznaki przeuczenia danych treningowych.\n"
   ]
  },
  {
   "cell_type": "code",
   "execution_count": 20,
   "metadata": {
    "ExecuteTime": {
     "end_time": "2025-09-30T15:10:26.323187Z",
     "start_time": "2025-09-30T15:10:26.261065Z"
    }
   },
   "outputs": [
    {
     "data": {
      "image/png": "[encoded data removed]",
      "text/plain": [
       "<Figure size 640x480 with 1 Axes>"
      ]
     },
     "metadata": {},
     "output_type": "display_data"
    }
   ],
   "source": [
    "plt.plot([t/600 for t in train_correct], label='training accuracy')\n",
    "plt.plot([t/100 for t in test_correct], label='validation accuracy')\n",
    "plt.title('Accuracy at the end of each epoch')\n",
    "plt.legend();"
   ]
  },
  {
   "cell_type": "markdown",
   "metadata": {},
   "source": [
    "## Oceń Dane Testowe\n",
    "Podczas trenowania zachowaliśmy wyniki na zbiorze testowym:\n"
   ]
  },
  {
   "cell_type": "code",
   "execution_count": 21,
   "metadata": {
    "ExecuteTime": {
     "end_time": "2025-09-30T15:10:43.857292Z",
     "start_time": "2025-09-30T15:10:43.851635Z"
    }
   },
   "outputs": [
    {
     "name": "stdout",
     "output_type": "stream",
     "text": [
      "[tensor(9454), tensor(9600), tensor(9658), tensor(9718), tensor(9652), tensor(9749), tensor(9737), tensor(9758), tensor(9759), tensor(9759)]\n",
      "\n",
      "Test accuracy: 97.590%\n"
     ]
    }
   ],
   "source": [
    "print(test_correct) # zawiera wyniki ze wszystkich 10 epok\n",
    "print()\n",
    "print(f'Test accuracy: {test_correct[-1].item()*100/10000:.3f}%') # wypisz najświeższy wynik w procentach"
   ]
  },
  {
   "cell_type": "markdown",
   "metadata": {},
   "source": [
    "Chcielibyśmy jednak porównać przewidywane wartości z rzeczywistością (etykietami y_test), więc przepuścimy zbiór testowy przez wytrenowany model za jednym razem.\n"
   ]
  },
  {
   "cell_type": "code",
   "execution_count": 22,
   "metadata": {
    "ExecuteTime": {
     "end_time": "2025-09-30T15:11:26.613764Z",
     "start_time": "2025-09-30T15:11:26.595734Z"
    }
   },
   "outputs": [],
   "source": [
    "# Pobierz dane za jednym razem, a nie partiami\n",
    "test_load_all = DataLoader(test_data, batch_size=10000, shuffle=False)"
   ]
  },
  {
   "cell_type": "code",
   "execution_count": 23,
   "metadata": {
    "ExecuteTime": {
     "end_time": "2025-09-30T15:11:27.857010Z",
     "start_time": "2025-09-30T15:11:27.546566Z"
    }
   },
   "outputs": [
    {
     "name": "stdout",
     "output_type": "stream",
     "text": [
      "Test accuracy: 9759/10000 =  97.590%\n"
     ]
    }
   ],
   "source": [
    "with torch.no_grad():\n",
    "    correct = 0\n",
    "    for X_test, y_test in test_load_all:\n",
    "        y_val = model(X_test.view(len(X_test), -1))  # przekazujemy spłaszczony widok X_test\n",
    "        predicted = torch.max(y_val,1)[1]\n",
    "        correct += (predicted == y_test).sum()\n",
    "print(f'Test accuracy: {correct.item()}/{len(test_data)} = {correct.item()*100/(len(test_data)):7.3f}%')"
   ]
  },
  {
   "cell_type": "markdown",
   "metadata": {},
   "source": [
    "Nieźle, biorąc pod uwagę, że losowe zgadywanie dałoby tylko 10% trafień!\n"
   ]
  },
  {
   "cell_type": "markdown",
   "metadata": {},
   "source": [
    "## Wyświetl Macierz Pomyłek\n",
    "Wykorzystujemy tutaj bibliotekę scikit-learn oraz przewidywane wartości uzyskane powyżej.\n"
   ]
  },
  {
   "cell_type": "code",
   "execution_count": 24,
   "metadata": {
    "ExecuteTime": {
     "end_time": "2025-09-30T15:11:51.160841Z",
     "start_time": "2025-09-30T15:11:51.138693Z"
    }
   },
   "outputs": [
    {
     "name": "stdout",
     "output_type": "stream",
     "text": [
      "[[   0    1    2    3    4    5    6    7    8    9]]\n",
      "\n",
      "[[ 972    0    2    1    1    2    2    0    3    5]\n",
      " [   0 1123    1    0    1    1    3    6    0    3]\n",
      " [   4    3 1015    8    7    0    3   10    4    0]\n",
      " [   1    3    3  987    0   17    1    1    3   12]\n",
      " [   0    0    1    0  943    1    2    0    0    6]\n",
      " [   0    0    0    0    0  853    2    0    2    5]\n",
      " [   1    2    2    2    9    7  942    0    4    1]\n",
      " [   0    1    5    4    4    0    0 1005    2    4]\n",
      " [   2    3    2    6    3   10    3    4  954    8]\n",
      " [   0    0    1    2   14    1    0    2    2  965]]\n"
     ]
    }
   ],
   "source": [
    "# Wypisz wiersz wartości referencyjnych\n",
    "np.set_printoptions(formatter=dict(int=lambda x: f'{x:4}'))\n",
    "print(np.arange(10).reshape(1,10))\n",
    "print()\n",
    "\n",
    "# Wypisz macierz pomyłek\n",
    "print(confusion_matrix(predicted.view(-1), y_test.view(-1)))"
   ]
  },
  {
   "cell_type": "markdown",
   "metadata": {},
   "source": [
    "Wynik pokazuje, że model osiągnął największe sukcesy dla jedynek, dwójek i siódemek, a najsłabiej radził sobie z piątkami, szóstkami i ósemkami.\n"
   ]
  },
  {
   "cell_type": "markdown",
   "metadata": {},
   "source": [
    "## Przeanalizuj Pomyłki\n",
    "Możemy śledzić indeksy nietrafionych przewidywań i wyciągnąć odpowiadające im obrazy oraz etykiety. Zrobimy to partiami, aby zaoszczędzić miejsce na ekranie.\n"
   ]
  },
  {
   "cell_type": "code",
   "execution_count": 25,
   "metadata": {
    "ExecuteTime": {
     "end_time": "2025-09-30T15:12:20.323718Z",
     "start_time": "2025-09-30T15:12:20.271735Z"
    }
   },
   "outputs": [
    {
     "data": {
      "text/plain": [
       "241"
      ]
     },
     "execution_count": 25,
     "metadata": {},
     "output_type": "execute_result"
    }
   ],
   "source": [
    "misses = np.array([])\n",
    "for i in range(len(predicted.view(-1))):\n",
    "    if predicted[i] != y_test[i]:\n",
    "        misses = np.append(misses,i).astype('int64')\n",
    "        \n",
    "# Wyświetl liczbę błędnych predykcji\n",
    "len(misses)"
   ]
  },
  {
   "cell_type": "code",
   "execution_count": 26,
   "metadata": {
    "ExecuteTime": {
     "end_time": "2025-09-30T15:12:31.042229Z",
     "start_time": "2025-09-30T15:12:31.039485Z"
    }
   },
   "outputs": [
    {
     "data": {
      "text/plain": [
       "array([ 104,  115,  149,  151,  158,  241,  247,  259,  274,  321])"
      ]
     },
     "execution_count": 26,
     "metadata": {},
     "output_type": "execute_result"
    }
   ],
   "source": [
    "# Wyświetl pierwszych 10 indeksów\n",
    "misses[:10]"
   ]
  },
  {
   "cell_type": "code",
   "execution_count": 27,
   "metadata": {
    "ExecuteTime": {
     "end_time": "2025-09-30T15:12:33.379393Z",
     "start_time": "2025-09-30T15:12:33.376919Z"
    }
   },
   "outputs": [],
   "source": [
    "# Przygotuj iterator do dostarczania partii wierszy\n",
    "r = 12   # liczba elementów w wierszu\n",
    "row = iter(np.array_split(misses,len(misses)//r+1))"
   ]
  },
  {
   "cell_type": "markdown",
   "metadata": {},
   "source": [
    "Teraz, gdy wszystko jest przygotowane, uruchamiaj wielokrotnie poniższą komórkę, aby zobaczyć wszystkie błędne przewidywania.<br>\n",
    "Użyj <kbd>Ctrl+Enter</kbd>, aby pozostać w komórce między kolejnymi uruchomieniami. Po przejrzeniu wszystkich pomyłek zobaczysz wyjątek <tt>StopIteration</tt>.\n"
   ]
  },
  {
   "cell_type": "code",
   "execution_count": 28,
   "metadata": {
    "ExecuteTime": {
     "end_time": "2025-09-30T15:12:57.458131Z",
     "start_time": "2025-09-30T15:12:57.413379Z"
    }
   },
   "outputs": [
    {
     "name": "stdout",
     "output_type": "stream",
     "text": [
      "Index: [ 104  115  149  151  158  241  247  259  274  321  340  381]\n",
      "Label: [   9    4    2    9    3    9    4    6    9    2    5    3]\n",
      "Guess: [   5    9    9    8    2    8    2    0    3    7    3    7]\n"
     ]
    },
    {
     "data": {
      "image/png": "[encoded data removed]",
      "text/plain": [
       "<Figure size 1000x400 with 1 Axes>"
      ]
     },
     "metadata": {},
     "output_type": "display_data"
    }
   ],
   "source": [
    "nextrow = next(row)\n",
    "print(\"Index:\", nextrow)\n",
    "print(\"Label:\", y_test.index_select(0,torch.tensor(nextrow)).numpy())\n",
    "print(\"Guess:\", predicted.index_select(0,torch.tensor(nextrow)).numpy())\n",
    "\n",
    "images = X_test.index_select(0,torch.tensor(nextrow))\n",
    "im = make_grid(images, nrow=r)\n",
    "plt.figure(figsize=(10,4))\n",
    "plt.imshow(np.transpose(im.numpy(), (1, 2, 0)));"
   ]
  },
  {
   "cell_type": "markdown",
   "metadata": {},
   "source": [
    "## Świetna Robota!\n"
   ]
  },
  {
   "cell_type": "code",
   "execution_count": null,
   "metadata": {
    "ExecuteTime": {
     "end_time": "2025-09-30T15:13:00.387489Z",
     "start_time": "2025-09-30T15:13:00.385387Z"
    }
   },
   "outputs": [],
   "source": []
  },
  {
   "cell_type": "code",
   "execution_count": null,
   "metadata": {},
   "outputs": [],
   "source": []
  }
 ],
 "metadata": {
  "kernelspec": {
   "display_name": "Python 3 (ipykernel)",
   "language": "python",
   "name": "python3"
  },
  "language_info": {
   "codemirror_mode": {
    "name": "ipython",
    "version": 3
   },
   "file_extension": ".py",
   "mimetype": "text/x-python",
   "name": "python",
   "nbconvert_exporter": "python",
   "pygments_lexer": "ipython3",
   "version": "3.12.9"
  }
 },
 "nbformat": 4,
 "nbformat_minor": 4
}
