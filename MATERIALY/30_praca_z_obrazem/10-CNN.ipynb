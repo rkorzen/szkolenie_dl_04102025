{
 "cells": [
  {
   "cell_type": "markdown",
   "id": "46239374",
   "metadata": {},
   "source": [
    "# Konwolucyjne Sieci Neuronowe (CNN)\n",
    "\n",
    "CNN-y to klasa sieci neuronowych zaprojektowana do pracy z danymi o strukturze siatki (obrazami, spektrogramami, sygnałami 1D). \n"
   ]
  },
  {
   "cell_type": "markdown",
   "id": "43755a74-a7d1-44ec-bbd4-06d6e1fc0251",
   "metadata": {},
   "source": [
    "## Co to jest konwolucja?\n",
    "\n",
    "### Intuicja\n",
    "\n",
    "**Konwolucja** (ang. *convolution*) to działanie matematyczne, w którym **nakładamy małą \"maskę\" (filtr, jądro) na dane wejściowe (np. obraz, sygnał)** i w każdym miejscu liczymy ważoną sumę wartości.\n",
    "\n",
    "* W przypadku obrazów filtr może być np. macierzą 3×3.\n",
    "* Przesuwamy go po obrazie „okienko po okienku”.\n",
    "* Wynik w danym miejscu mówi, **jak bardzo lokalny fragment obrazu pasuje do wzorca w filtrze**.\n",
    "\n",
    "To właśnie podstawa **konwolucyjnych sieci neuronowych (CNN)**.\n",
    "\n",
    "---\n",
    "\n",
    "### Matematyczna definicja (dla sygnału 1D)\n",
    "\n",
    "Konwolucja dwóch funkcji \\(f\\) i \\(g\\):\n",
    "\n",
    "$$\n",
    "(f * g)(t) = \\sum_{\\tau} f(\\tau) \\cdot g(t - \\tau)\n",
    "$$\n",
    "\n",
    "* \\(f\\) – dane wejściowe (np. sygnał, obraz zapisany jako ciąg liczb),\n",
    "* \\(g\\) – filtr (jądro konwolucji),\n",
    "* wynik to **nowa funkcja opisująca stopień dopasowania filtru do danych** w każdej pozycji.\n"
   ]
  },
  {
   "cell_type": "markdown",
   "id": "3c870db5-bacc-4928-867f-dbe9c0af958a",
   "metadata": {},
   "source": [
    "### Przykład prosty (1D)\n",
    "\n",
    "#### sygnały\n",
    "\n",
    "$signal_1 = [1, 2, 3, 4, 5]$\n",
    "\n",
    "$signal_2 = [1, 2, 5, 6, 7]$\n",
    "\n",
    "#### Filtry:\n",
    "\n",
    "* **A.** $[1, -1]$  → liczy *bieżący − następny*\n",
    "* **B.** $[-1, 1]$  → liczy *następny − bieżący*\n",
    "\n",
    "---\n",
    "\n",
    "#### Obliczenia krok po kroku\n",
    "\n",
    "##### dla $signal_1$\n",
    "\n",
    "###### filtr $A$\n",
    "\n",
    "* $1-2=-1$\n",
    "* $2-3=-1$\n",
    "* $3-4=-1$\n",
    "* $4-5=-1$\n",
    "\n",
    "→ **wynik:** $[-1, -1, -1, -1]$\n",
    "\n",
    "###### filtr $B$\n",
    "\n",
    "* $-1+2=1$\n",
    "* $-2+3=1$\n",
    "* $-3+4=1$\n",
    "* $-4+5=1$\n",
    "  \n",
    "→ **wynik:** $[1, 1, 1, 1]$\n",
    "\n",
    "##### dla $signal_2$\n",
    "\n",
    "###### filtr $A$\n",
    "\n",
    "* $1-2=-1$\n",
    "* $2-5=-3$\n",
    "* $5-6=-1$\n",
    "* $5-7=-1$\n",
    "\n",
    "→ **wynik:** $[-1, -3, -1, -1]$\n",
    "\n",
    "###### filtr $B$\n",
    "\n",
    "* $-1+2=1$\n",
    "* $-2+5=3$\n",
    "* $-5+6=1$\n",
    "* $-6+7=1$\n",
    "  \n",
    "→ **wynik:** $[1, 3, 1, 1]$"
   ]
  },
  {
   "cell_type": "markdown",
   "id": "a523b64d-3f09-4dbe-aecf-c629b37c9c69",
   "metadata": {},
   "source": [
    "### Przykład w obrazie\n",
    "\n",
    "Podaję przykład konwolucji 2D na obrazie 4x4\n",
    "\n",
    "#### Obraz 4x4:\n",
    "\n",
    "$$\n",
    "\\begin{bmatrix}\n",
    "1 & 2 & 0 & 1 \\\\\n",
    "4 & 5 & 6 & 2 \\\\\n",
    "7 & 8 & 9 & 3 \\\\\n",
    "1 & 0 & 2 & 4\n",
    "\\end{bmatrix}\n",
    "$$\n",
    "\n",
    "#### Filtr (krawędzie poziome):\n",
    "\n",
    "$$\n",
    "\\begin{bmatrix}\n",
    "-1 & -1 & -1 \\\\\n",
    "0 & 0 & 0 \\\\\n",
    "1 & 1 & 1\n",
    "\\end{bmatrix}\n",
    "$$\n",
    "\n",
    "***\n",
    "\n",
    "#### Sposób obliczeń:\n",
    "\n",
    "Filtr 3x3 przesuńmy po obrazie 4x4 z krokiem 1, obliczając ważoną sumę (element-wise multiplication) dla każdego 3x3 fragmentu obrazu. Wynik będzie macierzą 2x2, bo:\n",
    "\n",
    "- $$4-3+1 = 2$$ po wymiarach obrazu.\n",
    "\n",
    "***\n",
    "\n",
    "#### Pozycje filtra, obliczenia i wyniki:\n",
    "\n",
    "1. Pozycja (górny-lewy):\n",
    "\n",
    "Wycinamy fragment obrazu:\n",
    "\n",
    "$$\n",
    "\\begin{bmatrix}\n",
    "1 & 2 & 0 \\\\\n",
    "4 & 5 & 6 \\\\\n",
    "7 & 8 & 9\n",
    "\\end{bmatrix}\n",
    "$$\n",
    "\n",
    "Mnożenia i sumowanie:\n",
    "\n",
    "$$\n",
    "(-1)*1 + (-1)*2 + (-1)*0 + 0*4 + 0*5 + 0*6 + 1*7 + 1*8 + 1*9 = -1 - 2 + 0 + 0 + 0 + 0 + 7 + 8 + 9 = 21\n",
    "$$\n",
    "\n",
    "2. Pozycja (górny-prawy):\n",
    "\n",
    "Wycinamy fragment:\n",
    "\n",
    "$$\n",
    "\\begin{bmatrix}\n",
    "2 & 0 & 1 \\\\\n",
    "5 & 6 & 2 \\\\\n",
    "8 & 9 & 3 \n",
    "\\end{bmatrix}\n",
    "$$\n",
    "\n",
    "Mnożenia i sumowanie:\n",
    "\n",
    "$$\n",
    "(-1)*2 + (-1)*0 + (-1)*1 + 0*5 + 0*6 + 0*2 + 1*8 + 1*9 + 1*3 = -2 + 0 - 1 + 0 + 0 + 0 + 8 + 9 + 3 = 17\n",
    "$$\n",
    "\n",
    "3. Pozycja (dolny-lewy):\n",
    "\n",
    "Wycinamy fragment:\n",
    "\n",
    "$$\n",
    "\\begin{bmatrix}\n",
    "4 & 5 & 6 \\\\\n",
    "7 & 8 & 9 \\\\\n",
    "1 & 0 & 2 \n",
    "\\end{bmatrix}\n",
    "$$\n",
    "\n",
    "Mnożenia i sumowanie:\n",
    "\n",
    "$$\n",
    "(-1)*4 + (-1)*5 + (-1)*6 + 0*7 + 0*8 + 0*9 + 1*1 + 1*0 + 1*2 = -4 -5 -6 + 0 + 0 + 0 + 1 + 0 + 2 = -12\n",
    "$$\n",
    "\n",
    "4. Pozycja (dolny-prawy):\n",
    "\n",
    "Wycinamy fragment:\n",
    "\n",
    "$$\n",
    "\\begin{bmatrix}\n",
    "5 & 6 & 2 \\\\\n",
    "8 & 9 & 3 \\\\\n",
    "0 & 2 & 4\n",
    "\\end{bmatrix}\n",
    "$$\n",
    "\n",
    "Mnożenia i sumowanie:\n",
    "\n",
    "$$\n",
    "(-1)*5 + (-1)*6 + (-1)*2 + 0*8 + 0*9 + 0*3 + 1*0 + 1*2 + 1*4 = -5 -6 -2 + 0 + 0 + 0 + 0 + 2 + 4 = -7\n",
    "$$\n",
    "\n",
    "\n",
    "\n",
    "#### Wynik konwolucji (macierz 2x2):\n",
    "\n",
    "$$\n",
    "\\begin{bmatrix}\n",
    "21 & 17 \\\\\n",
    "-12 & -7\n",
    "\\end{bmatrix}\n",
    "$$\n",
    "\n",
    "#### Wniosek:\n",
    "\n",
    "- Pozytywne wartości w górnym wierszu wskazują na obecność krawędzi poziomych o rosnącym natężeniu.\n",
    "- Wartości ujemne w dolnym wierszu wskazują np. spadek jasności lub kierunek krawędzi przeciwny.\n"
   ]
  },
  {
   "cell_type": "code",
   "execution_count": 7,
   "id": "0f541cc2-ea15-4513-95fe-f8013a0a6a54",
   "metadata": {},
   "outputs": [
    {
     "data": {
      "text/plain": [
       "array([[ 3.,  3.,  3.],\n",
       "       [ 0.,  0.,  0.],\n",
       "       [-3., -3., -3.]])"
      ]
     },
     "execution_count": 7,
     "metadata": {},
     "output_type": "execute_result"
    }
   ],
   "source": [
    "import numpy as np\n",
    "\n",
    "image = np.array([\n",
    "    [0, 0, 0, 0, 0],\n",
    "    [0, 0, 0, 0, 0],\n",
    "    [1, 1, 1, 1, 1],\n",
    "    [0, 0, 0, 0, 0],\n",
    "    [0, 0, 0, 0, 0],\n",
    "], dtype=float)\n",
    "\n",
    "kernel = np.array([\n",
    "    [-1, -1, -1],\n",
    "    [0, 0, 0],\n",
    "    [1, 1, 1],\n",
    "], dtype=float)\n",
    "\n",
    "output = np.zeros((image.shape[0] - kernel.shape[0] + 1, image.shape[1] - kernel.shape[1] + 1))\n",
    "\n",
    "for i in range(output.shape[0]):\n",
    "    for j in range(output.shape[1]):\n",
    "        patch = image[i:i + kernel.shape[0], j:j + kernel.shape[1]]\n",
    "        output[i, j] = np.sum(patch * kernel)\n",
    "\n",
    "output"
   ]
  },
  {
   "cell_type": "code",
   "execution_count": 8,
   "id": "56068952-11d8-48ec-ac61-cbdf87650857",
   "metadata": {},
   "outputs": [
    {
     "data": {
      "image/png": "[encoded data removed]",
      "text/plain": [
       "<Figure size 1000x500 with 3 Axes>"
      ]
     },
     "metadata": {},
     "output_type": "display_data"
    }
   ],
   "source": [
    "import matplotlib.pyplot as plt\n",
    "# Rysowanie obrazów\n",
    "fig, ax = plt.subplots(1, 2, figsize=(10, 5))\n",
    "\n",
    "# Oryginalny obraz\n",
    "ax[0].imshow(image, cmap='gray', interpolation='none')\n",
    "ax[0].set_title('Obraz oryginalny')\n",
    "ax[0].axis('off')\n",
    "\n",
    "# Wynik konwolucji\n",
    "im = ax[1].imshow(output, cmap='gray', interpolation='none')\n",
    "ax[1].set_title('Wynik konwolucji')\n",
    "ax[1].axis('off')\n",
    "\n",
    "# Dodanie skali kolorów do wyniku\n",
    "fig.colorbar(im, ax=ax[1], fraction=0.046, pad=0.04)\n",
    "\n",
    "plt.show()"
   ]
  },
  {
   "cell_type": "markdown",
   "id": "43ee5854-3b62-4202-ba14-b32cda041fcf",
   "metadata": {},
   "source": [
    "* nad linią wychodzi jasno (bo kernel wykrywa przejście 0 → 1),\n",
    "\n",
    "* w samej linii wychodzi wartości bliższe 0 (szaro),\n",
    "\n",
    "* pod linią wychodzi ciemno (bo kernel wykrywa przejście 1 → 0)."
   ]
  },
  {
   "cell_type": "markdown",
   "id": "6da40a32-7276-453f-9c5b-c549fb0f232c",
   "metadata": {},
   "source": [
    "## W sieciach neuronowych\n",
    "\n",
    "* Filtry nie są wybierane ręcznie (jak w klasycznym przetwarzaniu obrazów), tylko **uczone automatycznie w trakcie trenowania**.\n",
    "* Dlatego CNN potrafią same nauczyć się rozpoznawać **krawędzie, tekstury, a potem całe obiekty**.\n",
    "\n",
    "---\n",
    "\n",
    "📌 **Podsumowanie:**\n",
    "Konwolucja to sposób „przesuwania filtra po danych” i liczenia, jak mocno lokalny fragment pasuje do wzorca w tym filtrze. Dzięki temu CNN potrafią wyłapywać lokalne cechy, np. krawędzie, rogi czy bardziej złożone struktury.\n"
   ]
  },
  {
   "cell_type": "markdown",
   "id": "f50cc04b",
   "metadata": {},
   "source": [
    "## Dlaczego warto używać CNN?\n",
    "- Warstwy konwolucyjne uczą się filtrów wykrywających lokalne wzorce (krawędzie, tekstury, części obiektów).\n",
    "- Wykorzystują współdzielenie wag: ten sam filtr przesuwa się po całym obrazie, dzięki czemu liczba parametrów jest mniejsza niż w gęstych sieciach.\n",
    "- Zachowują informację przestrzenną, co jest kluczowe przy analizie obrazów i sygnałów.\n",
    "- Naturalnie obsługują obrazy wielokanałowe (np. RGB) poprzez sumowanie konwolucji wykonanych na każdym kanale wejściowym."
   ]
  },
  {
   "cell_type": "markdown",
   "id": "85c6eb82",
   "metadata": {},
   "source": [
    "## Kluczowe parametry warstwy konwolucyjnej\n",
    "| Parametr | Co oznacza? | Efekt na wynik |\n",
    "| --- | --- | --- |\n",
    "| `in_channels` / `out_channels` | Liczba kanałów wejściowych i filtrów wyjściowych | Określają jak wiele map cech trafia do kolejnych warstw |\n",
    "| `kernel_size` | Wysokość i szerokość filtru (np. 3×3) | Większe filtry widzą szerszy kontekst, ale zwiększają liczbę parametrów |\n",
    "| `stride` | Krok przesuwania filtru | Większy krok zmniejsza rozdzielczość mapy cech |\n",
    "| `padding` | Dodawanie pikseli wokół obrazu | Pozwala zachować rozmiar wyjścia i nie tracić informacji na krawędziach |\n",
    "| `dilation` | „Rozciągnięcie” filtru poprzez wstawianie zer | Zwiększa pole widzenia bez zwiększania liczby parametrów |\n",
    "\n",
    "📌 W praktyce: w `11-MNIST-with-CNN.ipynb` używamy `kernel_size=3`, `stride=1`, `padding=0`. To oznacza, że rozmiary map cech zmniejszają się po każdej konwolucji."
   ]
  },
  {
   "cell_type": "markdown",
   "id": "15cc8b20",
   "metadata": {},
   "source": [
    "### Jak policzyć rozmiar wyjścia?\n",
    "Dla pojedynczej konwolucji 2D korzystamy ze wzoru:\n",
    "\n",
    "$$\\text{out} = \\left\\lfloor \\frac{\\text{size} + 2\\cdot\\text{padding} - \\text{dilation} \\cdot (\\text{kernel} - 1) - 1}{\\text{stride}} + 1 \\right\\rfloor$$\n",
    "\n",
    "W przypadku poolingu (np. `MaxPool2d(2, 2)`) stosujemy ten sam wzór, ale `kernel` i `stride` pochodzą z warstwy pooling.\n",
    "\n",
    "Poniżej krótka funkcja pomocnicza, dzięki której możesz szybko oszacować rozmiar po konwolucji lub poolingu."
   ]
  },
  {
   "cell_type": "code",
   "execution_count": null,
   "id": "bdc7db00",
   "metadata": {},
   "outputs": [],
   "source": [
    "def conv_output_size(size, kernel_size, stride=1, padding=0, dilation=1):\n",
    "    return ((size + 2 * padding - dilation * (kernel_size - 1) - 1) // stride) + 1\n",
    "\n",
    "height = conv_output_size(28, kernel_size=3, stride=1, padding=0)\n",
    "height_pool = conv_output_size(height, kernel_size=2, stride=2)\n",
    "height, height_pool"
   ]
  },
  {
   "cell_type": "markdown",
   "id": "b93f8831",
   "metadata": {},
   "source": [
    "Widzimy, że 28×28 po konwolucji 3×3 (bez paddingu) zamienia się w 26×26. Po max poolingu 2×2 ze stride 2 rozmiar spada do 13×13. Te obliczenia przydadzą się przy analizie etapów w notatniku MNIST."
   ]
  },
  {
   "cell_type": "markdown",
   "id": "6517b6b3",
   "metadata": {},
   "source": [
    "## 📌 Pooling w sieciach konwolucyjnych (CNN)\n",
    "\n",
    "### 🔹 Co to jest pooling?\n",
    "\n",
    "Pooling to operacja, która **zmniejsza rozmiar danych (map cech)** powstających po konwolucjach.\n",
    "Działa w ten sposób, że przesuwamy **małe okienko** (np. 2×2, 3×3) po obrazie i w każdym takim fragmencie stosujemy prostą funkcję, np.:\n",
    "\n",
    "* **max pooling** → wybiera największą wartość,\n",
    "* **average pooling** → liczy średnią,\n",
    "* **global average pooling** → redukuje całą mapę do jednej wartości.\n",
    "\n",
    "---\n",
    "\n",
    "### 🔹 Po co stosuje się pooling?\n",
    "\n",
    "1. **Redukcja wymiaru danych** – mniejsze obrazy = mniej obliczeń i parametrów.\n",
    "2. **Odporność na przesunięcia** – jeśli cecha przesunie się np. o 1 piksel, pooling sprawia, że model nadal ją rozpozna.\n",
    "3. **Wydobywanie najważniejszych informacji** – np. max pooling „podkreśla” najsilniejszy sygnał w obszarze.\n",
    "\n",
    "---\n",
    "\n",
    "### 🔹 Przykład max poolingu 2×2\n",
    "\n",
    "Weźmy fragment obrazu:\n",
    "\n",
    "$$\n",
    "\\begin{bmatrix}\n",
    "1 & 3 \\\\\n",
    "2 & 4\n",
    "\\end{bmatrix}\n",
    "$$\n",
    "\n",
    "* Max pooling → **4**\n",
    "* Average pooling → $(1+2+3+4)/4 = 2.5$\n",
    "\n",
    "---\n",
    "\n",
    "### 🔹 Pooling w praktyce CNN\n",
    "\n",
    "* **Klasyczne sieci (LeNet, AlexNet, VGG)** → stosowały regularny max pooling 2×2 po każdej konwolucji.\n",
    "* **Nowsze sieci (ResNet, EfficientNet, itp.)** → często zastępują pooling **konwolucjami ze stride > 1** albo używają **global average pooling** na końcu.\n",
    "\n",
    "---\n",
    "\n",
    "📌 **Podsumowanie:**\n",
    "Pooling = **zmniejszanie obrazu w kontrolowany sposób**, aby:\n",
    "\n",
    "* uprościć obliczenia,\n",
    "* uodpornić model na małe przesunięcia,\n",
    "* zachować najważniejsze informacje.\n",
    "\n",
    "### przykłady kodu:"
   ]
  },
  {
   "cell_type": "code",
   "execution_count": 1,
   "id": "2fde6365-aab1-439d-b5be-83663a3223db",
   "metadata": {},
   "outputs": [
    {
     "data": {
      "image/png": "[encoded data removed]",
      "text/plain": [
       "<Figure size 400x400 with 1 Axes>"
      ]
     },
     "metadata": {},
     "output_type": "display_data"
    },
    {
     "data": {
      "image/png": "[encoded data removed]",
      "text/plain": [
       "<Figure size 400x400 with 1 Axes>"
      ]
     },
     "metadata": {},
     "output_type": "display_data"
    },
    {
     "data": {
      "image/png": "[encoded data removed]",
      "text/plain": [
       "<Figure size 400x400 with 1 Axes>"
      ]
     },
     "metadata": {},
     "output_type": "display_data"
    },
    {
     "name": "stdout",
     "output_type": "stream",
     "text": [
      "Wynik max poolingu:\n",
      " tensor([[6., 5.],\n",
      "        [9., 8.]])\n",
      "Wynik average poolingu:\n",
      " tensor([[3.5000, 2.0000],\n",
      "        [4.5000, 4.2500]])\n"
     ]
    }
   ],
   "source": [
    "import torch\n",
    "import matplotlib.pyplot as plt\n",
    "\n",
    "# --- Dane wejściowe (4x4) ---\n",
    "inp = torch.tensor([\n",
    "    [1., 3., 2., 0.],\n",
    "    [4., 6., 5., 1.],\n",
    "    [7., 2., 8., 3.],\n",
    "    [0., 9., 4., 2.]\n",
    "])\n",
    "\n",
    "# --- Warstwy poolingu ---\n",
    "max_pool = torch.nn.MaxPool2d(kernel_size=2, stride=2)\n",
    "avg_pool = torch.nn.AvgPool2d(kernel_size=2, stride=2)\n",
    "\n",
    "# --- Przygotowanie tensora (PyTorch oczekuje 4D: N, C, H, W) ---\n",
    "inp_4d = inp.unsqueeze(0).unsqueeze(0)  # shape: (1, 1, 4, 4)\n",
    "\n",
    "# --- Zastosowanie poolingu ---\n",
    "max_pooled = max_pool(inp_4d).squeeze().detach()\n",
    "avg_pooled = avg_pool(inp_4d).squeeze().detach()\n",
    "\n",
    "# --- Funkcja pomocnicza do rysowania ---\n",
    "def show_matrix(mat, title):\n",
    "    plt.figure(figsize=(4, 4))\n",
    "    plt.imshow(mat, cmap=\"Blues\", interpolation=\"none\")\n",
    "    plt.title(title)\n",
    "    for i in range(mat.shape[0]):\n",
    "        for j in range(mat.shape[1]):\n",
    "            plt.text(j, i, f\"{mat[i, j].item():.2f}\",\n",
    "                     ha=\"center\", va=\"center\", color=\"black\")\n",
    "    plt.axis(\"off\")\n",
    "    plt.tight_layout()\n",
    "    plt.show()\n",
    "\n",
    "# --- Wyświetlanie ---\n",
    "show_matrix(inp, \"Macierz wejściowa 4×4\")\n",
    "show_matrix(max_pooled, \"Max pooling 2×2 (stride 2) → 2×2\")\n",
    "show_matrix(avg_pooled, \"Average pooling 2×2 (stride 2) → 2×2\")\n",
    "\n",
    "print(\"Wynik max poolingu:\\n\", max_pooled)\n",
    "print(\"Wynik average poolingu:\\n\", avg_pooled)\n"
   ]
  },
  {
   "cell_type": "code",
   "execution_count": 15,
   "id": "bba1f0f9-cb9f-4d80-82e2-e3cfe05f8597",
   "metadata": {},
   "outputs": [
    {
     "data": {
      "image/png": "[encoded data removed]",
      "text/plain": [
       "<Figure size 400x400 with 2 Axes>"
      ]
     },
     "metadata": {},
     "output_type": "display_data"
    },
    {
     "data": {
      "image/png": "[encoded data removed]",
      "text/plain": [
       "<Figure size 400x400 with 2 Axes>"
      ]
     },
     "metadata": {},
     "output_type": "display_data"
    },
    {
     "data": {
      "image/png": "[encoded data removed]",
      "text/plain": [
       "<Figure size 400x400 with 2 Axes>"
      ]
     },
     "metadata": {},
     "output_type": "display_data"
    },
    {
     "name": "stdout",
     "output_type": "stream",
     "text": [
      "Wynik max poolingu:\n",
      " [[155. 155. 155.]\n",
      " [155. 155. 155.]\n",
      " [155. 155. 155.]]\n",
      "Wynik average poolingu:\n",
      " [[116.25 116.25 155.  ]\n",
      " [116.25  77.5  116.25]\n",
      " [155.   116.25 116.25]]\n"
     ]
    }
   ],
   "source": [
    "import torch\n",
    "import matplotlib.pyplot as plt\n",
    "import numpy as np\n",
    "\n",
    "# --- Obraz wejściowy 6x6 w skali szarości ---\n",
    "img = np.array([\n",
    "    [0,   0,   0,   0,   0,   0],\n",
    "    [0, 155, 155,   0,   0,   0],\n",
    "    [0, 155, 155,   0,   0,   0],\n",
    "    [0,   0,   0, 155, 155,   0],\n",
    "    [0,   0,   0, 155, 155,   0],\n",
    "    [0,   0,   0,   0,   0,   0]\n",
    "], dtype=np.float32)\n",
    "\n",
    "img = np.abs(img-155)\n",
    "\n",
    "# --- Tensor do PyTorcha (N, C, H, W) ---\n",
    "img_tensor = torch.tensor(img).unsqueeze(0).unsqueeze(0)\n",
    "\n",
    "# --- Pooling ---\n",
    "max_pool = torch.nn.MaxPool2d(kernel_size=2, stride=2)\n",
    "avg_pool = torch.nn.AvgPool2d(kernel_size=2, stride=2)\n",
    "\n",
    "max_pooled = max_pool(img_tensor).squeeze().numpy()\n",
    "avg_pooled = avg_pool(img_tensor).squeeze().numpy()\n",
    "\n",
    "# --- Funkcja do rysowania z colorbarem ---\n",
    "def show_matrix(mat, title):\n",
    "    plt.figure(figsize=(4,4))\n",
    "    im = plt.imshow(mat, cmap=\"gray\", vmin=0, vmax=255)\n",
    "    plt.title(title)\n",
    "    plt.colorbar(im, shrink=0.8)\n",
    "    plt.axis(\"off\")\n",
    "    plt.show()\n",
    "\n",
    "# --- Wizualizacja ---\n",
    "show_matrix(img, \"Obraz wejściowy (6×6)\")\n",
    "show_matrix(max_pooled, \"Po max poolingu 2×2 (→ 3×3)\")\n",
    "show_matrix(avg_pooled, \"Po average poolingu 2×2 (→ 3×3)\")\n",
    "\n",
    "print(\"Wynik max poolingu:\\n\", max_pooled)\n",
    "print(\"Wynik average poolingu:\\n\", avg_pooled)\n"
   ]
  },
  {
   "cell_type": "markdown",
   "id": "5ca2aa85",
   "metadata": {},
   "source": [
    "## 7. Minimalny model CNN w PyTorch\n",
    "Model poniżej jest uproszczoną wersją sieci, którą wykorzystamy w zadaniu z MNIST. Składa się z dwóch bloków konwolucyjnych i części gęstej."
   ]
  },
  {
   "cell_type": "code",
   "execution_count": 17,
   "id": "a5f7caa2",
   "metadata": {},
   "outputs": [
    {
     "data": {
      "text/plain": [
       "SimpleCNN(\n",
       "  (conv1): Conv2d(1, 6, kernel_size=(3, 3), stride=(1, 1), padding=(1, 1))\n",
       "  (conv2): Conv2d(6, 16, kernel_size=(3, 3), stride=(1, 1), padding=(1, 1))\n",
       "  (pool): MaxPool2d(kernel_size=2, stride=2, padding=0, dilation=1, ceil_mode=False)\n",
       "  (fc1): Linear(in_features=784, out_features=120, bias=True)\n",
       "  (fc2): Linear(in_features=120, out_features=10, bias=True)\n",
       ")"
      ]
     },
     "execution_count": 17,
     "metadata": {},
     "output_type": "execute_result"
    }
   ],
   "source": [
    "import torch\n",
    "import torch.nn as nn\n",
    "import torch.nn.functional as F\n",
    "\n",
    "class SimpleCNN(nn.Module):\n",
    "    def __init__(self, num_classes=10):\n",
    "        super().__init__()\n",
    "        self.conv1 = nn.Conv2d(in_channels=1, out_channels=6, kernel_size=3, padding=1)\n",
    "        self.conv2 = nn.Conv2d(in_channels=6, out_channels=16, kernel_size=3, padding=1)\n",
    "        self.pool = nn.MaxPool2d(kernel_size=2, stride=2)\n",
    "        self.fc1 = nn.Linear(16 * 7 * 7, 120)\n",
    "        self.fc2 = nn.Linear(120, num_classes)\n",
    "\n",
    "    def forward(self, x):\n",
    "        x = self.pool(F.relu(self.conv1(x)))\n",
    "        x = self.pool(F.relu(self.conv2(x)))\n",
    "        x = torch.flatten(x, 1)\n",
    "        x = F.relu(self.fc1(x))\n",
    "        x = self.fc2(x)\n",
    "        return x\n",
    "\n",
    "model = SimpleCNN()\n",
    "model"
   ]
  },
  {
   "cell_type": "markdown",
   "id": "60e2a4cd",
   "metadata": {},
   "source": [
    "## Śledzenie kształtów w architekturze MNIST\n",
    "W notatniku `11-MNIST-with-CNN.ipynb` sieć ma dwie warstwy konwolucyjne (`Conv2d(1, 6, 3, 1)` i `Conv2d(6, 16, 3, 1)`) przed dwoma warstwami gęstymi. Poniżej sprawdzamy, jak zmieniają się wymiary tensora dla pojedynczego obrazu 28×28.\n"
   ]
  },
  {
   "cell_type": "code",
   "execution_count": null,
   "id": "0d4fca94",
   "metadata": {},
   "outputs": [],
   "source": [
    "import torch\n",
    "import torch.nn.functional as F\n",
    "import torch.nn as nn\n",
    "\n",
    "x = torch.randn(1, 1, 28, 28)\n",
    "conv1 = nn.Conv2d(1, 6, 3, 1)\n",
    "conv2 = nn.Conv2d(6, 16, 3, 1)\n",
    "\n",
    "print('Wejście:', x.shape)\n",
    "x = F.relu(conv1(x))\n",
    "print('Po conv1 (bez paddingu):', x.shape)\n",
    "x = F.max_pool2d(x, 2, 2)\n",
    "print('Po max poolingu 2x2:', x.shape)\n",
    "x = F.relu(conv2(x))\n",
    "print('Po conv2:', x.shape)\n",
    "x = F.max_pool2d(x, 2, 2)\n",
    "print('Po drugim poolingu:', x.shape)\n",
    "x = torch.flatten(x, 1)\n",
    "print('Po spłaszczeniu:', x.shape)\n"
   ]
  },
  {
   "cell_type": "markdown",
   "id": "aa467ebb",
   "metadata": {},
   "source": [
    "Otrzymujemy wymiary dokładnie takie, jak w ćwiczeniu: `28→26→13→11→5`, a po spłaszczeniu `5×5×16 = 400` elementów. Dzięki temu wiesz, skąd biorą się rozmiary wejść warstw liniowych (`Linear(5*5*16, 120)`)."
   ]
  },
  {
   "cell_type": "markdown",
   "id": "3185697d",
   "metadata": {},
   "source": [
    "Zwróć uwagę na:\n",
    "- Liczbę kanałów wejściowych `1` (obrazy MNIST są w skali szarości).\n",
    "- W tej wersji modelu padding utrzymuje rozmiary po konwolucjach, dlatego 28×28 → 14×14 → 7×7 po poolingach.\n",
    "- W notatniku treningowym (bez paddingu) poprzeczne wymiary maleją do 26×26, 13×13, 11×11 i 5×5 – to dlatego w warstwie liniowej pojawia się `5*5*16` neuronów wejściowych.\n",
    "- Ostatnia warstwa gęsta generuje 10 logitów odpowiadających klasyfikowanym cyfrom.\n",
    "\n",
    "Te obserwacje pomagają dopasować architekturę do danych w `11-MNIST-with-CNN.ipynb`.\n"
   ]
  },
  {
   "cell_type": "markdown",
   "id": "c0257e65-e3c3-4835-b9f2-a58c2f2cb1e3",
   "metadata": {},
   "source": [
    "## Typowy blok CNN\n",
    "\n",
    "1. Warstwa konwolucyjna (`Conv2d` / `Conv2D`).\n",
    "2. Funkcja aktywacji (zwykle ReLU).\n",
    "3. Pooling (opcjonalnie po 1-2 warstwach).\n",
    "4. Normalizacja (np. BatchNorm) w celu stabilizacji treningu.\n",
    "5. Na końcu sieci z reguły flattenujemy mapy cech i dołączamy 1-2 warstwy gęste do klasyfikacji.\n"
   ]
  },
  {
   "cell_type": "markdown",
   "id": "43faa004",
   "metadata": {},
   "source": [
    "## Embeddingi i CNN-y\n",
    "\n",
    "Chociaż CNN-y kojarzą się głównie z obrazami, warto pamiętać, że we wcześniejszym module korzystaliśmy z embeddingów dla danych kategorycznych. \n",
    "Możemy je łączyć, np. w modelach łączących dane obrazowe (CNN) z metadanymi tabelarycznymi (embeddingi), a następnie łączyć reprezentacje w części gęstej."
   ]
  },
  {
   "cell_type": "markdown",
   "id": "11797f19-5444-418c-90f7-ca0fe770944f",
   "metadata": {},
   "source": [
    "## Materiały dodatkowe:\n",
    "\n",
    "https://pl.wikipedia.org/wiki/Konwolucyjna_sie%C4%87_neuronowa\n",
    "\n",
    "https://www.cs.put.poznan.pl/alawrynowicz/SI_ML_CNN_2020_lawrynowicz.pdf\n",
    "\n",
    "https://manduk.ai/pl/konwolucyjne-sieci-neuronowe-klasyfikacja-obrazow-czesc-1/\n",
    "\n"
   ]
  },
  {
   "cell_type": "markdown",
   "id": "d57855a3",
   "metadata": {},
   "source": []
  },
  {
   "cell_type": "code",
   "execution_count": null,
   "id": "cb37906c-4e05-4250-9ca1-186396a51ce1",
   "metadata": {},
   "outputs": [],
   "source": []
  }
 ],
 "metadata": {
  "kernelspec": {
   "display_name": "Python 3 (ipykernel)",
   "language": "python",
   "name": "python3"
  },
  "language_info": {
   "codemirror_mode": {
    "name": "ipython",
    "version": 3
   },
   "file_extension": ".py",
   "mimetype": "text/x-python",
   "name": "python",
   "nbconvert_exporter": "python",
   "pygments_lexer": "ipython3",
   "version": "3.12.9"
  }
 },
 "nbformat": 4,
 "nbformat_minor": 5
}
