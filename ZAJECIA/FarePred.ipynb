{
 "cells": [
  {
   "cell_type": "code",
   "execution_count": 14,
   "id": "b63b5e68-8827-417e-bdd9-a113df816e35",
   "metadata": {},
   "outputs": [],
   "source": [
    "import pandas as pd\n",
    "import numpy as np"
   ]
  },
  {
   "cell_type": "code",
   "execution_count": 28,
   "id": "840755ff-bbc0-40db-ac09-31edd59ddbd2",
   "metadata": {},
   "outputs": [],
   "source": [
    "df = pd.read_csv(\"Data/NYCTaxiFares.csv\")"
   ]
  },
  {
   "cell_type": "code",
   "execution_count": 29,
   "id": "4bd6363c-7a30-4d4d-b514-51be4bf91a53",
   "metadata": {},
   "outputs": [
    {
     "data": {
      "text/html": [
       "<div>\n",
       "<style scoped>\n",
       "    .dataframe tbody tr th:only-of-type {\n",
       "        vertical-align: middle;\n",
       "    }\n",
       "\n",
       "    .dataframe tbody tr th {\n",
       "        vertical-align: top;\n",
       "    }\n",
       "\n",
       "    .dataframe thead th {\n",
       "        text-align: right;\n",
       "    }\n",
       "</style>\n",
       "<table border=\"1\" class=\"dataframe\">\n",
       "  <thead>\n",
       "    <tr style=\"text-align: right;\">\n",
       "      <th></th>\n",
       "      <th>pickup_datetime</th>\n",
       "      <th>fare_amount</th>\n",
       "      <th>fare_class</th>\n",
       "      <th>pickup_longitude</th>\n",
       "      <th>pickup_latitude</th>\n",
       "      <th>dropoff_longitude</th>\n",
       "      <th>dropoff_latitude</th>\n",
       "      <th>passenger_count</th>\n",
       "    </tr>\n",
       "  </thead>\n",
       "  <tbody>\n",
       "    <tr>\n",
       "      <th>0</th>\n",
       "      <td>2010-04-19 08:17:56 UTC</td>\n",
       "      <td>6.5</td>\n",
       "      <td>0</td>\n",
       "      <td>-73.992365</td>\n",
       "      <td>40.730521</td>\n",
       "      <td>-73.975499</td>\n",
       "      <td>40.744746</td>\n",
       "      <td>1</td>\n",
       "    </tr>\n",
       "    <tr>\n",
       "      <th>1</th>\n",
       "      <td>2010-04-17 15:43:53 UTC</td>\n",
       "      <td>6.9</td>\n",
       "      <td>0</td>\n",
       "      <td>-73.990078</td>\n",
       "      <td>40.740558</td>\n",
       "      <td>-73.974232</td>\n",
       "      <td>40.744114</td>\n",
       "      <td>1</td>\n",
       "    </tr>\n",
       "    <tr>\n",
       "      <th>2</th>\n",
       "      <td>2010-04-17 11:23:26 UTC</td>\n",
       "      <td>10.1</td>\n",
       "      <td>1</td>\n",
       "      <td>-73.994149</td>\n",
       "      <td>40.751118</td>\n",
       "      <td>-73.960064</td>\n",
       "      <td>40.766235</td>\n",
       "      <td>2</td>\n",
       "    </tr>\n",
       "    <tr>\n",
       "      <th>3</th>\n",
       "      <td>2010-04-11 21:25:03 UTC</td>\n",
       "      <td>8.9</td>\n",
       "      <td>0</td>\n",
       "      <td>-73.990485</td>\n",
       "      <td>40.756422</td>\n",
       "      <td>-73.971205</td>\n",
       "      <td>40.748192</td>\n",
       "      <td>1</td>\n",
       "    </tr>\n",
       "    <tr>\n",
       "      <th>4</th>\n",
       "      <td>2010-04-17 02:19:01 UTC</td>\n",
       "      <td>19.7</td>\n",
       "      <td>1</td>\n",
       "      <td>-73.990976</td>\n",
       "      <td>40.734202</td>\n",
       "      <td>-73.905956</td>\n",
       "      <td>40.743115</td>\n",
       "      <td>1</td>\n",
       "    </tr>\n",
       "  </tbody>\n",
       "</table>\n",
       "</div>"
      ],
      "text/plain": [
       "           pickup_datetime  fare_amount  fare_class  pickup_longitude  \\\n",
       "0  2010-04-19 08:17:56 UTC          6.5           0        -73.992365   \n",
       "1  2010-04-17 15:43:53 UTC          6.9           0        -73.990078   \n",
       "2  2010-04-17 11:23:26 UTC         10.1           1        -73.994149   \n",
       "3  2010-04-11 21:25:03 UTC          8.9           0        -73.990485   \n",
       "4  2010-04-17 02:19:01 UTC         19.7           1        -73.990976   \n",
       "\n",
       "   pickup_latitude  dropoff_longitude  dropoff_latitude  passenger_count  \n",
       "0        40.730521         -73.975499         40.744746                1  \n",
       "1        40.740558         -73.974232         40.744114                1  \n",
       "2        40.751118         -73.960064         40.766235                2  \n",
       "3        40.756422         -73.971205         40.748192                1  \n",
       "4        40.734202         -73.905956         40.743115                1  "
      ]
     },
     "execution_count": 29,
     "metadata": {},
     "output_type": "execute_result"
    }
   ],
   "source": [
    "df.head()"
   ]
  },
  {
   "cell_type": "code",
   "execution_count": 6,
   "id": "c6c93d11-9a93-4fdd-854d-38970f4c2a0a",
   "metadata": {},
   "outputs": [
    {
     "data": {
      "text/plain": [
       "'2010-04-25 03:59:42 UTC'"
      ]
     },
     "execution_count": 6,
     "metadata": {},
     "output_type": "execute_result"
    }
   ],
   "source": [
    "df.pickup_datetime.max()"
   ]
  },
  {
   "cell_type": "code",
   "execution_count": 7,
   "id": "83078a17-2a61-4f88-bf47-5f86d8b3f5cd",
   "metadata": {},
   "outputs": [
    {
     "data": {
      "text/plain": [
       "count    120000.000000\n",
       "mean         10.040326\n",
       "std           7.500134\n",
       "min           2.500000\n",
       "25%           5.700000\n",
       "50%           7.700000\n",
       "75%          11.300000\n",
       "max          49.900000\n",
       "Name: fare_amount, dtype: float64"
      ]
     },
     "execution_count": 7,
     "metadata": {},
     "output_type": "execute_result"
    }
   ],
   "source": [
    "df.fare_amount.describe()"
   ]
  },
  {
   "cell_type": "markdown",
   "id": "934ee75d-927c-431b-b317-03728af8173c",
   "metadata": {},
   "source": [
    "## Oblicz przejechaną odległość\n",
    "\n",
    "[Wzór haversine](https://en.wikipedia.org/wiki/Haversine_formula) wyznacza odległość na kuli pomiędzy dwiema parami współrzędnych GPS.  \n",
    "\n",
    "Szerokość geograficzną oznaczymy przez $\\varphi$ (phi), a długość przez $\\lambda$ (lambda).\n",
    "\n",
    "Wzór przyjmuje postać:\n",
    "\n",
    "$$\n",
    "d = 2r \\arcsin \\left( \n",
    "    \\sqrt{ \n",
    "        \\sin^2\\!\\left(\\frac{\\varphi_2 - \\varphi_1}{2}\\right) \n",
    "        + \\cos(\\varphi_1)\\cos(\\varphi_2)\\sin^2\\!\\left(\\frac{\\lambda_2 - \\lambda_1}{2}\\right) \n",
    "    } \n",
    "\\right)\n",
    "$$\n",
    "\n",
    "przy czym:\n",
    "\n",
    "$$\n",
    "\\begin{aligned}\n",
    "r & : \\text{ promień kuli (średni promień Ziemi to 6371 km)} \\\\\n",
    "\\varphi_1, \\varphi_2 & : \\text{ szerokości geograficzne punktów 1 i 2} \\\\\n",
    "\\lambda_1, \\lambda_2 & : \\text{ długości geograficzne punktów 1 i 2} \\\\\n",
    "\\end{aligned}\n",
    "$$\n"
   ]
  },
  {
   "cell_type": "code",
   "execution_count": 39,
   "id": "63cff060-1e3c-4891-a203-92f28c745d11",
   "metadata": {},
   "outputs": [],
   "source": [
    "def haversine_distance(df, lat1, long1, lat2, long2):\n",
    "    \"\"\"\n",
    "    Calculates the haversine distance between 2 sets of GPS coordinates in df\n",
    "    \"\"\"\n",
    "    r = 6371  # średni promień Ziemi w kilometrach\n",
    "       \n",
    "    phi1 = np.radians(df[lat1])\n",
    "    phi2 = np.radians(df[lat2])\n",
    "    \n",
    "    delta_phi = np.radians(df[lat2]-df[lat1])\n",
    "    delta_lambda = np.radians(df[long2]-df[long1])\n",
    "     \n",
    "    a = np.sin(delta_phi/2)**2 + np.cos(phi1) * np.cos(phi2) * np.sin(delta_lambda/2)**2\n",
    "    c = 2 * np.arctan2(np.sqrt(a), np.sqrt(1-a))\n",
    "    d = (r * c) # w kilometrach\n",
    "\n",
    "    return d"
   ]
  },
  {
   "cell_type": "code",
   "execution_count": 40,
   "id": "77c2430a-fc25-465e-ac47-a0c58cce71e8",
   "metadata": {},
   "outputs": [
    {
     "data": {
      "text/plain": [
       "Index(['pickup_datetime', 'fare_amount', 'fare_class', 'pickup_longitude',\n",
       "       'pickup_latitude', 'dropoff_longitude', 'dropoff_latitude',\n",
       "       'passenger_count', 'EDTdate', 'Hour', 'AMorPM', 'Weekday'],\n",
       "      dtype='object')"
      ]
     },
     "execution_count": 40,
     "metadata": {},
     "output_type": "execute_result"
    }
   ],
   "source": [
    "df.columns"
   ]
  },
  {
   "cell_type": "code",
   "execution_count": 41,
   "id": "f48f0827-961d-472c-b9ac-a06305eaec47",
   "metadata": {},
   "outputs": [],
   "source": [
    "df[\"dist_km\"] = haversine_distance(df, \"pickup_latitude\", 'pickup_longitude', 'dropoff_latitude', 'dropoff_longitude')"
   ]
  },
  {
   "cell_type": "code",
   "execution_count": 16,
   "id": "bc5f4c1e-3b7d-4723-acd3-8f15518b6877",
   "metadata": {},
   "outputs": [
    {
     "data": {
      "text/html": [
       "<div>\n",
       "<style scoped>\n",
       "    .dataframe tbody tr th:only-of-type {\n",
       "        vertical-align: middle;\n",
       "    }\n",
       "\n",
       "    .dataframe tbody tr th {\n",
       "        vertical-align: top;\n",
       "    }\n",
       "\n",
       "    .dataframe thead th {\n",
       "        text-align: right;\n",
       "    }\n",
       "</style>\n",
       "<table border=\"1\" class=\"dataframe\">\n",
       "  <thead>\n",
       "    <tr style=\"text-align: right;\">\n",
       "      <th></th>\n",
       "      <th>pickup_datetime</th>\n",
       "      <th>fare_amount</th>\n",
       "      <th>fare_class</th>\n",
       "      <th>pickup_longitude</th>\n",
       "      <th>pickup_latitude</th>\n",
       "      <th>dropoff_longitude</th>\n",
       "      <th>dropoff_latitude</th>\n",
       "      <th>passenger_count</th>\n",
       "      <th>dist_km</th>\n",
       "    </tr>\n",
       "  </thead>\n",
       "  <tbody>\n",
       "    <tr>\n",
       "      <th>0</th>\n",
       "      <td>2010-04-19 08:17:56 UTC</td>\n",
       "      <td>6.5</td>\n",
       "      <td>0</td>\n",
       "      <td>-73.992365</td>\n",
       "      <td>40.730521</td>\n",
       "      <td>-73.975499</td>\n",
       "      <td>40.744746</td>\n",
       "      <td>1</td>\n",
       "      <td>2.126312</td>\n",
       "    </tr>\n",
       "    <tr>\n",
       "      <th>1</th>\n",
       "      <td>2010-04-17 15:43:53 UTC</td>\n",
       "      <td>6.9</td>\n",
       "      <td>0</td>\n",
       "      <td>-73.990078</td>\n",
       "      <td>40.740558</td>\n",
       "      <td>-73.974232</td>\n",
       "      <td>40.744114</td>\n",
       "      <td>1</td>\n",
       "      <td>1.392307</td>\n",
       "    </tr>\n",
       "    <tr>\n",
       "      <th>2</th>\n",
       "      <td>2010-04-17 11:23:26 UTC</td>\n",
       "      <td>10.1</td>\n",
       "      <td>1</td>\n",
       "      <td>-73.994149</td>\n",
       "      <td>40.751118</td>\n",
       "      <td>-73.960064</td>\n",
       "      <td>40.766235</td>\n",
       "      <td>2</td>\n",
       "      <td>3.326763</td>\n",
       "    </tr>\n",
       "    <tr>\n",
       "      <th>3</th>\n",
       "      <td>2010-04-11 21:25:03 UTC</td>\n",
       "      <td>8.9</td>\n",
       "      <td>0</td>\n",
       "      <td>-73.990485</td>\n",
       "      <td>40.756422</td>\n",
       "      <td>-73.971205</td>\n",
       "      <td>40.748192</td>\n",
       "      <td>1</td>\n",
       "      <td>1.864129</td>\n",
       "    </tr>\n",
       "    <tr>\n",
       "      <th>4</th>\n",
       "      <td>2010-04-17 02:19:01 UTC</td>\n",
       "      <td>19.7</td>\n",
       "      <td>1</td>\n",
       "      <td>-73.990976</td>\n",
       "      <td>40.734202</td>\n",
       "      <td>-73.905956</td>\n",
       "      <td>40.743115</td>\n",
       "      <td>1</td>\n",
       "      <td>7.231321</td>\n",
       "    </tr>\n",
       "    <tr>\n",
       "      <th>...</th>\n",
       "      <td>...</td>\n",
       "      <td>...</td>\n",
       "      <td>...</td>\n",
       "      <td>...</td>\n",
       "      <td>...</td>\n",
       "      <td>...</td>\n",
       "      <td>...</td>\n",
       "      <td>...</td>\n",
       "      <td>...</td>\n",
       "    </tr>\n",
       "    <tr>\n",
       "      <th>119995</th>\n",
       "      <td>2010-04-18 14:33:03 UTC</td>\n",
       "      <td>15.3</td>\n",
       "      <td>1</td>\n",
       "      <td>-73.955857</td>\n",
       "      <td>40.784590</td>\n",
       "      <td>-73.981941</td>\n",
       "      <td>40.736789</td>\n",
       "      <td>1</td>\n",
       "      <td>5.751348</td>\n",
       "    </tr>\n",
       "    <tr>\n",
       "      <th>119996</th>\n",
       "      <td>2010-04-23 10:27:48 UTC</td>\n",
       "      <td>15.3</td>\n",
       "      <td>1</td>\n",
       "      <td>-73.996329</td>\n",
       "      <td>40.772727</td>\n",
       "      <td>-74.049890</td>\n",
       "      <td>40.740413</td>\n",
       "      <td>1</td>\n",
       "      <td>5.767444</td>\n",
       "    </tr>\n",
       "    <tr>\n",
       "      <th>119997</th>\n",
       "      <td>2010-04-18 18:50:40 UTC</td>\n",
       "      <td>12.5</td>\n",
       "      <td>1</td>\n",
       "      <td>-73.988574</td>\n",
       "      <td>40.749772</td>\n",
       "      <td>-74.011541</td>\n",
       "      <td>40.707799</td>\n",
       "      <td>3</td>\n",
       "      <td>5.052523</td>\n",
       "    </tr>\n",
       "    <tr>\n",
       "      <th>119998</th>\n",
       "      <td>2010-04-13 08:14:44 UTC</td>\n",
       "      <td>4.9</td>\n",
       "      <td>0</td>\n",
       "      <td>-74.004449</td>\n",
       "      <td>40.724529</td>\n",
       "      <td>-73.992697</td>\n",
       "      <td>40.730765</td>\n",
       "      <td>1</td>\n",
       "      <td>1.208923</td>\n",
       "    </tr>\n",
       "    <tr>\n",
       "      <th>119999</th>\n",
       "      <td>2010-04-17 16:00:14 UTC</td>\n",
       "      <td>5.3</td>\n",
       "      <td>0</td>\n",
       "      <td>-73.955415</td>\n",
       "      <td>40.771920</td>\n",
       "      <td>-73.967623</td>\n",
       "      <td>40.763015</td>\n",
       "      <td>3</td>\n",
       "      <td>1.427399</td>\n",
       "    </tr>\n",
       "  </tbody>\n",
       "</table>\n",
       "<p>120000 rows × 9 columns</p>\n",
       "</div>"
      ],
      "text/plain": [
       "                pickup_datetime  fare_amount  fare_class  pickup_longitude  \\\n",
       "0       2010-04-19 08:17:56 UTC          6.5           0        -73.992365   \n",
       "1       2010-04-17 15:43:53 UTC          6.9           0        -73.990078   \n",
       "2       2010-04-17 11:23:26 UTC         10.1           1        -73.994149   \n",
       "3       2010-04-11 21:25:03 UTC          8.9           0        -73.990485   \n",
       "4       2010-04-17 02:19:01 UTC         19.7           1        -73.990976   \n",
       "...                         ...          ...         ...               ...   \n",
       "119995  2010-04-18 14:33:03 UTC         15.3           1        -73.955857   \n",
       "119996  2010-04-23 10:27:48 UTC         15.3           1        -73.996329   \n",
       "119997  2010-04-18 18:50:40 UTC         12.5           1        -73.988574   \n",
       "119998  2010-04-13 08:14:44 UTC          4.9           0        -74.004449   \n",
       "119999  2010-04-17 16:00:14 UTC          5.3           0        -73.955415   \n",
       "\n",
       "        pickup_latitude  dropoff_longitude  dropoff_latitude  passenger_count  \\\n",
       "0             40.730521         -73.975499         40.744746                1   \n",
       "1             40.740558         -73.974232         40.744114                1   \n",
       "2             40.751118         -73.960064         40.766235                2   \n",
       "3             40.756422         -73.971205         40.748192                1   \n",
       "4             40.734202         -73.905956         40.743115                1   \n",
       "...                 ...                ...               ...              ...   \n",
       "119995        40.784590         -73.981941         40.736789                1   \n",
       "119996        40.772727         -74.049890         40.740413                1   \n",
       "119997        40.749772         -74.011541         40.707799                3   \n",
       "119998        40.724529         -73.992697         40.730765                1   \n",
       "119999        40.771920         -73.967623         40.763015                3   \n",
       "\n",
       "         dist_km  \n",
       "0       2.126312  \n",
       "1       1.392307  \n",
       "2       3.326763  \n",
       "3       1.864129  \n",
       "4       7.231321  \n",
       "...          ...  \n",
       "119995  5.751348  \n",
       "119996  5.767444  \n",
       "119997  5.052523  \n",
       "119998  1.208923  \n",
       "119999  1.427399  \n",
       "\n",
       "[120000 rows x 9 columns]"
      ]
     },
     "execution_count": 16,
     "metadata": {},
     "output_type": "execute_result"
    }
   ],
   "source": [
    "df"
   ]
  },
  {
   "cell_type": "code",
   "execution_count": 31,
   "id": "11e680a7-3882-44b7-8ae9-fd2c911ed470",
   "metadata": {},
   "outputs": [],
   "source": [
    "df[\"EDTdate\"] = pd.to_datetime(df[\"pickup_datetime\"].str[:19]) - pd.Timedelta(hours=4)"
   ]
  },
  {
   "cell_type": "code",
   "execution_count": 32,
   "id": "9fcb94b5-b218-447f-97e5-6bb357072151",
   "metadata": {},
   "outputs": [],
   "source": [
    "df[\"Hour\"] = df.EDTdate.dt.hour"
   ]
  },
  {
   "cell_type": "code",
   "execution_count": 34,
   "id": "2cca648f-0c3c-406f-8bdf-ff2b5e6e5a18",
   "metadata": {},
   "outputs": [
    {
     "data": {
      "text/plain": [
       "23"
      ]
     },
     "execution_count": 34,
     "metadata": {},
     "output_type": "execute_result"
    }
   ],
   "source": [
    "df.Hour.max()"
   ]
  },
  {
   "cell_type": "code",
   "execution_count": 35,
   "id": "bf5f8b22-2425-4890-ab49-df245bb1dbc3",
   "metadata": {},
   "outputs": [],
   "source": [
    "df[\"AMorPM\"] = np.where(df.Hour < 12, \"am\", \"pm\")"
   ]
  },
  {
   "cell_type": "code",
   "execution_count": 36,
   "id": "4b522b7c-ffbb-43db-ad74-6a34708bf86b",
   "metadata": {},
   "outputs": [],
   "source": [
    "df[\"Weekday\"] = df.EDTdate.dt.strftime(\"%a\")"
   ]
  },
  {
   "cell_type": "code",
   "execution_count": 42,
   "id": "53997c6b-8cdd-4e56-a379-1672c2fb81e0",
   "metadata": {},
   "outputs": [
    {
     "data": {
      "text/html": [
       "<div>\n",
       "<style scoped>\n",
       "    .dataframe tbody tr th:only-of-type {\n",
       "        vertical-align: middle;\n",
       "    }\n",
       "\n",
       "    .dataframe tbody tr th {\n",
       "        vertical-align: top;\n",
       "    }\n",
       "\n",
       "    .dataframe thead th {\n",
       "        text-align: right;\n",
       "    }\n",
       "</style>\n",
       "<table border=\"1\" class=\"dataframe\">\n",
       "  <thead>\n",
       "    <tr style=\"text-align: right;\">\n",
       "      <th></th>\n",
       "      <th>pickup_datetime</th>\n",
       "      <th>fare_amount</th>\n",
       "      <th>fare_class</th>\n",
       "      <th>pickup_longitude</th>\n",
       "      <th>pickup_latitude</th>\n",
       "      <th>dropoff_longitude</th>\n",
       "      <th>dropoff_latitude</th>\n",
       "      <th>passenger_count</th>\n",
       "      <th>EDTdate</th>\n",
       "      <th>Hour</th>\n",
       "      <th>AMorPM</th>\n",
       "      <th>Weekday</th>\n",
       "      <th>dist_km</th>\n",
       "    </tr>\n",
       "  </thead>\n",
       "  <tbody>\n",
       "    <tr>\n",
       "      <th>0</th>\n",
       "      <td>2010-04-19 08:17:56 UTC</td>\n",
       "      <td>6.5</td>\n",
       "      <td>0</td>\n",
       "      <td>-73.992365</td>\n",
       "      <td>40.730521</td>\n",
       "      <td>-73.975499</td>\n",
       "      <td>40.744746</td>\n",
       "      <td>1</td>\n",
       "      <td>2010-04-19 04:17:56</td>\n",
       "      <td>4</td>\n",
       "      <td>am</td>\n",
       "      <td>Mon</td>\n",
       "      <td>2.126312</td>\n",
       "    </tr>\n",
       "    <tr>\n",
       "      <th>1</th>\n",
       "      <td>2010-04-17 15:43:53 UTC</td>\n",
       "      <td>6.9</td>\n",
       "      <td>0</td>\n",
       "      <td>-73.990078</td>\n",
       "      <td>40.740558</td>\n",
       "      <td>-73.974232</td>\n",
       "      <td>40.744114</td>\n",
       "      <td>1</td>\n",
       "      <td>2010-04-17 11:43:53</td>\n",
       "      <td>11</td>\n",
       "      <td>am</td>\n",
       "      <td>Sat</td>\n",
       "      <td>1.392307</td>\n",
       "    </tr>\n",
       "    <tr>\n",
       "      <th>2</th>\n",
       "      <td>2010-04-17 11:23:26 UTC</td>\n",
       "      <td>10.1</td>\n",
       "      <td>1</td>\n",
       "      <td>-73.994149</td>\n",
       "      <td>40.751118</td>\n",
       "      <td>-73.960064</td>\n",
       "      <td>40.766235</td>\n",
       "      <td>2</td>\n",
       "      <td>2010-04-17 07:23:26</td>\n",
       "      <td>7</td>\n",
       "      <td>am</td>\n",
       "      <td>Sat</td>\n",
       "      <td>3.326763</td>\n",
       "    </tr>\n",
       "    <tr>\n",
       "      <th>3</th>\n",
       "      <td>2010-04-11 21:25:03 UTC</td>\n",
       "      <td>8.9</td>\n",
       "      <td>0</td>\n",
       "      <td>-73.990485</td>\n",
       "      <td>40.756422</td>\n",
       "      <td>-73.971205</td>\n",
       "      <td>40.748192</td>\n",
       "      <td>1</td>\n",
       "      <td>2010-04-11 17:25:03</td>\n",
       "      <td>17</td>\n",
       "      <td>pm</td>\n",
       "      <td>Sun</td>\n",
       "      <td>1.864129</td>\n",
       "    </tr>\n",
       "    <tr>\n",
       "      <th>4</th>\n",
       "      <td>2010-04-17 02:19:01 UTC</td>\n",
       "      <td>19.7</td>\n",
       "      <td>1</td>\n",
       "      <td>-73.990976</td>\n",
       "      <td>40.734202</td>\n",
       "      <td>-73.905956</td>\n",
       "      <td>40.743115</td>\n",
       "      <td>1</td>\n",
       "      <td>2010-04-16 22:19:01</td>\n",
       "      <td>22</td>\n",
       "      <td>pm</td>\n",
       "      <td>Fri</td>\n",
       "      <td>7.231321</td>\n",
       "    </tr>\n",
       "    <tr>\n",
       "      <th>...</th>\n",
       "      <td>...</td>\n",
       "      <td>...</td>\n",
       "      <td>...</td>\n",
       "      <td>...</td>\n",
       "      <td>...</td>\n",
       "      <td>...</td>\n",
       "      <td>...</td>\n",
       "      <td>...</td>\n",
       "      <td>...</td>\n",
       "      <td>...</td>\n",
       "      <td>...</td>\n",
       "      <td>...</td>\n",
       "      <td>...</td>\n",
       "    </tr>\n",
       "    <tr>\n",
       "      <th>119995</th>\n",
       "      <td>2010-04-18 14:33:03 UTC</td>\n",
       "      <td>15.3</td>\n",
       "      <td>1</td>\n",
       "      <td>-73.955857</td>\n",
       "      <td>40.784590</td>\n",
       "      <td>-73.981941</td>\n",
       "      <td>40.736789</td>\n",
       "      <td>1</td>\n",
       "      <td>2010-04-18 10:33:03</td>\n",
       "      <td>10</td>\n",
       "      <td>am</td>\n",
       "      <td>Sun</td>\n",
       "      <td>5.751348</td>\n",
       "    </tr>\n",
       "    <tr>\n",
       "      <th>119996</th>\n",
       "      <td>2010-04-23 10:27:48 UTC</td>\n",
       "      <td>15.3</td>\n",
       "      <td>1</td>\n",
       "      <td>-73.996329</td>\n",
       "      <td>40.772727</td>\n",
       "      <td>-74.049890</td>\n",
       "      <td>40.740413</td>\n",
       "      <td>1</td>\n",
       "      <td>2010-04-23 06:27:48</td>\n",
       "      <td>6</td>\n",
       "      <td>am</td>\n",
       "      <td>Fri</td>\n",
       "      <td>5.767444</td>\n",
       "    </tr>\n",
       "    <tr>\n",
       "      <th>119997</th>\n",
       "      <td>2010-04-18 18:50:40 UTC</td>\n",
       "      <td>12.5</td>\n",
       "      <td>1</td>\n",
       "      <td>-73.988574</td>\n",
       "      <td>40.749772</td>\n",
       "      <td>-74.011541</td>\n",
       "      <td>40.707799</td>\n",
       "      <td>3</td>\n",
       "      <td>2010-04-18 14:50:40</td>\n",
       "      <td>14</td>\n",
       "      <td>pm</td>\n",
       "      <td>Sun</td>\n",
       "      <td>5.052523</td>\n",
       "    </tr>\n",
       "    <tr>\n",
       "      <th>119998</th>\n",
       "      <td>2010-04-13 08:14:44 UTC</td>\n",
       "      <td>4.9</td>\n",
       "      <td>0</td>\n",
       "      <td>-74.004449</td>\n",
       "      <td>40.724529</td>\n",
       "      <td>-73.992697</td>\n",
       "      <td>40.730765</td>\n",
       "      <td>1</td>\n",
       "      <td>2010-04-13 04:14:44</td>\n",
       "      <td>4</td>\n",
       "      <td>am</td>\n",
       "      <td>Tue</td>\n",
       "      <td>1.208923</td>\n",
       "    </tr>\n",
       "    <tr>\n",
       "      <th>119999</th>\n",
       "      <td>2010-04-17 16:00:14 UTC</td>\n",
       "      <td>5.3</td>\n",
       "      <td>0</td>\n",
       "      <td>-73.955415</td>\n",
       "      <td>40.771920</td>\n",
       "      <td>-73.967623</td>\n",
       "      <td>40.763015</td>\n",
       "      <td>3</td>\n",
       "      <td>2010-04-17 12:00:14</td>\n",
       "      <td>12</td>\n",
       "      <td>pm</td>\n",
       "      <td>Sat</td>\n",
       "      <td>1.427399</td>\n",
       "    </tr>\n",
       "  </tbody>\n",
       "</table>\n",
       "<p>120000 rows × 13 columns</p>\n",
       "</div>"
      ],
      "text/plain": [
       "                pickup_datetime  fare_amount  fare_class  pickup_longitude  \\\n",
       "0       2010-04-19 08:17:56 UTC          6.5           0        -73.992365   \n",
       "1       2010-04-17 15:43:53 UTC          6.9           0        -73.990078   \n",
       "2       2010-04-17 11:23:26 UTC         10.1           1        -73.994149   \n",
       "3       2010-04-11 21:25:03 UTC          8.9           0        -73.990485   \n",
       "4       2010-04-17 02:19:01 UTC         19.7           1        -73.990976   \n",
       "...                         ...          ...         ...               ...   \n",
       "119995  2010-04-18 14:33:03 UTC         15.3           1        -73.955857   \n",
       "119996  2010-04-23 10:27:48 UTC         15.3           1        -73.996329   \n",
       "119997  2010-04-18 18:50:40 UTC         12.5           1        -73.988574   \n",
       "119998  2010-04-13 08:14:44 UTC          4.9           0        -74.004449   \n",
       "119999  2010-04-17 16:00:14 UTC          5.3           0        -73.955415   \n",
       "\n",
       "        pickup_latitude  dropoff_longitude  dropoff_latitude  passenger_count  \\\n",
       "0             40.730521         -73.975499         40.744746                1   \n",
       "1             40.740558         -73.974232         40.744114                1   \n",
       "2             40.751118         -73.960064         40.766235                2   \n",
       "3             40.756422         -73.971205         40.748192                1   \n",
       "4             40.734202         -73.905956         40.743115                1   \n",
       "...                 ...                ...               ...              ...   \n",
       "119995        40.784590         -73.981941         40.736789                1   \n",
       "119996        40.772727         -74.049890         40.740413                1   \n",
       "119997        40.749772         -74.011541         40.707799                3   \n",
       "119998        40.724529         -73.992697         40.730765                1   \n",
       "119999        40.771920         -73.967623         40.763015                3   \n",
       "\n",
       "                   EDTdate  Hour AMorPM Weekday   dist_km  \n",
       "0      2010-04-19 04:17:56     4     am     Mon  2.126312  \n",
       "1      2010-04-17 11:43:53    11     am     Sat  1.392307  \n",
       "2      2010-04-17 07:23:26     7     am     Sat  3.326763  \n",
       "3      2010-04-11 17:25:03    17     pm     Sun  1.864129  \n",
       "4      2010-04-16 22:19:01    22     pm     Fri  7.231321  \n",
       "...                    ...   ...    ...     ...       ...  \n",
       "119995 2010-04-18 10:33:03    10     am     Sun  5.751348  \n",
       "119996 2010-04-23 06:27:48     6     am     Fri  5.767444  \n",
       "119997 2010-04-18 14:50:40    14     pm     Sun  5.052523  \n",
       "119998 2010-04-13 04:14:44     4     am     Tue  1.208923  \n",
       "119999 2010-04-17 12:00:14    12     pm     Sat  1.427399  \n",
       "\n",
       "[120000 rows x 13 columns]"
      ]
     },
     "execution_count": 42,
     "metadata": {},
     "output_type": "execute_result"
    }
   ],
   "source": [
    "df"
   ]
  },
  {
   "cell_type": "code",
   "execution_count": 38,
   "id": "0a95ab8b-47cb-4143-adbb-e39339340bdd",
   "metadata": {},
   "outputs": [
    {
     "data": {
      "text/plain": [
       "Index(['pickup_datetime', 'fare_amount', 'fare_class', 'pickup_longitude',\n",
       "       'pickup_latitude', 'dropoff_longitude', 'dropoff_latitude',\n",
       "       'passenger_count', 'EDTdate', 'Hour', 'AMorPM', 'Weekday'],\n",
       "      dtype='object')"
      ]
     },
     "execution_count": 38,
     "metadata": {},
     "output_type": "execute_result"
    }
   ],
   "source": [
    "df.columns"
   ]
  },
  {
   "cell_type": "code",
   "execution_count": 43,
   "id": "16656892-8ece-44a8-a93a-9484cf3c2304",
   "metadata": {},
   "outputs": [],
   "source": [
    "cat_cols = ['Hour', 'AMorPM', 'Weekday']\n",
    "cont_cols = ['pickup_longitude',\n",
    "       'pickup_latitude', 'dropoff_longitude', 'dropoff_latitude',\n",
    "       'passenger_count', \"dist_km\"]"
   ]
  },
  {
   "cell_type": "code",
   "execution_count": 44,
   "id": "f6dce752-b0b7-48d5-a53f-030e5a84e4d1",
   "metadata": {},
   "outputs": [],
   "source": [
    "y_col = [\"fare_amount\"]"
   ]
  },
  {
   "cell_type": "code",
   "execution_count": 45,
   "id": "d4e87dc7-a0d3-4609-9e4d-55d1c35bf6f5",
   "metadata": {},
   "outputs": [],
   "source": [
    "for cat in cat_cols:\n",
    "    df[cat] = df[cat].astype(\"category\")"
   ]
  },
  {
   "cell_type": "code",
   "execution_count": 47,
   "id": "212bce99-a430-4aba-b0e4-882f12cbec2e",
   "metadata": {},
   "outputs": [
    {
     "data": {
      "text/plain": [
       "Index([ 0,  1,  2,  3,  4,  5,  6,  7,  8,  9, 10, 11, 12, 13, 14, 15, 16, 17,\n",
       "       18, 19, 20, 21, 22, 23],\n",
       "      dtype='int32')"
      ]
     },
     "execution_count": 47,
     "metadata": {},
     "output_type": "execute_result"
    }
   ],
   "source": [
    "df.Hour.cat.categories"
   ]
  },
  {
   "cell_type": "code",
   "execution_count": 50,
   "id": "08274014-17e1-4f2e-b34d-a318cbeb086e",
   "metadata": {},
   "outputs": [
    {
     "data": {
      "text/plain": [
       "array([ 4, 11,  7, ..., 14,  4, 12], dtype=int8)"
      ]
     },
     "execution_count": 50,
     "metadata": {},
     "output_type": "execute_result"
    }
   ],
   "source": [
    "df.Hour.cat.codes.values"
   ]
  },
  {
   "cell_type": "code",
   "execution_count": 49,
   "id": "f27d7cad-b345-4678-8420-7f51de7c8ee7",
   "metadata": {},
   "outputs": [],
   "source": [
    "# NaN -> -1"
   ]
  },
  {
   "cell_type": "code",
   "execution_count": 52,
   "id": "f815e41f-70a2-4a1c-9c79-e2570f08f9ff",
   "metadata": {},
   "outputs": [
    {
     "data": {
      "text/plain": [
       "array([[ 4,  0,  1],\n",
       "       [11,  0,  2],\n",
       "       [ 7,  0,  2],\n",
       "       [17,  1,  3]], dtype=int8)"
      ]
     },
     "execution_count": 52,
     "metadata": {},
     "output_type": "execute_result"
    }
   ],
   "source": [
    "hr = df.Hour.cat.codes.values\n",
    "ampm = df.AMorPM.cat.codes.values\n",
    "wkdy = df.Weekday.cat.codes.values\n",
    "\n",
    "cats = np.stack((hr, ampm, wkdy), 1)\n",
    "\n",
    "cats[:4]"
   ]
  },
  {
   "cell_type": "code",
   "execution_count": 53,
   "id": "b02e8450-3da7-4a18-9cb6-821f4f287b01",
   "metadata": {},
   "outputs": [],
   "source": [
    "import torch"
   ]
  },
  {
   "cell_type": "code",
   "execution_count": 54,
   "id": "a4272351-ffe8-4d9e-9032-a1e8fde6db5c",
   "metadata": {},
   "outputs": [],
   "source": [
    "cats = torch.tensor(cats, dtype=torch.int64)"
   ]
  },
  {
   "cell_type": "code",
   "execution_count": 55,
   "id": "e75d27a7-0200-4005-81a8-a6213f15e031",
   "metadata": {},
   "outputs": [
    {
     "data": {
      "text/plain": [
       "tensor([[-73.9924,  40.7305, -73.9755,  40.7447,   1.0000,   2.1263],\n",
       "        [-73.9901,  40.7406, -73.9742,  40.7441,   1.0000,   1.3923],\n",
       "        [-73.9941,  40.7511, -73.9601,  40.7662,   2.0000,   3.3268],\n",
       "        [-73.9905,  40.7564, -73.9712,  40.7482,   1.0000,   1.8641]])"
      ]
     },
     "execution_count": 55,
     "metadata": {},
     "output_type": "execute_result"
    }
   ],
   "source": [
    "conts = np.stack([df[col].values for col in cont_cols], 1)\n",
    "conts = torch.tensor(conts, dtype=torch.float)\n",
    "conts[:4]"
   ]
  },
  {
   "cell_type": "code",
   "execution_count": 57,
   "id": "3b406e14-48d6-42ad-b0dc-115ee987cd96",
   "metadata": {},
   "outputs": [],
   "source": [
    "y = torch.tensor(df[y_col].values, dtype=torch.float).reshape(-1, 1)"
   ]
  },
  {
   "cell_type": "code",
   "execution_count": 58,
   "id": "00218be1-11b6-468b-9cd6-8f0afa812a37",
   "metadata": {},
   "outputs": [
    {
     "data": {
      "text/plain": [
       "tensor([[ 6.5000],\n",
       "        [ 6.9000],\n",
       "        [10.1000],\n",
       "        [ 8.9000]])"
      ]
     },
     "execution_count": 58,
     "metadata": {},
     "output_type": "execute_result"
    }
   ],
   "source": [
    "y[:4]"
   ]
  },
  {
   "cell_type": "code",
   "execution_count": 59,
   "id": "9ba03c49-bffb-4645-936f-0ac94778fa3e",
   "metadata": {},
   "outputs": [],
   "source": [
    "# embedingi"
   ]
  },
  {
   "cell_type": "code",
   "execution_count": 60,
   "id": "4ac8f097-282f-44e4-8055-82878ca0ae87",
   "metadata": {},
   "outputs": [],
   "source": [
    "poniedzialek = [1, 0 , 0, 0, 0, 0, 0]"
   ]
  },
  {
   "cell_type": "code",
   "execution_count": null,
   "id": "ee4461ae-3817-4bad-80d5-44d4d21371b6",
   "metadata": {},
   "outputs": [],
   "source": [
    "poniedzialek = [0.1, 0.8, -0.3]"
   ]
  },
  {
   "cell_type": "code",
   "execution_count": 61,
   "id": "2062ef22-875b-403f-873e-c3bed9f55b1b",
   "metadata": {},
   "outputs": [],
   "source": [
    "cat_szs = [len(df[col].cat.categories) for col in cat_cols]"
   ]
  },
  {
   "cell_type": "code",
   "execution_count": 62,
   "id": "17860c6e-c8e7-4e21-a025-e11b4c19066f",
   "metadata": {},
   "outputs": [
    {
     "data": {
      "text/plain": [
       "[24, 2, 7]"
      ]
     },
     "execution_count": 62,
     "metadata": {},
     "output_type": "execute_result"
    }
   ],
   "source": [
    "cat_szs"
   ]
  },
  {
   "cell_type": "code",
   "execution_count": 64,
   "id": "129dd211-5d7b-4985-ba68-dd0c11da145e",
   "metadata": {},
   "outputs": [],
   "source": [
    "emb_szs = [(size, min(50, (size+1) // 2 )) for size in cat_szs]"
   ]
  },
  {
   "cell_type": "code",
   "execution_count": 65,
   "id": "93b61e01-addd-4b3a-b6d1-fe98246d085a",
   "metadata": {},
   "outputs": [
    {
     "data": {
      "text/plain": [
       "[(24, 12), (2, 1), (7, 4)]"
      ]
     },
     "execution_count": 65,
     "metadata": {},
     "output_type": "execute_result"
    }
   ],
   "source": [
    "emb_szs"
   ]
  },
  {
   "cell_type": "code",
   "execution_count": 66,
   "id": "b312c8b7-9cec-442a-90bc-8b86b1b0f409",
   "metadata": {},
   "outputs": [],
   "source": [
    "import torch.nn  as nn"
   ]
  },
  {
   "cell_type": "code",
   "execution_count": 92,
   "id": "bffc2c59-9d53-4bf7-b76e-45b3e29dd5b6",
   "metadata": {},
   "outputs": [
    {
     "name": "stdout",
     "output_type": "stream",
     "text": [
      "TabularModel(\n",
      "  (embeds): ModuleList(\n",
      "    (0): Embedding(24, 12)\n",
      "    (1): Embedding(2, 1)\n",
      "    (2): Embedding(7, 4)\n",
      "  )\n",
      "  (emb_drop): Dropout(p=0.4, inplace=False)\n",
      "  (bn_cont): BatchNorm1d(6, eps=1e-05, momentum=0.1, affine=True, track_running_stats=True)\n",
      "  (layers): Sequential(\n",
      "    (0): Linear(in_features=23, out_features=200, bias=True)\n",
      "    (1): ReLU(inplace=True)\n",
      "    (2): BatchNorm1d(200, eps=1e-05, momentum=0.1, affine=True, track_running_stats=True)\n",
      "    (3): Dropout(p=0.4, inplace=False)\n",
      "    (4): Linear(in_features=200, out_features=100, bias=True)\n",
      "    (5): ReLU(inplace=True)\n",
      "    (6): BatchNorm1d(100, eps=1e-05, momentum=0.1, affine=True, track_running_stats=True)\n",
      "    (7): Dropout(p=0.4, inplace=False)\n",
      "    (8): Linear(in_features=100, out_features=1, bias=True)\n",
      "  )\n",
      ")\n"
     ]
    }
   ],
   "source": [
    "class TabularModel(nn.Module):\n",
    "\n",
    "    def __init__(self, emb_szs, n_cont, out_sz, layers: list[int], p=0.5):\n",
    "        super().__init__()\n",
    "\n",
    "        self.embeds = nn.ModuleList([nn.Embedding(ni, nf) for ni, nf in emb_szs])\n",
    "\n",
    "        self.emb_drop = nn.Dropout(p)\n",
    "\n",
    "        self.bn_cont = nn.BatchNorm1d(n_cont)\n",
    "\n",
    "        # budowanie sieci MLP\n",
    "\n",
    "        layerlist = []\n",
    "        n_emb = sum((nf for ni, nf in emb_szs))\n",
    "        n_in = n_emb + n_cont\n",
    "\n",
    "        for i in layers:\n",
    "\n",
    "            layerlist.append(nn.Linear(n_in, i))\n",
    "            layerlist.append(nn.ReLU(inplace=True))\n",
    "            layerlist.append(nn.BatchNorm1d(i))\n",
    "            layerlist.append(nn.Dropout(p))\n",
    "            n_in = i\n",
    "\n",
    "        layerlist.append(nn.Linear(layers[-1], out_sz))\n",
    "\n",
    "        self.layers = nn.Sequential(\n",
    "            *layerlist\n",
    "        )\n",
    "\n",
    "    def forward(self, X_cat, x_cont):\n",
    "        embeddings = []\n",
    "        for i, e in enumerate(self.embeds):\n",
    "            # wektor embeddingu dla danej kolumny\n",
    "            embeddings.append(e(X_cat[:, i]))\n",
    "\n",
    "        # sklejanie emebeddingow w jedna macierz\n",
    "        x = torch.cat(embeddings, 1)\n",
    "\n",
    "        # dropout na embeddingu - zerowanie niektoryuch - randomoweo\n",
    "        x = self.emb_drop(x)\n",
    "\n",
    "        # normalizacja cech ciaglych\n",
    "        x_cont = self.bn_cont(x_cont)\n",
    "\n",
    "        # polaczenie embeddingow i cech ciaglych\n",
    "        x = torch.cat([x, x_cont], 1)\n",
    "\n",
    "        # przepuszczamy to co przygotowalismy przez nasza siec MLP\n",
    "        x = self.layers(x)\n",
    "        return x\n",
    "\n",
    "\n",
    "torch.manual_seed(33)\n",
    "\n",
    "model = TabularModel(emb_szs=emb_szs, n_cont=len(cont_cols), out_sz=1, layers=[200, 100], p=0.4)\n",
    "print(model)\n",
    "\n",
    "        \n",
    "            \n",
    "            \n",
    "            \n",
    "        \n",
    "        "
   ]
  },
  {
   "cell_type": "code",
   "execution_count": 93,
   "id": "ce1f54d4-b439-48f4-aa19-0e620c68bd14",
   "metadata": {},
   "outputs": [],
   "source": [
    "criterion = nn.MSELoss()\n",
    "optimizer = torch.optim.Adam(model.parameters(), lr=0.001)"
   ]
  },
  {
   "cell_type": "code",
   "execution_count": 94,
   "id": "ab5d64c8-be27-4258-a919-bfde03042205",
   "metadata": {},
   "outputs": [],
   "source": [
    "batch_size = 60000\n",
    "test_size = int(batch_size * .2)\n",
    "\n",
    "cat_train = cats[:batch_size - test_size]\n",
    "cat_test = cats[batch_size - test_size: batch_size]\n",
    "\n",
    "con_train = conts[:batch_size - test_size]\n",
    "con_test = conts[batch_size - test_size: batch_size]\n",
    "\n",
    "\n",
    "y_train = y[:batch_size - test_size]\n",
    "y_test = y[batch_size - test_size: batch_size]"
   ]
  },
  {
   "cell_type": "code",
   "execution_count": 95,
   "id": "79cc7c0d-861d-4ea9-a525-b3948ece9083",
   "metadata": {},
   "outputs": [
    {
     "data": {
      "text/plain": [
       "(48000, 12000)"
      ]
     },
     "execution_count": 95,
     "metadata": {},
     "output_type": "execute_result"
    }
   ],
   "source": [
    "len(y_train), len(y_test)"
   ]
  },
  {
   "cell_type": "code",
   "execution_count": 96,
   "id": "00a1ab55-4e48-4614-81c7-b6e0e4ff7043",
   "metadata": {},
   "outputs": [
    {
     "name": "stdout",
     "output_type": "stream",
     "text": [
      "Epoch  25 10.95196724\n",
      "Epoch  50 10.25776958\n",
      "Epoch  75 9.75834846\n",
      "Epoch 100 9.19385719\n",
      "Epoch 125 8.42674351\n",
      "Epoch 150 7.42833567\n",
      "Epoch 175 6.25619125\n",
      "Epoch 200 5.05952406\n",
      "Epoch 225 4.20975542\n",
      "Epoch 250 3.87423420\n",
      "Epoch 275 3.77017927\n",
      "Epoch 300 3.70039654\n",
      "Epoch 325 3.63196564\n",
      "Epoch 350 3.58411670\n",
      "Epoch 375 3.53231406\n",
      "Epoch 400 3.50454187\n",
      "CPU times: user 1min 8s, sys: 2.05 s, total: 1min 10s\n",
      "Wall time: 41.6 s\n"
     ]
    }
   ],
   "source": [
    "%%time\n",
    "\n",
    "epochs = a\n",
    "losses = []\n",
    "\n",
    "\n",
    "for i in range(1, epochs + 1):\n",
    "\n",
    "    y_pred = model(cat_train, con_train)\n",
    "    loss = torch.sqrt(criterion(y_pred, y_train))\n",
    "    losses.append(loss)\n",
    "\n",
    "    if i % 25 == 0: print(f\"Epoch {i:3} {loss.item():10.8f}\")\n",
    "\n",
    "    optimizer.zero_grad()\n",
    "    loss.backward()\n",
    "    optimizer.step()\n",
    "    \n"
   ]
  },
  {
   "cell_type": "code",
   "execution_count": 97,
   "id": "c1a78a98-62b4-4b91-ab33-aa6d50803ae2",
   "metadata": {},
   "outputs": [
    {
     "data": {
      "image/png": "[encoded data removed]",
      "text/plain": [
       "<Figure size 640x480 with 1 Axes>"
      ]
     },
     "metadata": {},
     "output_type": "display_data"
    }
   ],
   "source": [
    "import matplotlib.pyplot as plt\n",
    "\n",
    "plt.plot(range(epochs), [loss.detach().numpy() for loss in losses])\n",
    "plt.ylabel('RMSE Loss')\n",
    "plt.xlabel('epoch');"
   ]
  },
  {
   "cell_type": "code",
   "execution_count": 98,
   "id": "e5d7c538-f55a-4935-9586-9150f3e721d7",
   "metadata": {},
   "outputs": [
    {
     "name": "stdout",
     "output_type": "stream",
     "text": [
      "RMSE: 3.40572357\n"
     ]
    }
   ],
   "source": [
    "# ABY OCENIĆ CAŁY ZBIÓR TESTOWY\n",
    "with torch.no_grad():\n",
    "    y_val = model(cat_test, con_test)\n",
    "    loss = torch.sqrt(criterion(y_val, y_test))\n",
    "print(f'RMSE: {loss:.8f}')"
   ]
  },
  {
   "cell_type": "code",
   "execution_count": 99,
   "id": "e6191019-bd36-43dc-9741-d73bf0f4d277",
   "metadata": {},
   "outputs": [
    {
     "data": {
      "text/html": [
       "<div>\n",
       "<style scoped>\n",
       "    .dataframe tbody tr th:only-of-type {\n",
       "        vertical-align: middle;\n",
       "    }\n",
       "\n",
       "    .dataframe tbody tr th {\n",
       "        vertical-align: top;\n",
       "    }\n",
       "\n",
       "    .dataframe thead th {\n",
       "        text-align: right;\n",
       "    }\n",
       "</style>\n",
       "<table border=\"1\" class=\"dataframe\">\n",
       "  <thead>\n",
       "    <tr style=\"text-align: right;\">\n",
       "      <th></th>\n",
       "      <th>pickup_datetime</th>\n",
       "      <th>fare_amount</th>\n",
       "      <th>fare_class</th>\n",
       "      <th>pickup_longitude</th>\n",
       "      <th>pickup_latitude</th>\n",
       "      <th>dropoff_longitude</th>\n",
       "      <th>dropoff_latitude</th>\n",
       "      <th>passenger_count</th>\n",
       "      <th>EDTdate</th>\n",
       "      <th>Hour</th>\n",
       "      <th>AMorPM</th>\n",
       "      <th>Weekday</th>\n",
       "      <th>dist_km</th>\n",
       "    </tr>\n",
       "  </thead>\n",
       "  <tbody>\n",
       "    <tr>\n",
       "      <th>0</th>\n",
       "      <td>2010-04-19 08:17:56 UTC</td>\n",
       "      <td>6.5</td>\n",
       "      <td>0</td>\n",
       "      <td>-73.992365</td>\n",
       "      <td>40.730521</td>\n",
       "      <td>-73.975499</td>\n",
       "      <td>40.744746</td>\n",
       "      <td>1</td>\n",
       "      <td>2010-04-19 04:17:56</td>\n",
       "      <td>4</td>\n",
       "      <td>am</td>\n",
       "      <td>Mon</td>\n",
       "      <td>2.126312</td>\n",
       "    </tr>\n",
       "    <tr>\n",
       "      <th>1</th>\n",
       "      <td>2010-04-17 15:43:53 UTC</td>\n",
       "      <td>6.9</td>\n",
       "      <td>0</td>\n",
       "      <td>-73.990078</td>\n",
       "      <td>40.740558</td>\n",
       "      <td>-73.974232</td>\n",
       "      <td>40.744114</td>\n",
       "      <td>1</td>\n",
       "      <td>2010-04-17 11:43:53</td>\n",
       "      <td>11</td>\n",
       "      <td>am</td>\n",
       "      <td>Sat</td>\n",
       "      <td>1.392307</td>\n",
       "    </tr>\n",
       "    <tr>\n",
       "      <th>2</th>\n",
       "      <td>2010-04-17 11:23:26 UTC</td>\n",
       "      <td>10.1</td>\n",
       "      <td>1</td>\n",
       "      <td>-73.994149</td>\n",
       "      <td>40.751118</td>\n",
       "      <td>-73.960064</td>\n",
       "      <td>40.766235</td>\n",
       "      <td>2</td>\n",
       "      <td>2010-04-17 07:23:26</td>\n",
       "      <td>7</td>\n",
       "      <td>am</td>\n",
       "      <td>Sat</td>\n",
       "      <td>3.326763</td>\n",
       "    </tr>\n",
       "    <tr>\n",
       "      <th>3</th>\n",
       "      <td>2010-04-11 21:25:03 UTC</td>\n",
       "      <td>8.9</td>\n",
       "      <td>0</td>\n",
       "      <td>-73.990485</td>\n",
       "      <td>40.756422</td>\n",
       "      <td>-73.971205</td>\n",
       "      <td>40.748192</td>\n",
       "      <td>1</td>\n",
       "      <td>2010-04-11 17:25:03</td>\n",
       "      <td>17</td>\n",
       "      <td>pm</td>\n",
       "      <td>Sun</td>\n",
       "      <td>1.864129</td>\n",
       "    </tr>\n",
       "    <tr>\n",
       "      <th>4</th>\n",
       "      <td>2010-04-17 02:19:01 UTC</td>\n",
       "      <td>19.7</td>\n",
       "      <td>1</td>\n",
       "      <td>-73.990976</td>\n",
       "      <td>40.734202</td>\n",
       "      <td>-73.905956</td>\n",
       "      <td>40.743115</td>\n",
       "      <td>1</td>\n",
       "      <td>2010-04-16 22:19:01</td>\n",
       "      <td>22</td>\n",
       "      <td>pm</td>\n",
       "      <td>Fri</td>\n",
       "      <td>7.231321</td>\n",
       "    </tr>\n",
       "    <tr>\n",
       "      <th>...</th>\n",
       "      <td>...</td>\n",
       "      <td>...</td>\n",
       "      <td>...</td>\n",
       "      <td>...</td>\n",
       "      <td>...</td>\n",
       "      <td>...</td>\n",
       "      <td>...</td>\n",
       "      <td>...</td>\n",
       "      <td>...</td>\n",
       "      <td>...</td>\n",
       "      <td>...</td>\n",
       "      <td>...</td>\n",
       "      <td>...</td>\n",
       "    </tr>\n",
       "    <tr>\n",
       "      <th>119995</th>\n",
       "      <td>2010-04-18 14:33:03 UTC</td>\n",
       "      <td>15.3</td>\n",
       "      <td>1</td>\n",
       "      <td>-73.955857</td>\n",
       "      <td>40.784590</td>\n",
       "      <td>-73.981941</td>\n",
       "      <td>40.736789</td>\n",
       "      <td>1</td>\n",
       "      <td>2010-04-18 10:33:03</td>\n",
       "      <td>10</td>\n",
       "      <td>am</td>\n",
       "      <td>Sun</td>\n",
       "      <td>5.751348</td>\n",
       "    </tr>\n",
       "    <tr>\n",
       "      <th>119996</th>\n",
       "      <td>2010-04-23 10:27:48 UTC</td>\n",
       "      <td>15.3</td>\n",
       "      <td>1</td>\n",
       "      <td>-73.996329</td>\n",
       "      <td>40.772727</td>\n",
       "      <td>-74.049890</td>\n",
       "      <td>40.740413</td>\n",
       "      <td>1</td>\n",
       "      <td>2010-04-23 06:27:48</td>\n",
       "      <td>6</td>\n",
       "      <td>am</td>\n",
       "      <td>Fri</td>\n",
       "      <td>5.767444</td>\n",
       "    </tr>\n",
       "    <tr>\n",
       "      <th>119997</th>\n",
       "      <td>2010-04-18 18:50:40 UTC</td>\n",
       "      <td>12.5</td>\n",
       "      <td>1</td>\n",
       "      <td>-73.988574</td>\n",
       "      <td>40.749772</td>\n",
       "      <td>-74.011541</td>\n",
       "      <td>40.707799</td>\n",
       "      <td>3</td>\n",
       "      <td>2010-04-18 14:50:40</td>\n",
       "      <td>14</td>\n",
       "      <td>pm</td>\n",
       "      <td>Sun</td>\n",
       "      <td>5.052523</td>\n",
       "    </tr>\n",
       "    <tr>\n",
       "      <th>119998</th>\n",
       "      <td>2010-04-13 08:14:44 UTC</td>\n",
       "      <td>4.9</td>\n",
       "      <td>0</td>\n",
       "      <td>-74.004449</td>\n",
       "      <td>40.724529</td>\n",
       "      <td>-73.992697</td>\n",
       "      <td>40.730765</td>\n",
       "      <td>1</td>\n",
       "      <td>2010-04-13 04:14:44</td>\n",
       "      <td>4</td>\n",
       "      <td>am</td>\n",
       "      <td>Tue</td>\n",
       "      <td>1.208923</td>\n",
       "    </tr>\n",
       "    <tr>\n",
       "      <th>119999</th>\n",
       "      <td>2010-04-17 16:00:14 UTC</td>\n",
       "      <td>5.3</td>\n",
       "      <td>0</td>\n",
       "      <td>-73.955415</td>\n",
       "      <td>40.771920</td>\n",
       "      <td>-73.967623</td>\n",
       "      <td>40.763015</td>\n",
       "      <td>3</td>\n",
       "      <td>2010-04-17 12:00:14</td>\n",
       "      <td>12</td>\n",
       "      <td>pm</td>\n",
       "      <td>Sat</td>\n",
       "      <td>1.427399</td>\n",
       "    </tr>\n",
       "  </tbody>\n",
       "</table>\n",
       "<p>120000 rows × 13 columns</p>\n",
       "</div>"
      ],
      "text/plain": [
       "                pickup_datetime  fare_amount  fare_class  pickup_longitude  \\\n",
       "0       2010-04-19 08:17:56 UTC          6.5           0        -73.992365   \n",
       "1       2010-04-17 15:43:53 UTC          6.9           0        -73.990078   \n",
       "2       2010-04-17 11:23:26 UTC         10.1           1        -73.994149   \n",
       "3       2010-04-11 21:25:03 UTC          8.9           0        -73.990485   \n",
       "4       2010-04-17 02:19:01 UTC         19.7           1        -73.990976   \n",
       "...                         ...          ...         ...               ...   \n",
       "119995  2010-04-18 14:33:03 UTC         15.3           1        -73.955857   \n",
       "119996  2010-04-23 10:27:48 UTC         15.3           1        -73.996329   \n",
       "119997  2010-04-18 18:50:40 UTC         12.5           1        -73.988574   \n",
       "119998  2010-04-13 08:14:44 UTC          4.9           0        -74.004449   \n",
       "119999  2010-04-17 16:00:14 UTC          5.3           0        -73.955415   \n",
       "\n",
       "        pickup_latitude  dropoff_longitude  dropoff_latitude  passenger_count  \\\n",
       "0             40.730521         -73.975499         40.744746                1   \n",
       "1             40.740558         -73.974232         40.744114                1   \n",
       "2             40.751118         -73.960064         40.766235                2   \n",
       "3             40.756422         -73.971205         40.748192                1   \n",
       "4             40.734202         -73.905956         40.743115                1   \n",
       "...                 ...                ...               ...              ...   \n",
       "119995        40.784590         -73.981941         40.736789                1   \n",
       "119996        40.772727         -74.049890         40.740413                1   \n",
       "119997        40.749772         -74.011541         40.707799                3   \n",
       "119998        40.724529         -73.992697         40.730765                1   \n",
       "119999        40.771920         -73.967623         40.763015                3   \n",
       "\n",
       "                   EDTdate Hour AMorPM Weekday   dist_km  \n",
       "0      2010-04-19 04:17:56    4     am     Mon  2.126312  \n",
       "1      2010-04-17 11:43:53   11     am     Sat  1.392307  \n",
       "2      2010-04-17 07:23:26    7     am     Sat  3.326763  \n",
       "3      2010-04-11 17:25:03   17     pm     Sun  1.864129  \n",
       "4      2010-04-16 22:19:01   22     pm     Fri  7.231321  \n",
       "...                    ...  ...    ...     ...       ...  \n",
       "119995 2010-04-18 10:33:03   10     am     Sun  5.751348  \n",
       "119996 2010-04-23 06:27:48    6     am     Fri  5.767444  \n",
       "119997 2010-04-18 14:50:40   14     pm     Sun  5.052523  \n",
       "119998 2010-04-13 04:14:44    4     am     Tue  1.208923  \n",
       "119999 2010-04-17 12:00:14   12     pm     Sat  1.427399  \n",
       "\n",
       "[120000 rows x 13 columns]"
      ]
     },
     "execution_count": 99,
     "metadata": {},
     "output_type": "execute_result"
    }
   ],
   "source": [
    "df"
   ]
  },
  {
   "cell_type": "code",
   "execution_count": 100,
   "id": "56bf7cfb-eca3-43df-b51e-cd99f66a25bf",
   "metadata": {},
   "outputs": [
    {
     "data": {
      "text/plain": [
       "Index(['pickup_datetime', 'fare_amount', 'fare_class', 'pickup_longitude',\n",
       "       'pickup_latitude', 'dropoff_longitude', 'dropoff_latitude',\n",
       "       'passenger_count', 'EDTdate', 'Hour', 'AMorPM', 'Weekday', 'dist_km'],\n",
       "      dtype='object')"
      ]
     },
     "execution_count": 100,
     "metadata": {},
     "output_type": "execute_result"
    }
   ],
   "source": [
    "df.columns"
   ]
  },
  {
   "cell_type": "code",
   "execution_count": 101,
   "id": "abbaa815-943b-4424-9ef2-e1c75b90f392",
   "metadata": {},
   "outputs": [],
   "source": [
    "def test_data(mdl):\n",
    "    mdl.eval()  # przełączamy w tryb ewaluacji, żeby BatchNorm i Dropout działały poprawnie\n",
    "\n",
    "    # --- WPROWADŹ NOWE DANE ---\n",
    "    plat = float(input('What is the pickup latitude?  '))\n",
    "    plong = float(input('What is the pickup longitude? '))\n",
    "    dlat = float(input('What is the dropoff latitude?  '))\n",
    "    dlong = float(input('What is the dropoff longitude? '))\n",
    "    psngr = int(input('How many passengers? '))\n",
    "    dt = input('What is the pickup date and time?\\nFormat as YYYY-MM-DD HH:MM:SS     ')\n",
    "\n",
    "    # --- PRZETWÓRZ DANE ---\n",
    "    dfx_dict = {\n",
    "        'pickup_latitude': plat,\n",
    "        'pickup_longitude': plong,\n",
    "        'dropoff_latitude': dlat,\n",
    "        'dropoff_longitude': dlong,\n",
    "        'passenger_count': psngr,\n",
    "        'EDTdate': dt\n",
    "    }\n",
    "    dfx = pd.DataFrame(dfx_dict, index=[0])\n",
    "\n",
    "    dfx['dist_km'] = haversine_distance(\n",
    "        dfx, 'pickup_latitude', 'pickup_longitude',\n",
    "        'dropoff_latitude', 'dropoff_longitude'\n",
    "    )\n",
    "    dfx['EDTdate'] = pd.to_datetime(dfx['EDTdate'])\n",
    "\n",
    "    dfx['Hour'] = dfx['EDTdate'].dt.hour\n",
    "    dfx['AMorPM'] = np.where(dfx['Hour'] < 12, 0, 1)\n",
    "    dfx['Weekday'] = dfx['EDTdate'].dt.strftime(\"%a\")\n",
    "    dfx['Weekday'] = dfx['Weekday'].replace(\n",
    "        ['Fri','Mon','Sat','Sun','Thu','Tue','Wed'],\n",
    "        [0,1,2,3,4,5,6]\n",
    "    ).astype('int64')\n",
    "\n",
    "    # --- UTWÓRZ TENSORY ---\n",
    "    cat_cols = ['Hour', 'AMorPM', 'Weekday']\n",
    "    cont_cols = [\n",
    "        'pickup_latitude', 'pickup_longitude', 'dropoff_latitude',\n",
    "        'dropoff_longitude', 'passenger_count', 'dist_km'\n",
    "    ]\n",
    "\n",
    "    xcats = np.stack([dfx[col].values for col in cat_cols], 1)\n",
    "    xcats = torch.tensor(xcats, dtype=torch.int64)\n",
    "\n",
    "    xconts = np.stack([dfx[col].values for col in cont_cols], 1)\n",
    "    xconts = torch.tensor(xconts, dtype=torch.float)\n",
    "\n",
    "    # --- PREDYKCJA ---\n",
    "    with torch.no_grad():\n",
    "        z = mdl(xcats, xconts).item()   # jedna liczba zamiast argmax()\n",
    "\n",
    "    print(f'\\nThe predicted fare is ${z:.2f}')\n"
   ]
  },
  {
   "cell_type": "code",
   "execution_count": 104,
   "id": "57a942dc-c1f8-46df-8b4c-ebdb486d8e70",
   "metadata": {},
   "outputs": [],
   "source": [
    "\n",
    "def build_dataframe(\n",
    "    plat: float, plong: float,\n",
    "    dlat: float, dlong: float,\n",
    "    psngr: int, dt: str\n",
    ") -> pd.DataFrame:\n",
    "    \"\"\"Buduje bazowy DataFrame z pojedynczym rekordem.\"\"\"\n",
    "    return pd.DataFrame({\n",
    "        'pickup_latitude': plat,\n",
    "        'pickup_longitude': plong,\n",
    "        'dropoff_latitude': dlat,\n",
    "        'dropoff_longitude': dlong,\n",
    "        'passenger_count': psngr,\n",
    "        'EDTdate': pd.to_datetime(dt)\n",
    "    }, index=[0])\n",
    "\n",
    "\n",
    "def add_distance_feature(df: pd.DataFrame) -> pd.DataFrame:\n",
    "    \"\"\"Dodaje kolumnę z odległością (w km).\"\"\"\n",
    "    df['dist_km'] = haversine_distance(\n",
    "        df, 'pickup_latitude', 'pickup_longitude',\n",
    "        'dropoff_latitude', 'dropoff_longitude'\n",
    "    )\n",
    "    return df\n",
    "\n",
    "\n",
    "def add_datetime_features(df: pd.DataFrame) -> pd.DataFrame:\n",
    "    \"\"\"Dodaje cechy związane z czasem (Hour, AMorPM, Weekday).\"\"\"\n",
    "    df['Hour'] = df['EDTdate'].dt.hour\n",
    "    df['AMorPM'] = np.where(df['Hour'] < 12, 0, 1)\n",
    "    df['Weekday'] = (\n",
    "        df['EDTdate']\n",
    "        .dt.strftime(\"%a\")\n",
    "        .replace(\n",
    "            ['Fri','Mon','Sat','Sun','Thu','Tue','Wed'],\n",
    "            [0,1,2,3,4,5,6]\n",
    "        )\n",
    "        .astype('int64')\n",
    "    )\n",
    "    return df\n",
    "\n",
    "\n",
    "def dataframe_to_tensors(df: pd.DataFrame) -> tuple[torch.Tensor, torch.Tensor]:\n",
    "    \"\"\"Konwertuje DataFrame do tensorów kategorii i wartości ciągłych.\"\"\"\n",
    "    cat_cols = ['Hour', 'AMorPM', 'Weekday']\n",
    "    cont_cols = [\n",
    "        'pickup_latitude', 'pickup_longitude',\n",
    "        'dropoff_latitude', 'dropoff_longitude',\n",
    "        'passenger_count', 'dist_km'\n",
    "    ]\n",
    "\n",
    "    xcats = torch.tensor(\n",
    "        np.stack([df[col].values for col in cat_cols], 1),\n",
    "        dtype=torch.int64\n",
    "    )\n",
    "    xconts = torch.tensor(\n",
    "        np.stack([df[col].values for col in cont_cols], 1),\n",
    "        dtype=torch.float\n",
    "    )\n",
    "    return xcats, xconts\n",
    "\n",
    "\n",
    "def prepare_features(\n",
    "    plat: float, plong: float,\n",
    "    dlat: float, dlong: float,\n",
    "    psngr: int, dt: str\n",
    ") -> tuple[torch.Tensor, torch.Tensor]:\n",
    "    \"\"\"\n",
    "    Przygotowuje cechy wejściowe (kategoryczne i ciągłe) \n",
    "    na podstawie podanych parametrów.\n",
    "    \"\"\"\n",
    "    df = build_dataframe(plat, plong, dlat, dlong, psngr, dt)\n",
    "    df = add_distance_feature(df)\n",
    "    df = add_datetime_features(df)\n",
    "    return dataframe_to_tensors(df)\n",
    "\n",
    "\n",
    "def predict_fare(\n",
    "    model,\n",
    "    plat: float, plong: float,\n",
    "    dlat: float, dlong: float,\n",
    "    psngr: int, dt: str\n",
    ") -> float:\n",
    "    \"\"\"\n",
    "    Zwraca przewidywaną opłatę za kurs taksówką na podstawie modelu i parametrów wejściowych.\n",
    "    \"\"\"\n",
    "    xcats, xconts = prepare_features(plat, plong, dlat, dlong, psngr, dt)\n",
    "\n",
    "    with torch.no_grad():\n",
    "        prediction = model(xcats, xconts)\n",
    "\n",
    "    return prediction.item()\n"
   ]
  },
  {
   "cell_type": "code",
   "execution_count": 106,
   "id": "bc8911f6-4c81-4925-a0bd-cac01c6ca0f7",
   "metadata": {},
   "outputs": [
    {
     "name": "stdout",
     "output_type": "stream",
     "text": [
      "The predicted fare amount is $3974.72\n"
     ]
    },
    {
     "name": "stderr",
     "output_type": "stream",
     "text": [
      "/var/folders/ff/6wst9f1n1g96lc__ld426szh0000gn/T/ipykernel_80126/1711164533.py:33: FutureWarning: Downcasting behavior in `replace` is deprecated and will be removed in a future version. To retain the old behavior, explicitly call `result.infer_objects(copy=False)`. To opt-in to the future behavior, set `pd.set_option('future.no_silent_downcasting', True)`\n",
      "  .replace(\n"
     ]
    }
   ],
   "source": [
    "fare = predict_fare(\n",
    "    model,\n",
    "    plat=40.0,\n",
    "    plong=-74.5,\n",
    "    dlat=41,\n",
    "    dlong=-73.3,\n",
    "    psngr=1,\n",
    "    dt=\"2010-04-12 08:24:00\"\n",
    ")\n",
    "print(f\"The predicted fare amount is ${fare:.2f}\")"
   ]
  },
  {
   "cell_type": "code",
   "execution_count": 102,
   "id": "df7d9dd6-cbca-465e-a8f8-04097fa9da6b",
   "metadata": {},
   "outputs": [
    {
     "name": "stdin",
     "output_type": "stream",
     "text": [
      "What is the pickup latitude?   40\n",
      "What is the pickup longitude?  -74.5\n",
      "What is the dropoff latitude?   41\n",
      "What is the dropoff longitude?  -73\n",
      "How many passengers?  1\n",
      "What is the pickup date and time?\n",
      "Format as YYYY-MM-DD HH:MM:SS      2010-04-14 10:00:00\n"
     ]
    },
    {
     "name": "stdout",
     "output_type": "stream",
     "text": [
      "\n",
      "The predicted fare is $3971.45\n"
     ]
    },
    {
     "name": "stderr",
     "output_type": "stream",
     "text": [
      "/var/folders/ff/6wst9f1n1g96lc__ld426szh0000gn/T/ipykernel_80126/2620645930.py:32: FutureWarning: Downcasting behavior in `replace` is deprecated and will be removed in a future version. To retain the old behavior, explicitly call `result.infer_objects(copy=False)`. To opt-in to the future behavior, set `pd.set_option('future.no_silent_downcasting', True)`\n",
      "  dfx['Weekday'] = dfx['Weekday'].replace(\n"
     ]
    }
   ],
   "source": [
    "test_data(model)"
   ]
  },
  {
   "cell_type": "code",
   "execution_count": null,
   "id": "cc65bec2-767a-49b2-8f96-ec6f3e98f47c",
   "metadata": {},
   "outputs": [],
   "source": []
  }
 ],
 "metadata": {
  "kernelspec": {
   "display_name": "Python 3 (ipykernel)",
   "language": "python",
   "name": "python3"
  },
  "language_info": {
   "codemirror_mode": {
    "name": "ipython",
    "version": 3
   },
   "file_extension": ".py",
   "mimetype": "text/x-python",
   "name": "python",
   "nbconvert_exporter": "python",
   "pygments_lexer": "ipython3",
   "version": "3.12.9"
  }
 },
 "nbformat": 4,
 "nbformat_minor": 5
}
